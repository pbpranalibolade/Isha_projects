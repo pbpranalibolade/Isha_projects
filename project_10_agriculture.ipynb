{
 "cells": [
  {
   "cell_type": "code",
   "execution_count": 791,
   "metadata": {},
   "outputs": [],
   "source": [
    "x_test=pd.read_excel(\"test_agriculture.xlsx\")\n",
    "x_train=pd.read_excel(\"train_agriculture.xlsx\")"
   ]
  },
  {
   "cell_type": "code",
   "execution_count": 792,
   "metadata": {},
   "outputs": [],
   "source": [
    "x_test=x_test.drop(columns=[\"ID\"])\n",
    "x_train=x_train.drop(columns=[\"ID\"])"
   ]
  },
  {
   "cell_type": "code",
   "execution_count": 793,
   "metadata": {},
   "outputs": [],
   "source": [
    "df = pd.concat([x_test, x_train])"
   ]
  },
  {
   "cell_type": "code",
   "execution_count": 794,
   "metadata": {},
   "outputs": [
    {
     "data": {
      "text/html": [
       "<div>\n",
       "<style scoped>\n",
       "    .dataframe tbody tr th:only-of-type {\n",
       "        vertical-align: middle;\n",
       "    }\n",
       "\n",
       "    .dataframe tbody tr th {\n",
       "        vertical-align: top;\n",
       "    }\n",
       "\n",
       "    .dataframe thead th {\n",
       "        text-align: right;\n",
       "    }\n",
       "</style>\n",
       "<table border=\"1\" class=\"dataframe\">\n",
       "  <thead>\n",
       "    <tr style=\"text-align: right;\">\n",
       "      <th></th>\n",
       "      <th>Estimated_Insects_Count</th>\n",
       "      <th>Crop_Type</th>\n",
       "      <th>Soil_Type</th>\n",
       "      <th>Pesticide_Use_Category</th>\n",
       "      <th>Number_Doses_Week</th>\n",
       "      <th>Number_Weeks_Used</th>\n",
       "      <th>Number_Weeks_Quit</th>\n",
       "      <th>Season</th>\n",
       "      <th>Crop_Damage</th>\n",
       "    </tr>\n",
       "  </thead>\n",
       "  <tbody>\n",
       "    <tr>\n",
       "      <th>0</th>\n",
       "      <td>188</td>\n",
       "      <td>1</td>\n",
       "      <td>1</td>\n",
       "      <td>1</td>\n",
       "      <td>0</td>\n",
       "      <td>NaN</td>\n",
       "      <td>0</td>\n",
       "      <td>2</td>\n",
       "      <td>NaN</td>\n",
       "    </tr>\n",
       "    <tr>\n",
       "      <th>1</th>\n",
       "      <td>410</td>\n",
       "      <td>1</td>\n",
       "      <td>1</td>\n",
       "      <td>1</td>\n",
       "      <td>0</td>\n",
       "      <td>0.0</td>\n",
       "      <td>0</td>\n",
       "      <td>2</td>\n",
       "      <td>NaN</td>\n",
       "    </tr>\n",
       "    <tr>\n",
       "      <th>2</th>\n",
       "      <td>626</td>\n",
       "      <td>1</td>\n",
       "      <td>0</td>\n",
       "      <td>1</td>\n",
       "      <td>0</td>\n",
       "      <td>0.0</td>\n",
       "      <td>0</td>\n",
       "      <td>2</td>\n",
       "      <td>NaN</td>\n",
       "    </tr>\n",
       "    <tr>\n",
       "      <th>3</th>\n",
       "      <td>731</td>\n",
       "      <td>1</td>\n",
       "      <td>0</td>\n",
       "      <td>1</td>\n",
       "      <td>0</td>\n",
       "      <td>0.0</td>\n",
       "      <td>0</td>\n",
       "      <td>2</td>\n",
       "      <td>NaN</td>\n",
       "    </tr>\n",
       "    <tr>\n",
       "      <th>4</th>\n",
       "      <td>789</td>\n",
       "      <td>0</td>\n",
       "      <td>0</td>\n",
       "      <td>1</td>\n",
       "      <td>0</td>\n",
       "      <td>0.0</td>\n",
       "      <td>0</td>\n",
       "      <td>1</td>\n",
       "      <td>NaN</td>\n",
       "    </tr>\n",
       "    <tr>\n",
       "      <th>...</th>\n",
       "      <td>...</td>\n",
       "      <td>...</td>\n",
       "      <td>...</td>\n",
       "      <td>...</td>\n",
       "      <td>...</td>\n",
       "      <td>...</td>\n",
       "      <td>...</td>\n",
       "      <td>...</td>\n",
       "      <td>...</td>\n",
       "    </tr>\n",
       "    <tr>\n",
       "      <th>4594</th>\n",
       "      <td>2138</td>\n",
       "      <td>0</td>\n",
       "      <td>1</td>\n",
       "      <td>2</td>\n",
       "      <td>20</td>\n",
       "      <td>NaN</td>\n",
       "      <td>1</td>\n",
       "      <td>1</td>\n",
       "      <td>1.0</td>\n",
       "    </tr>\n",
       "    <tr>\n",
       "      <th>4595</th>\n",
       "      <td>2139</td>\n",
       "      <td>0</td>\n",
       "      <td>1</td>\n",
       "      <td>2</td>\n",
       "      <td>30</td>\n",
       "      <td>47.0</td>\n",
       "      <td>2</td>\n",
       "      <td>1</td>\n",
       "      <td>1.0</td>\n",
       "    </tr>\n",
       "    <tr>\n",
       "      <th>4596</th>\n",
       "      <td>2267</td>\n",
       "      <td>0</td>\n",
       "      <td>1</td>\n",
       "      <td>2</td>\n",
       "      <td>10</td>\n",
       "      <td>7.0</td>\n",
       "      <td>27</td>\n",
       "      <td>2</td>\n",
       "      <td>0.0</td>\n",
       "    </tr>\n",
       "    <tr>\n",
       "      <th>4597</th>\n",
       "      <td>2267</td>\n",
       "      <td>0</td>\n",
       "      <td>1</td>\n",
       "      <td>2</td>\n",
       "      <td>10</td>\n",
       "      <td>20.0</td>\n",
       "      <td>24</td>\n",
       "      <td>2</td>\n",
       "      <td>0.0</td>\n",
       "    </tr>\n",
       "    <tr>\n",
       "      <th>4598</th>\n",
       "      <td>2267</td>\n",
       "      <td>0</td>\n",
       "      <td>1</td>\n",
       "      <td>2</td>\n",
       "      <td>10</td>\n",
       "      <td>33.0</td>\n",
       "      <td>17</td>\n",
       "      <td>2</td>\n",
       "      <td>0.0</td>\n",
       "    </tr>\n",
       "  </tbody>\n",
       "</table>\n",
       "<p>5798 rows × 9 columns</p>\n",
       "</div>"
      ],
      "text/plain": [
       "      Estimated_Insects_Count  Crop_Type  Soil_Type  Pesticide_Use_Category  \\\n",
       "0                         188          1          1                       1   \n",
       "1                         410          1          1                       1   \n",
       "2                         626          1          0                       1   \n",
       "3                         731          1          0                       1   \n",
       "4                         789          0          0                       1   \n",
       "...                       ...        ...        ...                     ...   \n",
       "4594                     2138          0          1                       2   \n",
       "4595                     2139          0          1                       2   \n",
       "4596                     2267          0          1                       2   \n",
       "4597                     2267          0          1                       2   \n",
       "4598                     2267          0          1                       2   \n",
       "\n",
       "      Number_Doses_Week  Number_Weeks_Used  Number_Weeks_Quit  Season  \\\n",
       "0                     0                NaN                  0       2   \n",
       "1                     0                0.0                  0       2   \n",
       "2                     0                0.0                  0       2   \n",
       "3                     0                0.0                  0       2   \n",
       "4                     0                0.0                  0       1   \n",
       "...                 ...                ...                ...     ...   \n",
       "4594                 20                NaN                  1       1   \n",
       "4595                 30               47.0                  2       1   \n",
       "4596                 10                7.0                 27       2   \n",
       "4597                 10               20.0                 24       2   \n",
       "4598                 10               33.0                 17       2   \n",
       "\n",
       "      Crop_Damage  \n",
       "0             NaN  \n",
       "1             NaN  \n",
       "2             NaN  \n",
       "3             NaN  \n",
       "4             NaN  \n",
       "...           ...  \n",
       "4594          1.0  \n",
       "4595          1.0  \n",
       "4596          0.0  \n",
       "4597          0.0  \n",
       "4598          0.0  \n",
       "\n",
       "[5798 rows x 9 columns]"
      ]
     },
     "execution_count": 794,
     "metadata": {},
     "output_type": "execute_result"
    }
   ],
   "source": [
    "import pandas as pd\n",
    "import numpy as np\n",
    "#df=pd.read_excel(\"test_agriculture.xlsx\")\n",
    "df"
   ]
  },
  {
   "cell_type": "code",
   "execution_count": 795,
   "metadata": {},
   "outputs": [
    {
     "data": {
      "text/plain": [
       "(5798, 9)"
      ]
     },
     "execution_count": 795,
     "metadata": {},
     "output_type": "execute_result"
    }
   ],
   "source": [
    "df.shape"
   ]
  },
  {
   "cell_type": "code",
   "execution_count": 796,
   "metadata": {},
   "outputs": [
    {
     "data": {
      "text/plain": [
       "Estimated_Insects_Count       0\n",
       "Crop_Type                     0\n",
       "Soil_Type                     0\n",
       "Pesticide_Use_Category        0\n",
       "Number_Doses_Week             0\n",
       "Number_Weeks_Used           561\n",
       "Number_Weeks_Quit             0\n",
       "Season                        0\n",
       "Crop_Damage                1199\n",
       "dtype: int64"
      ]
     },
     "execution_count": 796,
     "metadata": {},
     "output_type": "execute_result"
    }
   ],
   "source": [
    "df.isnull().sum()"
   ]
  },
  {
   "cell_type": "code",
   "execution_count": 797,
   "metadata": {},
   "outputs": [
    {
     "data": {
      "text/plain": [
       "Estimated_Insects_Count      int64\n",
       "Crop_Type                    int64\n",
       "Soil_Type                    int64\n",
       "Pesticide_Use_Category       int64\n",
       "Number_Doses_Week            int64\n",
       "Number_Weeks_Used          float64\n",
       "Number_Weeks_Quit            int64\n",
       "Season                       int64\n",
       "Crop_Damage                float64\n",
       "dtype: object"
      ]
     },
     "execution_count": 797,
     "metadata": {},
     "output_type": "execute_result"
    }
   ],
   "source": [
    "df.dtypes"
   ]
  },
  {
   "cell_type": "code",
   "execution_count": 798,
   "metadata": {},
   "outputs": [],
   "source": [
    "df.dropna(inplace=True)"
   ]
  },
  {
   "cell_type": "code",
   "execution_count": null,
   "metadata": {},
   "outputs": [],
   "source": [
    "sns.barplot(x=\"Number_Weeks_Used\",y=\"Crop_Damage\",data=df)"
   ]
  },
  {
   "cell_type": "code",
   "execution_count": null,
   "metadata": {},
   "outputs": [],
   "source": [
    "sns.barplot(x=\"Estimated_Insects_Count\",y=\"Crop_Damage\",data=df)"
   ]
  },
  {
   "cell_type": "code",
   "execution_count": null,
   "metadata": {},
   "outputs": [],
   "source": [
    "import seaborn as sns\n",
    "import matplotlib.pyplot as plt\n",
    "sns.pairplot(df)\n",
    "plt.show()"
   ]
  },
  {
   "cell_type": "code",
   "execution_count": 800,
   "metadata": {},
   "outputs": [
    {
     "data": {
      "text/html": [
       "<div>\n",
       "<style scoped>\n",
       "    .dataframe tbody tr th:only-of-type {\n",
       "        vertical-align: middle;\n",
       "    }\n",
       "\n",
       "    .dataframe tbody tr th {\n",
       "        vertical-align: top;\n",
       "    }\n",
       "\n",
       "    .dataframe thead th {\n",
       "        text-align: right;\n",
       "    }\n",
       "</style>\n",
       "<table border=\"1\" class=\"dataframe\">\n",
       "  <thead>\n",
       "    <tr style=\"text-align: right;\">\n",
       "      <th></th>\n",
       "      <th>Estimated_Insects_Count</th>\n",
       "      <th>Crop_Type</th>\n",
       "      <th>Soil_Type</th>\n",
       "      <th>Pesticide_Use_Category</th>\n",
       "      <th>Number_Doses_Week</th>\n",
       "      <th>Number_Weeks_Used</th>\n",
       "      <th>Number_Weeks_Quit</th>\n",
       "      <th>Season</th>\n",
       "      <th>Crop_Damage</th>\n",
       "    </tr>\n",
       "  </thead>\n",
       "  <tbody>\n",
       "    <tr>\n",
       "      <th>count</th>\n",
       "      <td>4157.000000</td>\n",
       "      <td>4157.000000</td>\n",
       "      <td>4157.000000</td>\n",
       "      <td>4157.000000</td>\n",
       "      <td>4157.000000</td>\n",
       "      <td>4157.000000</td>\n",
       "      <td>4157.000000</td>\n",
       "      <td>4157.000000</td>\n",
       "      <td>4157.000000</td>\n",
       "    </tr>\n",
       "    <tr>\n",
       "      <th>mean</th>\n",
       "      <td>1368.286264</td>\n",
       "      <td>0.225403</td>\n",
       "      <td>0.475343</td>\n",
       "      <td>2.282175</td>\n",
       "      <td>26.528747</td>\n",
       "      <td>28.891027</td>\n",
       "      <td>9.293481</td>\n",
       "      <td>1.891989</td>\n",
       "      <td>0.191484</td>\n",
       "    </tr>\n",
       "    <tr>\n",
       "      <th>std</th>\n",
       "      <td>815.550890</td>\n",
       "      <td>0.417898</td>\n",
       "      <td>0.499452</td>\n",
       "      <td>0.471010</td>\n",
       "      <td>15.651629</td>\n",
       "      <td>12.586005</td>\n",
       "      <td>9.753605</td>\n",
       "      <td>0.696910</td>\n",
       "      <td>0.452663</td>\n",
       "    </tr>\n",
       "    <tr>\n",
       "      <th>min</th>\n",
       "      <td>150.000000</td>\n",
       "      <td>0.000000</td>\n",
       "      <td>0.000000</td>\n",
       "      <td>1.000000</td>\n",
       "      <td>0.000000</td>\n",
       "      <td>0.000000</td>\n",
       "      <td>0.000000</td>\n",
       "      <td>1.000000</td>\n",
       "      <td>0.000000</td>\n",
       "    </tr>\n",
       "    <tr>\n",
       "      <th>25%</th>\n",
       "      <td>732.000000</td>\n",
       "      <td>0.000000</td>\n",
       "      <td>0.000000</td>\n",
       "      <td>2.000000</td>\n",
       "      <td>15.000000</td>\n",
       "      <td>20.000000</td>\n",
       "      <td>0.000000</td>\n",
       "      <td>1.000000</td>\n",
       "      <td>0.000000</td>\n",
       "    </tr>\n",
       "    <tr>\n",
       "      <th>50%</th>\n",
       "      <td>1212.000000</td>\n",
       "      <td>0.000000</td>\n",
       "      <td>0.000000</td>\n",
       "      <td>2.000000</td>\n",
       "      <td>20.000000</td>\n",
       "      <td>28.000000</td>\n",
       "      <td>7.000000</td>\n",
       "      <td>2.000000</td>\n",
       "      <td>0.000000</td>\n",
       "    </tr>\n",
       "    <tr>\n",
       "      <th>75%</th>\n",
       "      <td>1898.000000</td>\n",
       "      <td>0.000000</td>\n",
       "      <td>1.000000</td>\n",
       "      <td>3.000000</td>\n",
       "      <td>40.000000</td>\n",
       "      <td>38.000000</td>\n",
       "      <td>16.000000</td>\n",
       "      <td>2.000000</td>\n",
       "      <td>0.000000</td>\n",
       "    </tr>\n",
       "    <tr>\n",
       "      <th>max</th>\n",
       "      <td>4097.000000</td>\n",
       "      <td>1.000000</td>\n",
       "      <td>1.000000</td>\n",
       "      <td>3.000000</td>\n",
       "      <td>95.000000</td>\n",
       "      <td>66.000000</td>\n",
       "      <td>47.000000</td>\n",
       "      <td>3.000000</td>\n",
       "      <td>2.000000</td>\n",
       "    </tr>\n",
       "  </tbody>\n",
       "</table>\n",
       "</div>"
      ],
      "text/plain": [
       "       Estimated_Insects_Count    Crop_Type    Soil_Type  \\\n",
       "count              4157.000000  4157.000000  4157.000000   \n",
       "mean               1368.286264     0.225403     0.475343   \n",
       "std                 815.550890     0.417898     0.499452   \n",
       "min                 150.000000     0.000000     0.000000   \n",
       "25%                 732.000000     0.000000     0.000000   \n",
       "50%                1212.000000     0.000000     0.000000   \n",
       "75%                1898.000000     0.000000     1.000000   \n",
       "max                4097.000000     1.000000     1.000000   \n",
       "\n",
       "       Pesticide_Use_Category  Number_Doses_Week  Number_Weeks_Used  \\\n",
       "count             4157.000000        4157.000000        4157.000000   \n",
       "mean                 2.282175          26.528747          28.891027   \n",
       "std                  0.471010          15.651629          12.586005   \n",
       "min                  1.000000           0.000000           0.000000   \n",
       "25%                  2.000000          15.000000          20.000000   \n",
       "50%                  2.000000          20.000000          28.000000   \n",
       "75%                  3.000000          40.000000          38.000000   \n",
       "max                  3.000000          95.000000          66.000000   \n",
       "\n",
       "       Number_Weeks_Quit       Season  Crop_Damage  \n",
       "count        4157.000000  4157.000000  4157.000000  \n",
       "mean            9.293481     1.891989     0.191484  \n",
       "std             9.753605     0.696910     0.452663  \n",
       "min             0.000000     1.000000     0.000000  \n",
       "25%             0.000000     1.000000     0.000000  \n",
       "50%             7.000000     2.000000     0.000000  \n",
       "75%            16.000000     2.000000     0.000000  \n",
       "max            47.000000     3.000000     2.000000  "
      ]
     },
     "execution_count": 800,
     "metadata": {},
     "output_type": "execute_result"
    }
   ],
   "source": [
    "df.describe(include='all')"
   ]
  },
  {
   "cell_type": "code",
   "execution_count": null,
   "metadata": {},
   "outputs": [],
   "source": [
    "import seaborn as sns\n",
    "import matplotlib.pyplot as plt  \n",
    "corr = df.corr()\n",
    "plt.subplots(figsize=(15,10))\n",
    "sns.heatmap(corr, xticklabels=corr.columns, yticklabels=corr.columns, annot=True, cmap=sns.diverging_palette(220, 20, as_cmap=True))"
   ]
  },
  {
   "cell_type": "code",
   "execution_count": 801,
   "metadata": {},
   "outputs": [
    {
     "data": {
      "text/html": [
       "<div>\n",
       "<style scoped>\n",
       "    .dataframe tbody tr th:only-of-type {\n",
       "        vertical-align: middle;\n",
       "    }\n",
       "\n",
       "    .dataframe tbody tr th {\n",
       "        vertical-align: top;\n",
       "    }\n",
       "\n",
       "    .dataframe thead th {\n",
       "        text-align: right;\n",
       "    }\n",
       "</style>\n",
       "<table border=\"1\" class=\"dataframe\">\n",
       "  <thead>\n",
       "    <tr style=\"text-align: right;\">\n",
       "      <th></th>\n",
       "      <th>Estimated_Insects_Count</th>\n",
       "      <th>Crop_Type</th>\n",
       "      <th>Soil_Type</th>\n",
       "      <th>Pesticide_Use_Category</th>\n",
       "      <th>Number_Doses_Week</th>\n",
       "      <th>Number_Weeks_Used</th>\n",
       "      <th>Number_Weeks_Quit</th>\n",
       "      <th>Season</th>\n",
       "      <th>Crop_Damage</th>\n",
       "    </tr>\n",
       "  </thead>\n",
       "  <tbody>\n",
       "    <tr>\n",
       "      <th>Estimated_Insects_Count</th>\n",
       "      <td>1.000000</td>\n",
       "      <td>-0.039040</td>\n",
       "      <td>-0.156353</td>\n",
       "      <td>-0.035732</td>\n",
       "      <td>-0.124894</td>\n",
       "      <td>0.449470</td>\n",
       "      <td>0.249871</td>\n",
       "      <td>-0.015429</td>\n",
       "      <td>0.196067</td>\n",
       "    </tr>\n",
       "    <tr>\n",
       "      <th>Crop_Type</th>\n",
       "      <td>-0.039040</td>\n",
       "      <td>1.000000</td>\n",
       "      <td>-0.174532</td>\n",
       "      <td>0.355242</td>\n",
       "      <td>-0.165631</td>\n",
       "      <td>-0.002237</td>\n",
       "      <td>-0.272315</td>\n",
       "      <td>0.001822</td>\n",
       "      <td>0.027448</td>\n",
       "    </tr>\n",
       "    <tr>\n",
       "      <th>Soil_Type</th>\n",
       "      <td>-0.156353</td>\n",
       "      <td>-0.174532</td>\n",
       "      <td>1.000000</td>\n",
       "      <td>0.020889</td>\n",
       "      <td>0.051378</td>\n",
       "      <td>-0.098399</td>\n",
       "      <td>-0.037584</td>\n",
       "      <td>0.003753</td>\n",
       "      <td>-0.057868</td>\n",
       "    </tr>\n",
       "    <tr>\n",
       "      <th>Pesticide_Use_Category</th>\n",
       "      <td>-0.035732</td>\n",
       "      <td>0.355242</td>\n",
       "      <td>0.020889</td>\n",
       "      <td>1.000000</td>\n",
       "      <td>-0.007122</td>\n",
       "      <td>0.387982</td>\n",
       "      <td>-0.570960</td>\n",
       "      <td>0.010773</td>\n",
       "      <td>0.202449</td>\n",
       "    </tr>\n",
       "    <tr>\n",
       "      <th>Number_Doses_Week</th>\n",
       "      <td>-0.124894</td>\n",
       "      <td>-0.165631</td>\n",
       "      <td>0.051378</td>\n",
       "      <td>-0.007122</td>\n",
       "      <td>1.000000</td>\n",
       "      <td>0.104022</td>\n",
       "      <td>-0.032430</td>\n",
       "      <td>-0.006366</td>\n",
       "      <td>-0.017724</td>\n",
       "    </tr>\n",
       "    <tr>\n",
       "      <th>Number_Weeks_Used</th>\n",
       "      <td>0.449470</td>\n",
       "      <td>-0.002237</td>\n",
       "      <td>-0.098399</td>\n",
       "      <td>0.387982</td>\n",
       "      <td>0.104022</td>\n",
       "      <td>1.000000</td>\n",
       "      <td>-0.467386</td>\n",
       "      <td>-0.011108</td>\n",
       "      <td>0.244988</td>\n",
       "    </tr>\n",
       "    <tr>\n",
       "      <th>Number_Weeks_Quit</th>\n",
       "      <td>0.249871</td>\n",
       "      <td>-0.272315</td>\n",
       "      <td>-0.037584</td>\n",
       "      <td>-0.570960</td>\n",
       "      <td>-0.032430</td>\n",
       "      <td>-0.467386</td>\n",
       "      <td>1.000000</td>\n",
       "      <td>0.002753</td>\n",
       "      <td>-0.155354</td>\n",
       "    </tr>\n",
       "    <tr>\n",
       "      <th>Season</th>\n",
       "      <td>-0.015429</td>\n",
       "      <td>0.001822</td>\n",
       "      <td>0.003753</td>\n",
       "      <td>0.010773</td>\n",
       "      <td>-0.006366</td>\n",
       "      <td>-0.011108</td>\n",
       "      <td>0.002753</td>\n",
       "      <td>1.000000</td>\n",
       "      <td>-0.016798</td>\n",
       "    </tr>\n",
       "    <tr>\n",
       "      <th>Crop_Damage</th>\n",
       "      <td>0.196067</td>\n",
       "      <td>0.027448</td>\n",
       "      <td>-0.057868</td>\n",
       "      <td>0.202449</td>\n",
       "      <td>-0.017724</td>\n",
       "      <td>0.244988</td>\n",
       "      <td>-0.155354</td>\n",
       "      <td>-0.016798</td>\n",
       "      <td>1.000000</td>\n",
       "    </tr>\n",
       "  </tbody>\n",
       "</table>\n",
       "</div>"
      ],
      "text/plain": [
       "                         Estimated_Insects_Count  Crop_Type  Soil_Type  \\\n",
       "Estimated_Insects_Count                 1.000000  -0.039040  -0.156353   \n",
       "Crop_Type                              -0.039040   1.000000  -0.174532   \n",
       "Soil_Type                              -0.156353  -0.174532   1.000000   \n",
       "Pesticide_Use_Category                 -0.035732   0.355242   0.020889   \n",
       "Number_Doses_Week                      -0.124894  -0.165631   0.051378   \n",
       "Number_Weeks_Used                       0.449470  -0.002237  -0.098399   \n",
       "Number_Weeks_Quit                       0.249871  -0.272315  -0.037584   \n",
       "Season                                 -0.015429   0.001822   0.003753   \n",
       "Crop_Damage                             0.196067   0.027448  -0.057868   \n",
       "\n",
       "                         Pesticide_Use_Category  Number_Doses_Week  \\\n",
       "Estimated_Insects_Count               -0.035732          -0.124894   \n",
       "Crop_Type                              0.355242          -0.165631   \n",
       "Soil_Type                              0.020889           0.051378   \n",
       "Pesticide_Use_Category                 1.000000          -0.007122   \n",
       "Number_Doses_Week                     -0.007122           1.000000   \n",
       "Number_Weeks_Used                      0.387982           0.104022   \n",
       "Number_Weeks_Quit                     -0.570960          -0.032430   \n",
       "Season                                 0.010773          -0.006366   \n",
       "Crop_Damage                            0.202449          -0.017724   \n",
       "\n",
       "                         Number_Weeks_Used  Number_Weeks_Quit    Season  \\\n",
       "Estimated_Insects_Count           0.449470           0.249871 -0.015429   \n",
       "Crop_Type                        -0.002237          -0.272315  0.001822   \n",
       "Soil_Type                        -0.098399          -0.037584  0.003753   \n",
       "Pesticide_Use_Category            0.387982          -0.570960  0.010773   \n",
       "Number_Doses_Week                 0.104022          -0.032430 -0.006366   \n",
       "Number_Weeks_Used                 1.000000          -0.467386 -0.011108   \n",
       "Number_Weeks_Quit                -0.467386           1.000000  0.002753   \n",
       "Season                           -0.011108           0.002753  1.000000   \n",
       "Crop_Damage                       0.244988          -0.155354 -0.016798   \n",
       "\n",
       "                         Crop_Damage  \n",
       "Estimated_Insects_Count     0.196067  \n",
       "Crop_Type                   0.027448  \n",
       "Soil_Type                  -0.057868  \n",
       "Pesticide_Use_Category      0.202449  \n",
       "Number_Doses_Week          -0.017724  \n",
       "Number_Weeks_Used           0.244988  \n",
       "Number_Weeks_Quit          -0.155354  \n",
       "Season                     -0.016798  \n",
       "Crop_Damage                 1.000000  "
      ]
     },
     "execution_count": 801,
     "metadata": {},
     "output_type": "execute_result"
    }
   ],
   "source": [
    "df.corr()"
   ]
  },
  {
   "cell_type": "code",
   "execution_count": 730,
   "metadata": {},
   "outputs": [],
   "source": [
    "#from sklearn.impute import SimpleImputer \n",
    "#imp=SimpleImputer(missing_values=np.nan,strategy='mean')\n",
    "#df['Number_Weeks_Quit']=imp.fit_transform(df['Number_Weeks_Quit'].values.reshape(-1,1))"
   ]
  },
  {
   "cell_type": "code",
   "execution_count": null,
   "metadata": {},
   "outputs": [],
   "source": [
    "#chexking skewness\n",
    "df.skew"
   ]
  },
  {
   "cell_type": "code",
   "execution_count": 803,
   "metadata": {},
   "outputs": [],
   "source": [
    "skew=df.columns\n",
    "for col in skew:\n",
    "    if df.skew().loc[col]>0.55:\n",
    "        df[col]=np.log1p(df[col])"
   ]
  },
  {
   "cell_type": "code",
   "execution_count": 804,
   "metadata": {},
   "outputs": [
    {
     "name": "stdout",
     "output_type": "stream",
     "text": [
      "(3995, 9)\n"
     ]
    }
   ],
   "source": [
    "from scipy.stats import zscore\n",
    "z_score=abs(zscore(df))\n",
    "df_final= df.loc[(z_score<3).all(axis=1)]\n",
    "print(df_final.shape)"
   ]
  },
  {
   "cell_type": "code",
   "execution_count": 805,
   "metadata": {},
   "outputs": [],
   "source": [
    "from sklearn.preprocessing import LabelEncoder\n",
    "le=LabelEncoder()\n",
    "list1=['Crop_Damage','Number_Weeks_Used','Estimated_Insects_Count']\n",
    "for val in list1:\n",
    "    df[val]=le.fit_transform(df[val].astype(str))"
   ]
  },
  {
   "cell_type": "code",
   "execution_count": 806,
   "metadata": {},
   "outputs": [
    {
     "name": "stdout",
     "output_type": "stream",
     "text": [
      "(4157, 8)\n",
      "(4157,)\n"
     ]
    }
   ],
   "source": [
    "#saperate input and target variabke\n",
    "import numpy as np\n",
    "y=df[\"Crop_Damage\"]\n",
    "df_x=df.drop(columns=[\"Crop_Damage\"])\n",
    "print(df_x.shape)\n",
    "print(y.shape)\n"
   ]
  },
  {
   "cell_type": "code",
   "execution_count": 807,
   "metadata": {},
   "outputs": [],
   "source": [
    "# prediction with region\n",
    "from sklearn.neighbors import KNeighborsClassifier\n",
    "from sklearn.linear_model import LogisticRegression\n",
    "from sklearn.metrics import accuracy_score,classification_report,confusion_matrix,roc_auc_score,roc_curve\n",
    "from sklearn.ensemble import AdaBoostClassifier,GradientBoostingClassifier\n",
    "from sklearn.tree import DecisionTreeClassifier\n",
    "from sklearn.model_selection import train_test_split"
   ]
  },
  {
   "cell_type": "code",
   "execution_count": 809,
   "metadata": {},
   "outputs": [
    {
     "data": {
      "text/plain": [
       "0.8360058309037901"
      ]
     },
     "execution_count": 809,
     "metadata": {},
     "output_type": "execute_result"
    }
   ],
   "source": [
    "from sklearn.model_selection import train_test_split\n",
    "from sklearn.ensemble import RandomForestClassifier\n",
    "from sklearn.metrics import accuracy_score\n",
    "target = df['Crop_Damage']\n",
    "features = df.drop('Crop_Damage', axis = 1)\n",
    "#create the train/test split\n",
    "X_train, X_test, y_train, y_test = train_test_split(features, target, test_size=0.33, random_state=10)\n",
    "#Create the model and train\n",
    "model = RandomForestClassifier()\n",
    "model.fit(X_train,y_train)\n",
    "#predict the results for test\n",
    "test_pred = model.predict(X_test)\n",
    "#test the accuracy\n",
    "accuracy_score(y_test, test_pred)"
   ]
  },
  {
   "cell_type": "code",
   "execution_count": 811,
   "metadata": {},
   "outputs": [
    {
     "name": "stdout",
     "output_type": "stream",
     "text": [
      "Accuracy score is 0.8192419825072886\n"
     ]
    }
   ],
   "source": [
    "from sklearn.neighbors import KNeighborsClassifier\n",
    "from sklearn.linear_model import LogisticRegression\n",
    "x_train,x_test,y_train,y_test=train_test_split(df.iloc[:,:-1],df.iloc[:,-1],test_size=0.33,random_state=42)\n",
    "KNC=KNeighborsClassifier(n_neighbors=26)\n",
    "KNC.fit(x_train,y_train)\n",
    "pred=KNC.predict(x_test)\n",
    "acc_sc=accuracy_score(y_test,pred)\n",
    "print(\"Accuracy score is\",acc_sc)"
   ]
  },
  {
   "cell_type": "code",
   "execution_count": 812,
   "metadata": {},
   "outputs": [
    {
     "name": "stdout",
     "output_type": "stream",
     "text": [
      "accuracy score: 0.7733236151603499\n",
      "confusion matrix: [[1004  128    4]\n",
      " [ 137   57    0]\n",
      " [  27   15    0]]\n",
      "classification report:               precision    recall  f1-score   support\n",
      "\n",
      "           0       0.86      0.88      0.87      1136\n",
      "           1       0.28      0.29      0.29       194\n",
      "           2       0.00      0.00      0.00        42\n",
      "\n",
      "    accuracy                           0.77      1372\n",
      "   macro avg       0.38      0.39      0.39      1372\n",
      "weighted avg       0.75      0.77      0.76      1372\n",
      "\n"
     ]
    }
   ],
   "source": [
    "from sklearn.naive_bayes import MultinomialNB\n",
    "mnb=MultinomialNB()\n",
    "mnb.fit(x_train,y_train)\n",
    "predmnb=mnb.predict(x_test)\n",
    "print(\"accuracy score:\",accuracy_score(y_test,predmnb))\n",
    "print(\"confusion matrix:\",confusion_matrix(y_test,predmnb))\n",
    "print(\"classification report:\",classification_report(y_test,predmnb))"
   ]
  },
  {
   "cell_type": "code",
   "execution_count": 813,
   "metadata": {},
   "outputs": [
    {
     "name": "stdout",
     "output_type": "stream",
     "text": [
      "accuracy score: 0.8279883381924198\n",
      "confusion matrix: [[1136    0    0]\n",
      " [ 194    0    0]\n",
      " [  42    0    0]]\n",
      "classification report:               precision    recall  f1-score   support\n",
      "\n",
      "           0       0.83      1.00      0.91      1136\n",
      "           1       0.00      0.00      0.00       194\n",
      "           2       0.00      0.00      0.00        42\n",
      "\n",
      "    accuracy                           0.83      1372\n",
      "   macro avg       0.28      0.33      0.30      1372\n",
      "weighted avg       0.69      0.83      0.75      1372\n",
      "\n"
     ]
    },
    {
     "name": "stderr",
     "output_type": "stream",
     "text": [
      "C:\\Users\\mayraj\\Documents\\isha\\lib\\site-packages\\sklearn\\metrics\\_classification.py:1221: UndefinedMetricWarning: Precision and F-score are ill-defined and being set to 0.0 in labels with no predicted samples. Use `zero_division` parameter to control this behavior.\n",
      "  _warn_prf(average, modifier, msg_start, len(result))\n"
     ]
    }
   ],
   "source": [
    "from sklearn.svm import SVC\n",
    "svc=SVC(kernel='rbf')\n",
    "svc.fit(x_train,y_train)\n",
    "svc.score(x_train,y_train)\n",
    "predsvc=svc.predict(x_test)\n",
    "print(\"accuracy score:\",accuracy_score(y_test,predsvc))\n",
    "print(\"confusion matrix:\",confusion_matrix(y_test,predsvc))\n",
    "print(\"classification report:\",classification_report(y_test,predsvc))"
   ]
  },
  {
   "cell_type": "code",
   "execution_count": 814,
   "metadata": {},
   "outputs": [
    {
     "name": "stdout",
     "output_type": "stream",
     "text": [
      "accuracy score: 0.7405247813411079\n",
      "confusion matrix: [[961 152  23]\n",
      " [133  50  11]\n",
      " [ 27  10   5]]\n",
      "classification report:               precision    recall  f1-score   support\n",
      "\n",
      "           0       0.86      0.85      0.85      1136\n",
      "           1       0.24      0.26      0.25       194\n",
      "           2       0.13      0.12      0.12        42\n",
      "\n",
      "    accuracy                           0.74      1372\n",
      "   macro avg       0.41      0.41      0.41      1372\n",
      "weighted avg       0.75      0.74      0.74      1372\n",
      "\n"
     ]
    }
   ],
   "source": [
    "dtc=DecisionTreeClassifier()\n",
    "dtc.fit(x_train,y_train)\n",
    "dtc.score(x_train,y_train)\n",
    "preddtcc=dtc.predict(x_test)\n",
    "print(\"accuracy score:\",accuracy_score(y_test,preddtcc))\n",
    "print(\"confusion matrix:\",confusion_matrix(y_test,preddtcc))\n",
    "print(\"classification report:\",classification_report(y_test,preddtcc))"
   ]
  },
  {
   "cell_type": "code",
   "execution_count": 815,
   "metadata": {},
   "outputs": [
    {
     "name": "stdout",
     "output_type": "stream",
     "text": [
      "accuracy score: 0.8083090379008746\n",
      "conusion matrix: [[1086   49    1]\n",
      " [ 171   23    0]\n",
      " [  36    6    0]]\n",
      "classification:               precision    recall  f1-score   support\n",
      "\n",
      "           0       0.84      0.96      0.89      1136\n",
      "           1       0.29      0.12      0.17       194\n",
      "           2       0.00      0.00      0.00        42\n",
      "\n",
      "    accuracy                           0.81      1372\n",
      "   macro avg       0.38      0.36      0.35      1372\n",
      "weighted avg       0.74      0.81      0.76      1372\n",
      "\n"
     ]
    }
   ],
   "source": [
    "knc=KNeighborsClassifier()\n",
    "knc.fit(x_train,y_train)\n",
    "knc.score(x_train,y_train)\n",
    "predknc=knc.predict(x_test)\n",
    "print(\"accuracy score:\",accuracy_score(y_test,predknc))\n",
    "print(\"conusion matrix:\",confusion_matrix(y_test,predknc))\n",
    "print(\"classification:\",classification_report(y_test,predknc))"
   ]
  },
  {
   "cell_type": "code",
   "execution_count": 816,
   "metadata": {},
   "outputs": [
    {
     "name": "stdout",
     "output_type": "stream",
     "text": [
      "accuracy score: 0.7908163265306123\n",
      "conusion matrix: [[1039   97    0]\n",
      " [ 148   46    0]\n",
      " [  34    8    0]]\n",
      "classification report:               precision    recall  f1-score   support\n",
      "\n",
      "           0       0.85      0.91      0.88      1136\n",
      "           1       0.30      0.24      0.27       194\n",
      "           2       0.00      0.00      0.00        42\n",
      "\n",
      "    accuracy                           0.79      1372\n",
      "   macro avg       0.39      0.38      0.38      1372\n",
      "weighted avg       0.75      0.79      0.77      1372\n",
      "\n"
     ]
    },
    {
     "name": "stderr",
     "output_type": "stream",
     "text": [
      "C:\\Users\\mayraj\\Documents\\isha\\lib\\site-packages\\sklearn\\metrics\\_classification.py:1221: UndefinedMetricWarning: Precision and F-score are ill-defined and being set to 0.0 in labels with no predicted samples. Use `zero_division` parameter to control this behavior.\n",
      "  _warn_prf(average, modifier, msg_start, len(result))\n"
     ]
    }
   ],
   "source": [
    "from sklearn.naive_bayes import GaussianNB\n",
    "gnb=GaussianNB()\n",
    "gnb.fit(x_train,y_train)\n",
    "gnb.score(x_train,y_train)\n",
    "predgnb=gnb.predict(x_test)\n",
    "print(\"accuracy score:\",accuracy_score(y_test,predgnb))\n",
    "print(\"conusion matrix:\",confusion_matrix(y_test,predgnb))\n",
    "print(\"classification report:\",classification_report(y_test,predgnb))"
   ]
  },
  {
   "cell_type": "code",
   "execution_count": 817,
   "metadata": {},
   "outputs": [
    {
     "name": "stdout",
     "output_type": "stream",
     "text": [
      "accuracy score: 0.8279883381924198\n",
      "conusion matrix: [[1136    0    0]\n",
      " [ 194    0    0]\n",
      " [  42    0    0]]\n",
      "classification report:               precision    recall  f1-score   support\n",
      "\n",
      "           0       0.83      1.00      0.91      1136\n",
      "           1       0.00      0.00      0.00       194\n",
      "           2       0.00      0.00      0.00        42\n",
      "\n",
      "    accuracy                           0.83      1372\n",
      "   macro avg       0.28      0.33      0.30      1372\n",
      "weighted avg       0.69      0.83      0.75      1372\n",
      "\n"
     ]
    },
    {
     "name": "stderr",
     "output_type": "stream",
     "text": [
      "C:\\Users\\mayraj\\Documents\\isha\\lib\\site-packages\\sklearn\\metrics\\_classification.py:1221: UndefinedMetricWarning: Precision and F-score are ill-defined and being set to 0.0 in labels with no predicted samples. Use `zero_division` parameter to control this behavior.\n",
      "  _warn_prf(average, modifier, msg_start, len(result))\n"
     ]
    }
   ],
   "source": [
    "svc=SVC(kernel='poly')\n",
    "svc.fit(x_train,y_train)\n",
    "svc.score(x_train,y_train)\n",
    "predsvc=svc.predict(x_test)\n",
    "print(\"accuracy score:\",accuracy_score(y_test,predsvc))\n",
    "print(\"conusion matrix:\",confusion_matrix(y_test,predsvc))\n",
    "print(\"classification report:\",classification_report(y_test,predsvc))"
   ]
  },
  {
   "cell_type": "code",
   "execution_count": null,
   "metadata": {},
   "outputs": [],
   "source": [
    "df1=pd.DataFrame(predsvc)\n",
    "df1.to_csv('sv_prediction.csv')"
   ]
  },
  {
   "cell_type": "code",
   "execution_count": 818,
   "metadata": {},
   "outputs": [],
   "source": [
    "lg=LogisticRegression()"
   ]
  },
  {
   "cell_type": "code",
   "execution_count": 819,
   "metadata": {},
   "outputs": [
    {
     "name": "stderr",
     "output_type": "stream",
     "text": [
      "C:\\Users\\mayraj\\Documents\\isha\\lib\\site-packages\\sklearn\\linear_model\\_logistic.py:762: ConvergenceWarning: lbfgs failed to converge (status=1):\n",
      "STOP: TOTAL NO. of ITERATIONS REACHED LIMIT.\n",
      "\n",
      "Increase the number of iterations (max_iter) or scale the data as shown in:\n",
      "    https://scikit-learn.org/stable/modules/preprocessing.html\n",
      "Please also refer to the documentation for alternative solver options:\n",
      "    https://scikit-learn.org/stable/modules/linear_model.html#logistic-regression\n",
      "  n_iter_i = _check_optimize_result(\n"
     ]
    },
    {
     "data": {
      "text/plain": [
       "LogisticRegression()"
      ]
     },
     "execution_count": 819,
     "metadata": {},
     "output_type": "execute_result"
    }
   ],
   "source": [
    "lg.fit(x_train,y_train)"
   ]
  },
  {
   "cell_type": "code",
   "execution_count": 820,
   "metadata": {},
   "outputs": [],
   "source": [
    "pred=lg.predict(x_test)"
   ]
  },
  {
   "cell_type": "code",
   "execution_count": 821,
   "metadata": {},
   "outputs": [
    {
     "name": "stdout",
     "output_type": "stream",
     "text": [
      "accuracy score: 0.8185131195335277\n"
     ]
    }
   ],
   "source": [
    "print(\"accuracy score:\",accuracy_score(y_test,pred))"
   ]
  },
  {
   "cell_type": "code",
   "execution_count": 786,
   "metadata": {},
   "outputs": [
    {
     "name": "stdout",
     "output_type": "stream",
     "text": [
      "[[1013   20    0]\n",
      " [ 166    9    0]\n",
      " [  38    2    0]]\n"
     ]
    }
   ],
   "source": [
    "print(confusion_matrix(y_test,pred))"
   ]
  },
  {
   "cell_type": "code",
   "execution_count": 787,
   "metadata": {},
   "outputs": [
    {
     "name": "stdout",
     "output_type": "stream",
     "text": [
      "              precision    recall  f1-score   support\n",
      "\n",
      "           0       0.83      0.98      0.90      1033\n",
      "           1       0.29      0.05      0.09       175\n",
      "           2       0.00      0.00      0.00        40\n",
      "\n",
      "    accuracy                           0.82      1248\n",
      "   macro avg       0.37      0.34      0.33      1248\n",
      "weighted avg       0.73      0.82      0.76      1248\n",
      "\n"
     ]
    },
    {
     "name": "stderr",
     "output_type": "stream",
     "text": [
      "C:\\Users\\mayraj\\Documents\\isha\\lib\\site-packages\\sklearn\\metrics\\_classification.py:1221: UndefinedMetricWarning: Precision and F-score are ill-defined and being set to 0.0 in labels with no predicted samples. Use `zero_division` parameter to control this behavior.\n",
      "  _warn_prf(average, modifier, msg_start, len(result))\n"
     ]
    }
   ],
   "source": [
    "print(classification_report(y_test,pred))"
   ]
  },
  {
   "cell_type": "code",
   "execution_count": 822,
   "metadata": {},
   "outputs": [
    {
     "data": {
      "text/plain": [
       "['agri.pkl']"
      ]
     },
     "execution_count": 822,
     "metadata": {},
     "output_type": "execute_result"
    }
   ],
   "source": [
    "rd = RandomForestClassifier()\n",
    "import joblib\n",
    "joblib.dump(rd,'agri.pkl')"
   ]
  },
  {
   "cell_type": "code",
   "execution_count": null,
   "metadata": {},
   "outputs": [],
   "source": []
  }
 ],
 "metadata": {
  "kernelspec": {
   "display_name": "Python 3",
   "language": "python",
   "name": "python3"
  },
  "language_info": {
   "codemirror_mode": {
    "name": "ipython",
    "version": 3
   },
   "file_extension": ".py",
   "mimetype": "text/x-python",
   "name": "python",
   "nbconvert_exporter": "python",
   "pygments_lexer": "ipython3",
   "version": "3.8.3"
  }
 },
 "nbformat": 4,
 "nbformat_minor": 4
}
