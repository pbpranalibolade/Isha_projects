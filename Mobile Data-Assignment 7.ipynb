{
 "cells": [
  {
   "cell_type": "code",
   "execution_count": 14,
   "metadata": {},
   "outputs": [],
   "source": [
    "from bs4 import BeautifulSoup\n",
    "import requests"
   ]
  },
  {
   "cell_type": "code",
   "execution_count": 15,
   "metadata": {},
   "outputs": [],
   "source": [
    "page=requests.get(\"https://www.amazon.in/s?bbn=1389401031&rh=n%3A976419031%2Cn%3A1389401031%2Cn%3A1389432031&dc&qid=1610336093&rnid=1389401031&ref=lp_1389401031_nr_n_2\")"
   ]
  },
  {
   "cell_type": "code",
   "execution_count": 16,
   "metadata": {},
   "outputs": [],
   "source": [
    "soup=BeautifulSoup(page.content,'html.parser')"
   ]
  },
  {
   "cell_type": "code",
   "execution_count": 17,
   "metadata": {},
   "outputs": [],
   "source": [
    "prices=[]\n",
    "Pname=[]\n",
    "Ratings=[]\n",
    "Link=[]"
   ]
  },
  {
   "cell_type": "code",
   "execution_count": 18,
   "metadata": {},
   "outputs": [
    {
     "data": {
      "text/plain": [
       "[<span class=\"a-price-whole\">8,999<span class=\"a-price-decimal\">.</span></span>,\n",
       " <span class=\"a-price-whole\">6,999<span class=\"a-price-decimal\">.</span></span>,\n",
       " <span class=\"a-price-whole\">21,999<span class=\"a-price-decimal\">.</span></span>,\n",
       " <span class=\"a-price-whole\">6,999<span class=\"a-price-decimal\">.</span></span>,\n",
       " <span class=\"a-price-whole\">29,999<span class=\"a-price-decimal\">.</span></span>,\n",
       " <span class=\"a-price-whole\">12,999<span class=\"a-price-decimal\">.</span></span>,\n",
       " <span class=\"a-price-whole\">21,999<span class=\"a-price-decimal\">.</span></span>,\n",
       " <span class=\"a-price-whole\">16,499<span class=\"a-price-decimal\">.</span></span>,\n",
       " <span class=\"a-price-whole\">12,999<span class=\"a-price-decimal\">.</span></span>,\n",
       " <span class=\"a-price-whole\">16,499<span class=\"a-price-decimal\">.</span></span>,\n",
       " <span class=\"a-price-whole\">27,999<span class=\"a-price-decimal\">.</span></span>,\n",
       " <span class=\"a-price-whole\">7,499<span class=\"a-price-decimal\">.</span></span>]"
      ]
     },
     "execution_count": 18,
     "metadata": {},
     "output_type": "execute_result"
    }
   ],
   "source": [
    "header_names=soup.find_all('span',class_=\"a-price-whole\")\n",
    "header_names"
   ]
  },
  {
   "cell_type": "code",
   "execution_count": 19,
   "metadata": {},
   "outputs": [
    {
     "data": {
      "text/plain": [
       "['8,999.',\n",
       " '6,999.',\n",
       " '21,999.',\n",
       " '6,999.',\n",
       " '29,999.',\n",
       " '12,999.',\n",
       " '21,999.',\n",
       " '16,499.',\n",
       " '12,999.',\n",
       " '16,499.',\n",
       " '27,999.',\n",
       " '7,499.']"
      ]
     },
     "execution_count": 19,
     "metadata": {},
     "output_type": "execute_result"
    }
   ],
   "source": [
    "for i in header_names:\n",
    "    prices.append(i.get_text().replace(\"\\n\",\"\"))\n",
    "prices[0:16]"
   ]
  },
  {
   "cell_type": "code",
   "execution_count": 20,
   "metadata": {},
   "outputs": [
    {
     "data": {
      "text/plain": [
       "[]"
      ]
     },
     "execution_count": 20,
     "metadata": {},
     "output_type": "execute_result"
    }
   ],
   "source": [
    "product_rating=soup.find_all('span',class_=\"a-size-mini a-color-tertiary\")\n",
    "product_rating[0:50]\n"
   ]
  },
  {
   "cell_type": "code",
   "execution_count": 21,
   "metadata": {},
   "outputs": [
    {
     "data": {
      "text/plain": [
       "[]"
      ]
     },
     "execution_count": 21,
     "metadata": {},
     "output_type": "execute_result"
    }
   ],
   "source": [
    "for i in product_rating:\n",
    "    Ratings.append(i.get_text().replace(\"\\n\",\"\"))\n",
    "product_rating[0:16]"
   ]
  },
  {
   "cell_type": "code",
   "execution_count": 22,
   "metadata": {},
   "outputs": [
    {
     "data": {
      "text/plain": [
       "[]"
      ]
     },
     "execution_count": 22,
     "metadata": {},
     "output_type": "execute_result"
    }
   ],
   "source": [
    "product_link=soup.find_all('a',class_=\"a-link-normal octopus-pc-item-link\")\n",
    "product_link[0:50]\n"
   ]
  },
  {
   "cell_type": "code",
   "execution_count": 23,
   "metadata": {},
   "outputs": [
    {
     "data": {
      "text/plain": [
       "[]"
      ]
     },
     "execution_count": 23,
     "metadata": {},
     "output_type": "execute_result"
    }
   ],
   "source": [
    "for i in product_link:\n",
    "    Link.append(i.get_text().replace(\"\\n\",\"\"))\n",
    "Link[0:16]"
   ]
  },
  {
   "cell_type": "code",
   "execution_count": 24,
   "metadata": {},
   "outputs": [
    {
     "data": {
      "text/plain": [
       "[]"
      ]
     },
     "execution_count": 24,
     "metadata": {},
     "output_type": "execute_result"
    }
   ],
   "source": [
    "product_name=soup.find_all('div',class_=\"a-section octopus-pc-asin-title\")\n",
    "product_name[0:50]\n"
   ]
  },
  {
   "cell_type": "code",
   "execution_count": 25,
   "metadata": {},
   "outputs": [
    {
     "data": {
      "text/plain": [
       "[]"
      ]
     },
     "execution_count": 25,
     "metadata": {},
     "output_type": "execute_result"
    }
   ],
   "source": [
    "for i in product_name:\n",
    "    Pname.append(i.get_text().replace(\"\\n\",\"\"))\n",
    "Pname[0:16]"
   ]
  },
  {
   "cell_type": "code",
   "execution_count": 26,
   "metadata": {},
   "outputs": [
    {
     "ename": "NameError",
     "evalue": "name 'headers' is not defined",
     "output_type": "error",
     "traceback": [
      "\u001b[1;31m---------------------------------------------------------------------------\u001b[0m",
      "\u001b[1;31mNameError\u001b[0m                                 Traceback (most recent call last)",
      "\u001b[1;32m<ipython-input-26-d29bcac1e09b>\u001b[0m in \u001b[0;36m<module>\u001b[1;34m\u001b[0m\n\u001b[1;32m----> 1\u001b[1;33m \u001b[0mprint\u001b[0m\u001b[1;33m(\u001b[0m\u001b[0mlen\u001b[0m\u001b[1;33m(\u001b[0m\u001b[0mheaders\u001b[0m\u001b[1;33m)\u001b[0m\u001b[1;33m)\u001b[0m\u001b[1;33m\u001b[0m\u001b[1;33m\u001b[0m\u001b[0m\n\u001b[0m",
      "\u001b[1;31mNameError\u001b[0m: name 'headers' is not defined"
     ]
    }
   ],
   "source": [
    "print(len(headers))"
   ]
  },
  {
   "cell_type": "code",
   "execution_count": null,
   "metadata": {},
   "outputs": [],
   "source": [
    "import pandas as pd\n",
    "mobile_data=pd.DataFrame({})\n",
    "mobile_data['Name']=Pname\n",
    "mobile_data['Price']=prices\n",
    "mobile_data['Rating']=Ratings\n",
    "mobile_data['Link']=link\n",
    "\n",
    "headers_data"
   ]
  },
  {
   "cell_type": "code",
   "execution_count": null,
   "metadata": {},
   "outputs": [],
   "source": []
  },
  {
   "cell_type": "code",
   "execution_count": null,
   "metadata": {},
   "outputs": [],
   "source": []
  }
 ],
 "metadata": {
  "kernelspec": {
   "display_name": "Python 3",
   "language": "python",
   "name": "python3"
  },
  "language_info": {
   "codemirror_mode": {
    "name": "ipython",
    "version": 3
   },
   "file_extension": ".py",
   "mimetype": "text/x-python",
   "name": "python",
   "nbconvert_exporter": "python",
   "pygments_lexer": "ipython3",
   "version": "3.8.3"
  }
 },
 "nbformat": 4,
 "nbformat_minor": 4
}
