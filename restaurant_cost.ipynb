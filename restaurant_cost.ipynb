{
 "cells": [
  {
   "cell_type": "code",
   "execution_count": 6,
   "metadata": {},
   "outputs": [],
   "source": [
    "import pandas as pd\n",
    "import numpy as np\n",
    "test=pd.read_excel(\"Data_Test_rest.xlsx\")\n",
    "train=pd.read_excel(\"Data_Train_rest.xlsx\")"
   ]
  },
  {
   "cell_type": "code",
   "execution_count": 7,
   "metadata": {},
   "outputs": [
    {
     "data": {
      "text/html": [
       "<div>\n",
       "<style scoped>\n",
       "    .dataframe tbody tr th:only-of-type {\n",
       "        vertical-align: middle;\n",
       "    }\n",
       "\n",
       "    .dataframe tbody tr th {\n",
       "        vertical-align: top;\n",
       "    }\n",
       "\n",
       "    .dataframe thead th {\n",
       "        text-align: right;\n",
       "    }\n",
       "</style>\n",
       "<table border=\"1\" class=\"dataframe\">\n",
       "  <thead>\n",
       "    <tr style=\"text-align: right;\">\n",
       "      <th></th>\n",
       "      <th>TITLE</th>\n",
       "      <th>RESTAURANT_ID</th>\n",
       "      <th>CUISINES</th>\n",
       "      <th>TIME</th>\n",
       "      <th>CITY</th>\n",
       "      <th>LOCALITY</th>\n",
       "      <th>RATING</th>\n",
       "      <th>VOTES</th>\n",
       "      <th>COST</th>\n",
       "    </tr>\n",
       "  </thead>\n",
       "  <tbody>\n",
       "    <tr>\n",
       "      <th>0</th>\n",
       "      <td>CASUAL DINING</td>\n",
       "      <td>9438</td>\n",
       "      <td>Malwani, Goan, North Indian</td>\n",
       "      <td>11am – 4pm, 7:30pm – 11:30pm (Mon-Sun)</td>\n",
       "      <td>Thane</td>\n",
       "      <td>Dombivali East</td>\n",
       "      <td>3.6</td>\n",
       "      <td>49 votes</td>\n",
       "      <td>1200</td>\n",
       "    </tr>\n",
       "    <tr>\n",
       "      <th>1</th>\n",
       "      <td>CASUAL DINING,BAR</td>\n",
       "      <td>13198</td>\n",
       "      <td>Asian, Modern Indian, Japanese</td>\n",
       "      <td>6pm – 11pm (Mon-Sun)</td>\n",
       "      <td>Chennai</td>\n",
       "      <td>Ramapuram</td>\n",
       "      <td>4.2</td>\n",
       "      <td>30 votes</td>\n",
       "      <td>1500</td>\n",
       "    </tr>\n",
       "    <tr>\n",
       "      <th>2</th>\n",
       "      <td>CASUAL DINING</td>\n",
       "      <td>10915</td>\n",
       "      <td>North Indian, Chinese, Biryani, Hyderabadi</td>\n",
       "      <td>11am – 3:30pm, 7pm – 11pm (Mon-Sun)</td>\n",
       "      <td>Chennai</td>\n",
       "      <td>Saligramam</td>\n",
       "      <td>3.8</td>\n",
       "      <td>221 votes</td>\n",
       "      <td>800</td>\n",
       "    </tr>\n",
       "    <tr>\n",
       "      <th>3</th>\n",
       "      <td>QUICK BITES</td>\n",
       "      <td>6346</td>\n",
       "      <td>Tibetan, Chinese</td>\n",
       "      <td>11:30am – 1am (Mon-Sun)</td>\n",
       "      <td>Mumbai</td>\n",
       "      <td>Bandra West</td>\n",
       "      <td>4.1</td>\n",
       "      <td>24 votes</td>\n",
       "      <td>800</td>\n",
       "    </tr>\n",
       "    <tr>\n",
       "      <th>4</th>\n",
       "      <td>DESSERT PARLOR</td>\n",
       "      <td>15387</td>\n",
       "      <td>Desserts</td>\n",
       "      <td>11am – 1am (Mon-Sun)</td>\n",
       "      <td>Mumbai</td>\n",
       "      <td>Lower Parel</td>\n",
       "      <td>3.8</td>\n",
       "      <td>165 votes</td>\n",
       "      <td>300</td>\n",
       "    </tr>\n",
       "  </tbody>\n",
       "</table>\n",
       "</div>"
      ],
      "text/plain": [
       "               TITLE  RESTAURANT_ID  \\\n",
       "0      CASUAL DINING           9438   \n",
       "1  CASUAL DINING,BAR          13198   \n",
       "2      CASUAL DINING          10915   \n",
       "3        QUICK BITES           6346   \n",
       "4     DESSERT PARLOR          15387   \n",
       "\n",
       "                                     CUISINES  \\\n",
       "0                 Malwani, Goan, North Indian   \n",
       "1              Asian, Modern Indian, Japanese   \n",
       "2  North Indian, Chinese, Biryani, Hyderabadi   \n",
       "3                            Tibetan, Chinese   \n",
       "4                                    Desserts   \n",
       "\n",
       "                                     TIME     CITY        LOCALITY RATING  \\\n",
       "0  11am – 4pm, 7:30pm – 11:30pm (Mon-Sun)    Thane  Dombivali East    3.6   \n",
       "1                    6pm – 11pm (Mon-Sun)  Chennai       Ramapuram    4.2   \n",
       "2     11am – 3:30pm, 7pm – 11pm (Mon-Sun)  Chennai      Saligramam    3.8   \n",
       "3                 11:30am – 1am (Mon-Sun)   Mumbai     Bandra West    4.1   \n",
       "4                    11am – 1am (Mon-Sun)   Mumbai     Lower Parel    3.8   \n",
       "\n",
       "       VOTES  COST  \n",
       "0   49 votes  1200  \n",
       "1   30 votes  1500  \n",
       "2  221 votes   800  \n",
       "3   24 votes   800  \n",
       "4  165 votes   300  "
      ]
     },
     "execution_count": 7,
     "metadata": {},
     "output_type": "execute_result"
    }
   ],
   "source": [
    "train.head()"
   ]
  },
  {
   "cell_type": "code",
   "execution_count": 8,
   "metadata": {},
   "outputs": [
    {
     "data": {
      "text/plain": [
       "TITLE               0\n",
       "RESTAURANT_ID       0\n",
       "CUISINES            0\n",
       "TIME                0\n",
       "CITY              112\n",
       "LOCALITY           98\n",
       "RATING              2\n",
       "VOTES            1204\n",
       "COST                0\n",
       "dtype: int64"
      ]
     },
     "execution_count": 8,
     "metadata": {},
     "output_type": "execute_result"
    }
   ],
   "source": [
    "train.isnull().sum()"
   ]
  },
  {
   "cell_type": "code",
   "execution_count": 9,
   "metadata": {},
   "outputs": [],
   "source": [
    "train.dropna(inplace=True)"
   ]
  },
  {
   "cell_type": "code",
   "execution_count": 10,
   "metadata": {},
   "outputs": [],
   "source": [
    "train=train.drop(columns=[\"TITLE\"])\n"
   ]
  },
  {
   "cell_type": "code",
   "execution_count": 11,
   "metadata": {},
   "outputs": [],
   "source": [
    "train=train.drop(columns=[\"RESTAURANT_ID\"])\n"
   ]
  },
  {
   "cell_type": "code",
   "execution_count": 12,
   "metadata": {},
   "outputs": [
    {
     "data": {
      "text/plain": [
       "CUISINES    object\n",
       "TIME        object\n",
       "CITY        object\n",
       "LOCALITY    object\n",
       "RATING      object\n",
       "VOTES       object\n",
       "COST         int64\n",
       "dtype: object"
      ]
     },
     "execution_count": 12,
     "metadata": {},
     "output_type": "execute_result"
    }
   ],
   "source": [
    "train.dtypes"
   ]
  },
  {
   "cell_type": "code",
   "execution_count": 16,
   "metadata": {},
   "outputs": [
    {
     "data": {
      "text/plain": [
       "<matplotlib.axes._subplots.AxesSubplot at 0x20ee2422520>"
      ]
     },
     "execution_count": 16,
     "metadata": {},
     "output_type": "execute_result"
    },
    {
     "data": {
      "image/png": "[encoded data removed]",
      "text/plain": [
       "<Figure size 1080x720 with 2 Axes>"
      ]
     },
     "metadata": {
      "needs_background": "light"
     },
     "output_type": "display_data"
    }
   ],
   "source": [
    "import seaborn as sns\n",
    "import matplotlib.pyplot as plt  \n",
    "corr = train.corr()\n",
    "plt.subplots(figsize=(15,10))\n",
    "sns.heatmap(corr, xticklabels=corr.columns, yticklabels=corr.columns, annot=True, cmap=sns.diverging_palette(220, 20, as_cmap=True))"
   ]
  },
  {
   "cell_type": "code",
   "execution_count": null,
   "metadata": {},
   "outputs": [],
   "source": [
    "train"
   ]
  },
  {
   "cell_type": "code",
   "execution_count": 15,
   "metadata": {},
   "outputs": [],
   "source": [
    "from sklearn import preprocessing\n",
    "le = preprocessing.LabelEncoder()\n",
    "for column_name in train.columns:\n",
    "    if train[column_name].dtype == object:\n",
    "        train[column_name] = le.fit_transform(train[column_name])\n",
    "      "
   ]
  },
  {
   "cell_type": "code",
   "execution_count": 17,
   "metadata": {},
   "outputs": [
    {
     "data": {
      "text/plain": [
       "<bound method DataFrame.skew of        CUISINES  TIME  CITY  LOCALITY  RATING  VOTES  COST\n",
       "0          2463   700   300       267      16   1277  1200\n",
       "1           275  1799    63       961      22    949  1500\n",
       "2          2800   623    63      1015      18    711   800\n",
       "3          3893   257   206       128      21    786   800\n",
       "4          1663   581   206       573      18    469   300\n",
       "...         ...   ...   ...       ...     ...    ...   ...\n",
       "12685      2758  1093   125       318      18   1348   500\n",
       "12686      2017  1125   206       125      23    191  1800\n",
       "12687      1963  1086   223      1241      20   1427  1300\n",
       "12688      3305  1754    63       584      15    995   400\n",
       "12689      2770   794   125      1232      14   1504   600\n",
       "\n",
       "[11393 rows x 7 columns]>"
      ]
     },
     "execution_count": 17,
     "metadata": {},
     "output_type": "execute_result"
    }
   ],
   "source": [
    "train.skew"
   ]
  },
  {
   "cell_type": "code",
   "execution_count": 20,
   "metadata": {},
   "outputs": [],
   "source": [
    "skew=('CITY','LOCALITY','RATING')\n",
    "for col in skew:\n",
    "    if train.skew().loc[col]>0.55:\n",
    "        train[col]=np.log1p(train[col])"
   ]
  },
  {
   "cell_type": "code",
   "execution_count": 23,
   "metadata": {},
   "outputs": [
    {
     "name": "stdout",
     "output_type": "stream",
     "text": [
      "(11393, 7)\n"
     ]
    }
   ],
   "source": [
    "from scipy.stats import zscore\n",
    "z_score=abs(zscore(train))\n",
    "df_covid_final= train.loc[(z_score<3).all(axis=1)]\n",
    "print(train.shape)"
   ]
  },
  {
   "cell_type": "code",
   "execution_count": 24,
   "metadata": {},
   "outputs": [
    {
     "name": "stdout",
     "output_type": "stream",
     "text": [
      "(11114, 6)\n",
      "(11114,)\n"
     ]
    }
   ],
   "source": [
    "#saperate input and target variabke\n",
    "import numpy as np\n",
    "y=df_covid_final[\"COST\"]\n",
    "df_x=df_covid_final.drop(columns=[\"COST\"])\n",
    "print(df_x.shape)\n",
    "print(y.shape)\n"
   ]
  },
  {
   "cell_type": "code",
   "execution_count": 25,
   "metadata": {},
   "outputs": [
    {
     "name": "stdout",
     "output_type": "stream",
     "text": [
      "max r2 score corrospond to random state 42 is -0.29229964786552864\n",
      "max r2 score corrospond to random state 42 is 0.039333872567462236\n",
      "\n",
      "\n",
      "\n",
      "\n",
      "max r2 score corrospond to random state 42 is 0.039333872567462236 and model is KNeighborsRegressor()\n",
      "max r2 score corrospond to random state 42 is 0.10895862283040325\n",
      "\n",
      "\n",
      "\n",
      "\n",
      "max r2 score corrospond to random state 42 is 0.10895862283040325 and model is AdaBoostRegressor()\n",
      "max r2 score corrospond to random state 42 is 0.12805743615114207\n",
      "\n",
      "\n",
      "\n",
      "\n",
      "max r2 score corrospond to random state 42 is 0.12805743615114207 and model is LinearRegression()\n",
      "max r2 score corrospond to random state 42 is 0.4415011432638919\n",
      "\n",
      "\n",
      "\n",
      "\n",
      "max r2 score corrospond to random state 42 is 0.4415011432638919 and model is GradientBoostingRegressor()\n",
      "max r2 score corrospond to random state 43 is -0.13258532910440302\n",
      "max r2 score corrospond to random state 43 is 0.06180849685183609\n",
      "max r2 score corrospond to random state 43 is 0.04842840642134272\n",
      "max r2 score corrospond to random state 43 is 0.1320800762864458\n",
      "max r2 score corrospond to random state 43 is 0.44584077934466404\n",
      "\n",
      "\n",
      "\n",
      "\n",
      "max r2 score corrospond to random state 43 is 0.44584077934466404 and model is GradientBoostingRegressor()\n",
      "max r2 score corrospond to random state 44 is -0.10579354663847607\n",
      "max r2 score corrospond to random state 44 is 0.06235585424433088\n",
      "max r2 score corrospond to random state 44 is 0.11111202478751281\n",
      "max r2 score corrospond to random state 44 is 0.12239206039833772\n",
      "max r2 score corrospond to random state 44 is 0.4598252610776531\n",
      "\n",
      "\n",
      "\n",
      "\n",
      "max r2 score corrospond to random state 44 is 0.4598252610776531 and model is GradientBoostingRegressor()\n",
      "max r2 score corrospond to random state 45 is -0.16453598082745646\n",
      "max r2 score corrospond to random state 45 is 0.014441790476543814\n",
      "max r2 score corrospond to random state 45 is 0.1560176513372621\n",
      "max r2 score corrospond to random state 45 is 0.14751655783539042\n",
      "max r2 score corrospond to random state 45 is 0.45752137018176564\n",
      "max r2 score corrospond to random state 46 is -0.20064754576593202\n",
      "max r2 score corrospond to random state 46 is 0.012118031677588958\n",
      "max r2 score corrospond to random state 46 is 0.17057954584030277\n",
      "max r2 score corrospond to random state 46 is 0.12109688498596627\n",
      "max r2 score corrospond to random state 46 is 0.4390671689500699\n",
      "max r2 score corrospond to random state 47 is -0.09443350319771993\n",
      "max r2 score corrospond to random state 47 is 0.03702566888149317\n",
      "max r2 score corrospond to random state 47 is 0.14005394132909688\n",
      "max r2 score corrospond to random state 47 is 0.12178357693400377\n",
      "max r2 score corrospond to random state 47 is 0.4420100927393622\n",
      "max r2 score corrospond to random state 48 is -0.25345104078169634\n",
      "max r2 score corrospond to random state 48 is 0.05338780290960676\n",
      "max r2 score corrospond to random state 48 is 0.1432205378349275\n",
      "max r2 score corrospond to random state 48 is 0.13115112070082813\n",
      "max r2 score corrospond to random state 48 is 0.44495663145828646\n",
      "max r2 score corrospond to random state 49 is -0.1314628110843079\n",
      "max r2 score corrospond to random state 49 is 0.04778039492179065\n",
      "max r2 score corrospond to random state 49 is 0.0615560634479807\n",
      "max r2 score corrospond to random state 49 is 0.12527290268552105\n",
      "max r2 score corrospond to random state 49 is 0.42559328190615486\n",
      "max r2 score corrospond to random state 50 is -0.11698905243922164\n",
      "max r2 score corrospond to random state 50 is 0.05043315977602991\n",
      "max r2 score corrospond to random state 50 is 0.1152031286482722\n",
      "max r2 score corrospond to random state 50 is 0.13323118142951507\n",
      "max r2 score corrospond to random state 50 is 0.4654765896248554\n",
      "\n",
      "\n",
      "\n",
      "\n",
      "max r2 score corrospond to random state 50 is 0.4654765896248554 and model is GradientBoostingRegressor()\n",
      "max r2 score corrospond to random state 51 is -0.19524120031076309\n",
      "max r2 score corrospond to random state 51 is 0.030465833401419062\n",
      "max r2 score corrospond to random state 51 is 0.18528256621332007\n",
      "max r2 score corrospond to random state 51 is 0.1322257627100636\n",
      "max r2 score corrospond to random state 51 is 0.43938719181017527\n",
      "max r2 score corrospond to random state 52 is -0.1096200864969934\n",
      "max r2 score corrospond to random state 52 is 0.06156573002743815\n",
      "max r2 score corrospond to random state 52 is 0.12335193635940456\n",
      "max r2 score corrospond to random state 52 is 0.1390112851420271\n",
      "max r2 score corrospond to random state 52 is 0.4714264300725485\n",
      "\n",
      "\n",
      "\n",
      "\n",
      "max r2 score corrospond to random state 52 is 0.4714264300725485 and model is GradientBoostingRegressor()\n",
      "max r2 score corrospond to random state 53 is -0.18248848751923208\n",
      "max r2 score corrospond to random state 53 is 0.03404736153711618\n",
      "max r2 score corrospond to random state 53 is 0.04663163540652693\n",
      "max r2 score corrospond to random state 53 is 0.12000072660578331\n",
      "max r2 score corrospond to random state 53 is 0.45435619152666784\n",
      "max r2 score corrospond to random state 54 is -0.16843762802202988\n",
      "max r2 score corrospond to random state 54 is 0.03623864775406216\n",
      "max r2 score corrospond to random state 54 is 0.1318837597651089\n",
      "max r2 score corrospond to random state 54 is 0.142778217938914\n",
      "max r2 score corrospond to random state 54 is 0.45476085695756197\n",
      "max r2 score corrospond to random state 55 is -0.20613179864807263\n",
      "max r2 score corrospond to random state 55 is 0.059573760847293156\n",
      "max r2 score corrospond to random state 55 is 0.15002909184418778\n",
      "max r2 score corrospond to random state 55 is 0.12629192137982903\n",
      "max r2 score corrospond to random state 55 is 0.4393019218314026\n",
      "max r2 score corrospond to random state 56 is -0.12454375405588447\n",
      "max r2 score corrospond to random state 56 is 0.06999120174451978\n",
      "max r2 score corrospond to random state 56 is 0.16742619555925298\n",
      "max r2 score corrospond to random state 56 is 0.1377125716414045\n",
      "max r2 score corrospond to random state 56 is 0.432891200917489\n",
      "max r2 score corrospond to random state 57 is -0.2285621988319375\n",
      "max r2 score corrospond to random state 57 is 0.04771116009504006\n",
      "max r2 score corrospond to random state 57 is 0.05322603209734833\n",
      "max r2 score corrospond to random state 57 is 0.12125763517916321\n",
      "max r2 score corrospond to random state 57 is 0.43652337702183086\n",
      "max r2 score corrospond to random state 58 is -0.13005937216686214\n",
      "max r2 score corrospond to random state 58 is 0.04599386072185885\n",
      "max r2 score corrospond to random state 58 is 0.14273257066035516\n",
      "max r2 score corrospond to random state 58 is 0.1335785947446887\n",
      "max r2 score corrospond to random state 58 is 0.4525429253750064\n",
      "max r2 score corrospond to random state 59 is -0.2995934588024358\n",
      "max r2 score corrospond to random state 59 is 0.015963486943125327\n",
      "max r2 score corrospond to random state 59 is 0.15128281123851006\n",
      "max r2 score corrospond to random state 59 is 0.1335777727562536\n",
      "max r2 score corrospond to random state 59 is 0.452363392287742\n",
      "max r2 score corrospond to random state 60 is -0.10684642857162796\n",
      "max r2 score corrospond to random state 60 is 0.047262067441823485\n",
      "max r2 score corrospond to random state 60 is 0.1695685925820637\n",
      "max r2 score corrospond to random state 60 is 0.13398225226122373\n",
      "max r2 score corrospond to random state 60 is 0.4559369831004848\n",
      "max r2 score corrospond to random state 61 is -0.2266754481194999\n",
      "max r2 score corrospond to random state 61 is 0.017939305925195437\n",
      "max r2 score corrospond to random state 61 is 0.20780711326772305\n",
      "max r2 score corrospond to random state 61 is 0.1307895356504617\n",
      "max r2 score corrospond to random state 61 is 0.45398037081003906\n",
      "max r2 score corrospond to random state 62 is -0.13828334935361752\n",
      "max r2 score corrospond to random state 62 is 0.05051866697182261\n",
      "max r2 score corrospond to random state 62 is 0.19321967347334934\n",
      "max r2 score corrospond to random state 62 is 0.13397962290393062\n",
      "max r2 score corrospond to random state 62 is 0.43481137237398393\n",
      "max r2 score corrospond to random state 63 is -0.16112683861712696\n",
      "max r2 score corrospond to random state 63 is 0.044038671558237485\n",
      "max r2 score corrospond to random state 63 is 0.10851995058967656\n",
      "max r2 score corrospond to random state 63 is 0.13147572285346953\n",
      "max r2 score corrospond to random state 63 is 0.449039367835658\n",
      "max r2 score corrospond to random state 64 is -0.0024024943920122332\n",
      "max r2 score corrospond to random state 64 is 0.06523819381247886\n",
      "max r2 score corrospond to random state 64 is 0.1908164027927577\n",
      "max r2 score corrospond to random state 64 is 0.13877634493351476\n",
      "max r2 score corrospond to random state 64 is 0.4637610146252169\n",
      "max r2 score corrospond to random state 65 is -0.12466103905280224\n",
      "max r2 score corrospond to random state 65 is 0.03320906499377152\n",
      "max r2 score corrospond to random state 65 is 0.14363237826221897\n",
      "max r2 score corrospond to random state 65 is 0.14198359402484195\n",
      "max r2 score corrospond to random state 65 is 0.44949628525415075\n",
      "max r2 score corrospond to random state 66 is -0.1191991249439297\n",
      "max r2 score corrospond to random state 66 is 0.03978546585801024\n",
      "max r2 score corrospond to random state 66 is 0.12194416153015086\n",
      "max r2 score corrospond to random state 66 is 0.1292216063526459\n",
      "max r2 score corrospond to random state 66 is 0.4338144190890364\n",
      "max r2 score corrospond to random state 67 is -0.13695273208317404\n",
      "max r2 score corrospond to random state 67 is 0.06546813401807283\n",
      "max r2 score corrospond to random state 67 is 0.17832994377851297\n",
      "max r2 score corrospond to random state 67 is 0.1351095105184158\n",
      "max r2 score corrospond to random state 67 is 0.44678923863553954\n",
      "max r2 score corrospond to random state 68 is -0.09905344490771584\n",
      "max r2 score corrospond to random state 68 is 0.04524193049692704\n",
      "max r2 score corrospond to random state 68 is 0.07573575325851145\n",
      "max r2 score corrospond to random state 68 is 0.13027372184248653\n",
      "max r2 score corrospond to random state 68 is 0.44533205790790353\n",
      "max r2 score corrospond to random state 69 is -0.23559810841945272\n",
      "max r2 score corrospond to random state 69 is 0.06110473058707855\n",
      "max r2 score corrospond to random state 69 is 0.029389502745509888\n",
      "max r2 score corrospond to random state 69 is 0.12185507106025484\n",
      "max r2 score corrospond to random state 69 is 0.4471634090284462\n",
      "max r2 score corrospond to random state 70 is -0.18622018267445584\n",
      "max r2 score corrospond to random state 70 is 0.052167590978175915\n",
      "max r2 score corrospond to random state 70 is 0.17562652128928258\n",
      "max r2 score corrospond to random state 70 is 0.13118648876665973\n",
      "max r2 score corrospond to random state 70 is 0.4490292093172088\n",
      "max r2 score corrospond to random state 71 is -0.07805010087559405\n",
      "max r2 score corrospond to random state 71 is 0.03178641789960934\n",
      "max r2 score corrospond to random state 71 is 0.14007258509468923\n",
      "max r2 score corrospond to random state 71 is 0.13467870137525895\n",
      "max r2 score corrospond to random state 71 is 0.4448013836064928\n",
      "max r2 score corrospond to random state 72 is -0.043573369675354634\n",
      "max r2 score corrospond to random state 72 is 0.05393149859412549\n",
      "max r2 score corrospond to random state 72 is 0.13082995584560664\n",
      "max r2 score corrospond to random state 72 is 0.12351618288114119\n",
      "max r2 score corrospond to random state 72 is 0.44344438476266124\n",
      "max r2 score corrospond to random state 73 is -0.1610624291994791\n",
      "max r2 score corrospond to random state 73 is 0.03569063066061173\n",
      "max r2 score corrospond to random state 73 is 0.13886149571037842\n",
      "max r2 score corrospond to random state 73 is 0.14368856637994487\n",
      "max r2 score corrospond to random state 73 is 0.4634732172161128\n",
      "max r2 score corrospond to random state 74 is -0.06612640185578456\n",
      "max r2 score corrospond to random state 74 is 0.07570651926569605\n",
      "max r2 score corrospond to random state 74 is 0.19084470943332088\n",
      "max r2 score corrospond to random state 74 is 0.13238471047196887\n",
      "max r2 score corrospond to random state 74 is 0.4410485329980034\n",
      "max r2 score corrospond to random state 75 is -0.15803003926205572\n",
      "max r2 score corrospond to random state 75 is 0.04907238504482714\n",
      "max r2 score corrospond to random state 75 is 0.07790188655916541\n",
      "max r2 score corrospond to random state 75 is 0.13991289329352607\n",
      "max r2 score corrospond to random state 75 is 0.4717572747270681\n",
      "\n",
      "\n",
      "\n",
      "\n",
      "max r2 score corrospond to random state 75 is 0.4717572747270681 and model is GradientBoostingRegressor()\n",
      "max r2 score corrospond to random state 76 is -0.19749343724470214\n",
      "max r2 score corrospond to random state 76 is 0.050428080775971496\n",
      "max r2 score corrospond to random state 76 is 0.0888575940543509\n",
      "max r2 score corrospond to random state 76 is 0.13857003103535548\n",
      "max r2 score corrospond to random state 76 is 0.45980432019932593\n",
      "max r2 score corrospond to random state 77 is -0.18472391141265243\n",
      "max r2 score corrospond to random state 77 is 0.04102679731585612\n",
      "max r2 score corrospond to random state 77 is 0.1460488610779227\n",
      "max r2 score corrospond to random state 77 is 0.1487241074542015\n",
      "max r2 score corrospond to random state 77 is 0.447152038053526\n",
      "max r2 score corrospond to random state 78 is -0.13206985150689543\n",
      "max r2 score corrospond to random state 78 is 0.04810641535865612\n",
      "max r2 score corrospond to random state 78 is 0.15954064443991745\n",
      "max r2 score corrospond to random state 78 is 0.13361154439674616\n",
      "max r2 score corrospond to random state 78 is 0.46123928970278727\n",
      "max r2 score corrospond to random state 79 is -0.1119593269496868\n",
      "max r2 score corrospond to random state 79 is 0.021447269290535753\n",
      "max r2 score corrospond to random state 79 is 0.1497655852796319\n",
      "max r2 score corrospond to random state 79 is 0.14570297696142154\n",
      "max r2 score corrospond to random state 79 is 0.47417936850697295\n",
      "\n",
      "\n",
      "\n",
      "\n",
      "max r2 score corrospond to random state 79 is 0.47417936850697295 and model is GradientBoostingRegressor()\n",
      "max r2 score corrospond to random state 80 is -0.1514290041177131\n",
      "max r2 score corrospond to random state 80 is 0.0149992318051142\n",
      "max r2 score corrospond to random state 80 is 0.12124415952516654\n",
      "max r2 score corrospond to random state 80 is 0.12135792137870405\n",
      "max r2 score corrospond to random state 80 is 0.468433152378807\n",
      "max r2 score corrospond to random state 81 is -0.1347910065931308\n",
      "max r2 score corrospond to random state 81 is 0.05005597823169161\n",
      "max r2 score corrospond to random state 81 is 0.09606676307617623\n",
      "max r2 score corrospond to random state 81 is 0.13843508661309978\n",
      "max r2 score corrospond to random state 81 is 0.44832329683071603\n",
      "max r2 score corrospond to random state 82 is -0.20929491340059103\n",
      "max r2 score corrospond to random state 82 is 0.015664207599687896\n",
      "max r2 score corrospond to random state 82 is 0.18452827024886143\n",
      "max r2 score corrospond to random state 82 is 0.12638542693826205\n",
      "max r2 score corrospond to random state 82 is 0.43550329558501233\n",
      "max r2 score corrospond to random state 83 is -0.2516057209259017\n",
      "max r2 score corrospond to random state 83 is 0.03615070374068552\n",
      "max r2 score corrospond to random state 83 is 0.1337498049831255\n",
      "max r2 score corrospond to random state 83 is 0.13903725974502756\n",
      "max r2 score corrospond to random state 83 is 0.463942129562971\n",
      "max r2 score corrospond to random state 84 is -0.25328971500797226\n",
      "max r2 score corrospond to random state 84 is 0.05054033183561468\n",
      "max r2 score corrospond to random state 84 is 0.15764189836765286\n",
      "max r2 score corrospond to random state 84 is 0.11856380143814871\n",
      "max r2 score corrospond to random state 84 is 0.4463329809164829\n",
      "max r2 score corrospond to random state 85 is -0.11050746883837315\n",
      "max r2 score corrospond to random state 85 is 0.032245433413469415\n",
      "max r2 score corrospond to random state 85 is 0.17584154839555366\n",
      "max r2 score corrospond to random state 85 is 0.13079451263388064\n",
      "max r2 score corrospond to random state 85 is 0.4360335787057855\n",
      "max r2 score corrospond to random state 86 is -0.18001941613123762\n",
      "max r2 score corrospond to random state 86 is 0.026119580238146867\n",
      "max r2 score corrospond to random state 86 is 0.15332303401049963\n",
      "max r2 score corrospond to random state 86 is 0.13619021765285821\n",
      "max r2 score corrospond to random state 86 is 0.44934798481611893\n",
      "max r2 score corrospond to random state 87 is -0.1619787099134551\n",
      "max r2 score corrospond to random state 87 is 0.026207294437230355\n",
      "max r2 score corrospond to random state 87 is 0.1463970483023147\n",
      "max r2 score corrospond to random state 87 is 0.1344896590635729\n",
      "max r2 score corrospond to random state 87 is 0.46746590720163206\n",
      "max r2 score corrospond to random state 88 is -0.20625445184523206\n",
      "max r2 score corrospond to random state 88 is -0.007280101877191969\n"
     ]
    },
    {
     "name": "stdout",
     "output_type": "stream",
     "text": [
      "max r2 score corrospond to random state 88 is 0.11755922553944287\n",
      "max r2 score corrospond to random state 88 is 0.12003700595832645\n",
      "max r2 score corrospond to random state 88 is 0.4350632518233062\n",
      "max r2 score corrospond to random state 89 is -0.17661797702624416\n",
      "max r2 score corrospond to random state 89 is 0.03824572089687284\n",
      "max r2 score corrospond to random state 89 is 0.09279078183513556\n",
      "max r2 score corrospond to random state 89 is 0.13520970027179346\n",
      "max r2 score corrospond to random state 89 is 0.437734693638257\n",
      "max r2 score corrospond to random state 90 is -0.24787287853106266\n",
      "max r2 score corrospond to random state 90 is 0.04074407501347255\n",
      "max r2 score corrospond to random state 90 is 0.13276016237078048\n",
      "max r2 score corrospond to random state 90 is 0.12564947716740615\n",
      "max r2 score corrospond to random state 90 is 0.45874679280545827\n",
      "max r2 score corrospond to random state 91 is -0.17071399256990438\n",
      "max r2 score corrospond to random state 91 is 0.01796532318973687\n",
      "max r2 score corrospond to random state 91 is 0.11959095379126028\n",
      "max r2 score corrospond to random state 91 is 0.11575027355735579\n",
      "max r2 score corrospond to random state 91 is 0.4299998086501581\n",
      "max r2 score corrospond to random state 92 is -0.13004214302486727\n",
      "max r2 score corrospond to random state 92 is 0.0441868044836885\n",
      "max r2 score corrospond to random state 92 is 0.12570539230682387\n",
      "max r2 score corrospond to random state 92 is 0.14694091233526008\n",
      "max r2 score corrospond to random state 92 is 0.4645096505036661\n",
      "max r2 score corrospond to random state 93 is 0.004237462908122991\n",
      "max r2 score corrospond to random state 93 is 0.05361933572100108\n",
      "max r2 score corrospond to random state 93 is 0.20184029889018695\n",
      "max r2 score corrospond to random state 93 is 0.14377458443401447\n",
      "max r2 score corrospond to random state 93 is 0.46950658947267576\n",
      "max r2 score corrospond to random state 94 is -0.14524372651855333\n",
      "max r2 score corrospond to random state 94 is 0.03315546787416335\n",
      "max r2 score corrospond to random state 94 is 0.11042537968317834\n",
      "max r2 score corrospond to random state 94 is 0.13497236840029125\n",
      "max r2 score corrospond to random state 94 is 0.44297247855074884\n",
      "max r2 score corrospond to random state 95 is -0.040511393794143924\n",
      "max r2 score corrospond to random state 95 is 0.027278317054365897\n",
      "max r2 score corrospond to random state 95 is 0.06622222968390501\n",
      "max r2 score corrospond to random state 95 is 0.13710522168047024\n",
      "max r2 score corrospond to random state 95 is 0.47008129703349866\n",
      "max r2 score corrospond to random state 96 is -0.17168747622180636\n",
      "max r2 score corrospond to random state 96 is 0.04900025183585266\n",
      "max r2 score corrospond to random state 96 is 0.1681043642691744\n",
      "max r2 score corrospond to random state 96 is 0.1307461266725629\n",
      "max r2 score corrospond to random state 96 is 0.4517950402354499\n",
      "max r2 score corrospond to random state 97 is -0.12393629825167651\n",
      "max r2 score corrospond to random state 97 is 0.03191648323576757\n",
      "max r2 score corrospond to random state 97 is 0.1085107196748275\n",
      "max r2 score corrospond to random state 97 is 0.13691478534267\n",
      "max r2 score corrospond to random state 97 is 0.43982803802422166\n",
      "max r2 score corrospond to random state 98 is -0.14257493885940886\n",
      "max r2 score corrospond to random state 98 is 0.07561759649075794\n",
      "max r2 score corrospond to random state 98 is 0.14759074575959563\n",
      "max r2 score corrospond to random state 98 is 0.13255441449063288\n",
      "max r2 score corrospond to random state 98 is 0.4506858938650202\n",
      "max r2 score corrospond to random state 99 is -0.09311730404059504\n",
      "max r2 score corrospond to random state 99 is 0.01423866294284104\n",
      "max r2 score corrospond to random state 99 is 0.12387601764458445\n",
      "max r2 score corrospond to random state 99 is 0.13201415846484943\n",
      "max r2 score corrospond to random state 99 is 0.4416933375920653\n"
     ]
    }
   ],
   "source": [
    "#calculating r2 score\n",
    "from sklearn.metrics import accuracy_score,classification_report,confusion_matrix,roc_auc_score,roc_curve\n",
    "from sklearn.tree import DecisionTreeRegressor\n",
    "from sklearn.neighbors import KNeighborsRegressor\n",
    "from sklearn.ensemble import AdaBoostRegressor,GradientBoostingRegressor\n",
    "from sklearn.preprocessing import LabelEncoder,StandardScaler\n",
    "from sklearn.model_selection import cross_val_score,train_test_split,GridSearchCV\n",
    "from sklearn.metrics import mean_absolute_error\n",
    "from sklearn.metrics import mean_squared_error\n",
    "from sklearn.metrics import r2_score\n",
    "from sklearn import linear_model\n",
    "from sklearn.linear_model import LinearRegression\n",
    "from sklearn.model_selection import train_test_split\n",
    "x_train,x_test,y_train,Y_test=train_test_split(df_x,y,random_state=55,test_size=0.20)\n",
    "model=[DecisionTreeRegressor(),KNeighborsRegressor(),AdaBoostRegressor(),LinearRegression(),GradientBoostingRegressor()]\n",
    "from sklearn.decomposition import PCA\n",
    "max_r_score=0\n",
    "for r_state in range(42,100):\n",
    "    x_train,x_test,y_train,Y_test=train_test_split(df_x,y,random_state=r_state,test_size=0.33)\n",
    "    for i in model:\n",
    "        i.fit(x_train,y_train)\n",
    "        pre=i.predict(x_test)\n",
    "        r2_sc=r2_score(Y_test,pre)\n",
    "        print(\"max r2 score corrospond to random state\",r_state,\"is\",r2_sc)\n",
    "        if r2_sc>max_r_score:\n",
    "            max_r_score=r2_sc\n",
    "            final_r_state=r_state\n",
    "            final_model=i\n",
    "            print()\n",
    "            print()\n",
    "            print()\n",
    "            print()\n",
    "            print(\"max r2 score corrospond to random state\",final_r_state,\"is\",max_r_score,\"and model is\",final_model)\n",
    " "
   ]
  },
  {
   "cell_type": "code",
   "execution_count": 26,
   "metadata": {},
   "outputs": [],
   "source": [
    "x_train,x_test,y_train,Y_test=train_test_split(df_x,y,random_state=86,test_size=0.20)\n",
    "lreg=linear_model.LinearRegression()\n",
    "lreg.fit(x_train,y_train)\n",
    "y_pred=lreg.predict(x_test)"
   ]
  },
  {
   "cell_type": "code",
   "execution_count": 27,
   "metadata": {},
   "outputs": [
    {
     "data": {
      "text/plain": [
       "0.12917417815945953"
      ]
     },
     "execution_count": 27,
     "metadata": {},
     "output_type": "execute_result"
    }
   ],
   "source": [
    "from sklearn.model_selection import cross_val_score\n",
    "cross_val_score(linear_model.LinearRegression(),df_x,y,cv=10,scoring=\"r2\").mean()"
   ]
  },
  {
   "cell_type": "code",
   "execution_count": 28,
   "metadata": {},
   "outputs": [
    {
     "name": "stdout",
     "output_type": "stream",
     "text": [
      "r2 score is 0.14929133312081788\n",
      "RMSE is 420.1933179262728\n"
     ]
    }
   ],
   "source": [
    "from sklearn.metrics import r2_score\n",
    "from sklearn.metrics import mean_squared_error\n",
    "print(\"r2 score is\",r2_score(Y_test,y_pred))\n",
    "print(\"RMSE is\",np.sqrt(mean_squared_error(Y_test,y_pred)))"
   ]
  },
  {
   "cell_type": "code",
   "execution_count": null,
   "metadata": {},
   "outputs": [],
   "source": [
    "import joblib\n",
    "joblib.dump(lreg,'rest.pkl)"
   ]
  }
 ],
 "metadata": {
  "kernelspec": {
   "display_name": "Python 3",
   "language": "python",
   "name": "python3"
  },
  "language_info": {
   "codemirror_mode": {
    "name": "ipython",
    "version": 3
   },
   "file_extension": ".py",
   "mimetype": "text/x-python",
   "name": "python",
   "nbconvert_exporter": "python",
   "pygments_lexer": "ipython3",
   "version": "3.8.3"
  }
 },
 "nbformat": 4,
 "nbformat_minor": 4
}
