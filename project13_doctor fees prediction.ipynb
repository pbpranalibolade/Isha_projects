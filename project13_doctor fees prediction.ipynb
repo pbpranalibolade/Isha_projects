{
 "cells": [
  {
   "cell_type": "code",
   "execution_count": null,
   "metadata": {},
   "outputs": [],
   "source": [
    "import pandas as pd\n",
    "import numpy as np\n",
    "test=pd.read_excel(\"Final_Test_doc.xlsx\")\n",
    "train=pd.read_excel(\"Final_Train_doc.xlsx\")"
   ]
  },
  {
   "cell_type": "code",
   "execution_count": null,
   "metadata": {},
   "outputs": [],
   "source": [
    "#df = pd.concat([x_test, x_train])"
   ]
  },
  {
   "cell_type": "code",
   "execution_count": null,
   "metadata": {},
   "outputs": [],
   "source": [
    "train.head()"
   ]
  },
  {
   "cell_type": "code",
   "execution_count": null,
   "metadata": {},
   "outputs": [],
   "source": [
    "train.info()"
   ]
  },
  {
   "cell_type": "code",
   "execution_count": null,
   "metadata": {},
   "outputs": [],
   "source": [
    "train.isnull().sum()"
   ]
  },
  {
   "cell_type": "code",
   "execution_count": null,
   "metadata": {},
   "outputs": [],
   "source": [
    "df_qual_prof = pd.crosstab(train.Qualification, train.Profile, margins=True)\n",
    "#df_qual_prof.to_csv(\"df_qual_prof.csv\", sep=',')\n",
    "df_qual_prof.head()"
   ]
  },
  {
   "cell_type": "code",
   "execution_count": null,
   "metadata": {},
   "outputs": [],
   "source": [
    "df_qual_prof.sort_values(by=['All'], ascending=False)"
   ]
  },
  {
   "cell_type": "code",
   "execution_count": null,
   "metadata": {},
   "outputs": [],
   "source": [
    "print('Qualification:', train['Qualification'].nunique())\n",
    "print('Experience:', train['Experience'].nunique())\n",
    "print('Rating:', train['Rating'].nunique())\n",
    "print('Place:', train['Place'].nunique())\n",
    "print('Profile', train['Profile'].nunique())"
   ]
  },
  {
   "cell_type": "code",
   "execution_count": null,
   "metadata": {},
   "outputs": [],
   "source": [
    "df_train = train[['Qualification', 'Profile', 'Experience', 'Place', 'Miscellaneous_Info', 'Rating','Fees']]\n",
    "df_test = test[['Qualification', 'Profile','Experience', 'Place', 'Miscellaneous_Info', 'Rating']]"
   ]
  },
  {
   "cell_type": "code",
   "execution_count": null,
   "metadata": {},
   "outputs": [],
   "source": [
    "df_train.head()"
   ]
  },
  {
   "cell_type": "code",
   "execution_count": null,
   "metadata": {},
   "outputs": [],
   "source": [
    "import pandas as pd\n",
    "import numpy as np\n",
    "import matplotlib.pyplot as plt\n",
    "import warnings\n",
    "import re\n",
    "warnings.filterwarnings('ignore')\n",
    "df_train['Experience'] = df_train['Experience'].str.replace('years experience','').astype(int)\n",
    "df_test['Experience'] = df_test['Experience'].str.replace('years experience','').astype(int)"
   ]
  },
  {
   "cell_type": "code",
   "execution_count": null,
   "metadata": {},
   "outputs": [],
   "source": [
    "def clean_text(text):\n",
    "    text = str(text).lower()\n",
    "    text = re.sub(r'[^a-z]', ' ', text)\n",
    "    text = re.sub(r'\\s+', ' ', text)\n",
    "    return text\n",
    "\n",
    "df_train['Qualification'] = df_train['Qualification'].apply(clean_text)\n",
    "df_test['Qualification'] = df_test['Qualification'].apply(clean_text)\n",
    "\n",
    "def clean_place(text):\n",
    "    text = str(text).lower()\n",
    "    text = re.sub(r'[^a-z0-9]', ' ', text)\n",
    "    text = re.sub(r'\\s+', ' ', text)\n",
    "    return text\n",
    "\n",
    "df_train['Place'].fillna('missing', inplace=True)\n",
    "df_test['Place'].fillna('missing', inplace=True)\n",
    "df_train['Place'] = df_train['Place'].apply(clean_place)\n",
    "df_test['Place'] = df_test['Place'].apply(clean_place)"
   ]
  },
  {
   "cell_type": "code",
   "execution_count": null,
   "metadata": {},
   "outputs": [],
   "source": [
    "df_train['Rating'].fillna('0%', inplace=True)\n",
    "df_test['Rating'].fillna('0%', inplace=True)\n",
    "\n",
    "def clean_rating(text):\n",
    "    text = re.sub(r'%', '', str(text))\n",
    "    return text\n",
    "\n",
    "df_train['Rating'] = df_train['Rating'].apply(clean_rating)\n",
    "df_train['Rating'] = df_train['Rating'].astype(int)\n",
    "\n",
    "df_test['Rating'] = df_test['Rating'].apply(clean_rating)\n",
    "df_test['Rating'] = df_test['Rating'].astype(int)"
   ]
  },
  {
   "cell_type": "code",
   "execution_count": null,
   "metadata": {},
   "outputs": [],
   "source": [
    "df_train['Miscellaneous_Info'].fillna('missing', inplace=True)\n",
    "df_test['Miscellaneous_Info'].fillna('missing', inplace=True)\n",
    "\n",
    "def get_feedback(feedback):\n",
    "    feedback = re.findall(r'\\d+ Feedback', str(feedback))\n",
    "    if feedback == []:\n",
    "        feedback = '0 Feedback'\n",
    "        return feedback\n",
    "    else:\n",
    "        return feedback[0]\n",
    "\n",
    "df_train['Feedback'] = df_train['Miscellaneous_Info'].apply(get_feedback)\n",
    "df_train['Feedback'] = df_train['Feedback'].str.replace(' Feedback','')\n",
    "df_train['Feedback'] = df_train['Feedback'].astype(int)\n",
    "\n",
    "df_test['Feedback'] = df_test['Miscellaneous_Info'].apply(get_feedback)\n",
    "df_test['Feedback'] = df_test['Feedback'].str.replace(' Feedback','')\n",
    "df_test['Feedback'] = df_test['Feedback'].astype(int)"
   ]
  },
  {
   "cell_type": "code",
   "execution_count": null,
   "metadata": {},
   "outputs": [],
   "source": [
    "def get_fee(text):\n",
    "    text = re.sub(r',', \"\", text)\n",
    "    text = re.findall(r'₹\\d+', text)\n",
    "    if text != []:\n",
    "        return text[0]\n",
    "    else:\n",
    "        return 0\n",
    "\n",
    "df_train['Misc_Fees'] = df_train['Miscellaneous_Info'].apply(get_fee)\n",
    "df_train['Misc_Fees'] = df_train['Misc_Fees'].str.replace('₹','')\n",
    "df_train['Misc_Fees'].fillna(50, inplace=True)\n",
    "df_train['Misc_Fees'] = df_train['Misc_Fees'].astype(int)\n",
    "\n",
    "df_test['Misc_Fees'] = df_test['Miscellaneous_Info'].apply(get_fee)\n",
    "df_test['Misc_Fees'] = df_test['Misc_Fees'].str.replace('₹','')\n",
    "df_test['Misc_Fees'].fillna(50, inplace=True)\n",
    "df_test['Misc_Fees'] = df_test['Misc_Fees'].astype(float)"
   ]
  },
  {
   "cell_type": "code",
   "execution_count": null,
   "metadata": {},
   "outputs": [],
   "source": [
    "def clean_misc(text):\n",
    "    text = str(text).lower()\n",
    "    text = re.sub(r'[^a-z0-9]', ' ', text)\n",
    "    text = re.sub(r'\\s+', ' ', text)\n",
    "    return text\n",
    "\n",
    "df_train['Miscellaneous_Info'] = df_train['Miscellaneous_Info'].apply(clean_misc)\n",
    "df_test['Miscellaneous_Info'] = df_test['Miscellaneous_Info'].apply(clean_misc)"
   ]
  },
  {
   "cell_type": "code",
   "execution_count": null,
   "metadata": {},
   "outputs": [],
   "source": [
    "df_train = pd.get_dummies(df_train, columns=['Profile'])\n",
    "df_test  = pd.get_dummies(df_test,  columns=['Profile'])"
   ]
  },
  {
   "cell_type": "code",
   "execution_count": null,
   "metadata": {},
   "outputs": [],
   "source": [
    "from sklearn import preprocessing\n",
    "le = preprocessing.LabelEncoder()\n",
    "for column_name in df_train.columns:\n",
    "    if df_train[column_name].dtype == object:\n",
    "        df_train[column_name] = le.fit_transform(df_train[column_name])"
   ]
  },
  {
   "cell_type": "code",
   "execution_count": null,
   "metadata": {},
   "outputs": [],
   "source": [
    "from sklearn.preprocessing import StandardScaler\n",
    "\n",
    "s_sc = StandardScaler()\n",
    "col_to_scale = df_train.columns\n",
    "df_train[col_to_scale] = s_sc.fit_transform(df_train[col_to_scale])"
   ]
  },
  {
   "cell_type": "code",
   "execution_count": null,
   "metadata": {},
   "outputs": [],
   "source": [
    "from sklearn import preprocessing\n",
    "def convert(df_train):\n",
    "    number = preprocessing.LabelEncoder()\n",
    "    df_train['Miscellaneous_Info'] = number.fit_transform(df_train.Miscellaneous_Info)\n",
    "    df_train['Qualification'] = number.fit_transform(df_train.Qualification)   \n",
    "    df_train['Place'] = number.fit_transform(df_train.Place)\n",
    "    df_train=df_train.fillna(-999)\n",
    "    return df_train\n"
   ]
  },
  {
   "cell_type": "code",
   "execution_count": null,
   "metadata": {},
   "outputs": [],
   "source": [
    "df_train"
   ]
  },
  {
   "cell_type": "code",
   "execution_count": null,
   "metadata": {},
   "outputs": [],
   "source": [
    "df_train.skew"
   ]
  },
  {
   "cell_type": "code",
   "execution_count": null,
   "metadata": {},
   "outputs": [],
   "source": [
    "df_train.fillna(df_train.median(), inplace=True)"
   ]
  },
  {
   "cell_type": "code",
   "execution_count": null,
   "metadata": {},
   "outputs": [],
   "source": [
    "X = df_train.drop(labels=['Fees'], axis=1)\n",
    "y = df_train['Fees'].values\n",
    "\n",
    "from sklearn.model_selection import train_test_split\n",
    "X_train, X_cv, y_train, y_cv = train_test_split(X, y, test_size=0.25, random_state=1)"
   ]
  },
  {
   "cell_type": "code",
   "execution_count": null,
   "metadata": {},
   "outputs": [],
   "source": [
    "X_train.shape, y_train.shape, X_cv.shape, y_cv.shape"
   ]
  },
  {
   "cell_type": "code",
   "execution_count": null,
   "metadata": {},
   "outputs": [],
   "source": [
    "X_train.columns"
   ]
  },
  {
   "cell_type": "code",
   "execution_count": null,
   "metadata": {},
   "outputs": [],
   "source": [
    "from math import sqrt \n",
    "from sklearn.metrics import mean_squared_log_error, mean_squared_error"
   ]
  },
  {
   "cell_type": "code",
   "execution_count": null,
   "metadata": {},
   "outputs": [],
   "source": [
    "#calculating r2 score\n",
    "from sklearn.metrics import accuracy_score,classification_report,confusion_matrix,roc_auc_score,roc_curve\n",
    "from sklearn.tree import DecisionTreeRegressor\n",
    "from sklearn.neighbors import KNeighborsRegressor\n",
    "from sklearn.ensemble import AdaBoostRegressor,GradientBoostingRegressor\n",
    "from sklearn.preprocessing import LabelEncoder,StandardScaler\n",
    "from sklearn.model_selection import cross_val_score,train_test_split,GridSearchCV\n",
    "from sklearn.metrics import mean_absolute_error\n",
    "from sklearn.metrics import mean_squared_error\n",
    "from sklearn.metrics import r2_score\n",
    "from sklearn import linear_model\n",
    "from sklearn.linear_model import LinearRegression\n",
    "from sklearn.model_selection import train_test_split\n",
    "x_train,x_test,y_train,Y_test=train_test_split(X, y,random_state=20,test_size=0.33)\n",
    "model=[DecisionTreeRegressor(),KNeighborsRegressor(),AdaBoostRegressor(),LinearRegression(),GradientBoostingRegressor()]\n",
    "from sklearn.decomposition import PCA\n",
    "max_r_score=0\n",
    "for r_state in range(42,100):\n",
    "    x_train,x_test,y_train,Y_test=train_test_split(X, y,random_state=r_state,test_size=0.33)\n",
    "    for i in model:\n",
    "        i.fit(x_train,y_train)\n",
    "        pre=i.predict(x_test)\n",
    "        r2_sc=r2_score(Y_test,pre)\n",
    "        print(\"max r2 score corrospond to random state\",r_state,\"is\",r2_sc)\n",
    "        if r2_sc>max_r_score:\n",
    "            max_r_score=r2_sc\n",
    "            final_r_state=r_state\n",
    "            final_model=i\n",
    "            print()\n",
    "            print()\n",
    "            print()\n",
    "            print()\n",
    "            print(\"max r2 score corrospond to random state\",final_r_state,\"is\",max_r_score,\"and model is\",final_model)\n",
    " "
   ]
  },
  {
   "cell_type": "code",
   "execution_count": null,
   "metadata": {},
   "outputs": [],
   "source": [
    "from sklearn.model_selection import cross_val_score\n",
    "cross_val_score(linear_model.LinearRegression(),df_x,y,cv=10,scoring=\"r2\").mean()"
   ]
  },
  {
   "cell_type": "code",
   "execution_count": null,
   "metadata": {},
   "outputs": [],
   "source": [
    "from sklearn.metrics import r2_score\n",
    "from sklearn.metrics import mean_squared_error\n",
    "print(\"r2 score is\",r2_score(Y_test,y_pred))\n",
    "print(\"RMSE is\",np.sqrt(mean_squared_error(Y_test,y_pred)))"
   ]
  },
  {
   "cell_type": "code",
   "execution_count": null,
   "metadata": {},
   "outputs": [],
   "source": [
    "import joblib\n",
    "joblib.dump(lreg,'fees.pkl')\n"
   ]
  }
 ],
 "metadata": {
  "kernelspec": {
   "display_name": "Python 3",
   "language": "python",
   "name": "python3"
  },
  "language_info": {
   "codemirror_mode": {
    "name": "ipython",
    "version": 3
   },
   "file_extension": ".py",
   "mimetype": "text/x-python",
   "name": "python",
   "nbconvert_exporter": "python",
   "pygments_lexer": "ipython3",
   "version": "3.8.3"
  }
 },
 "nbformat": 4,
 "nbformat_minor": 4
}
