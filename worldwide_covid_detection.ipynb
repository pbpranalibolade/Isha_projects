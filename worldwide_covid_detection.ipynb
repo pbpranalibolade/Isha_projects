{
 "cells": [
  {
   "cell_type": "code",
   "execution_count": 51,
   "metadata": {},
   "outputs": [
    {
     "data": {
      "text/html": [
       "<div>\n",
       "<style scoped>\n",
       "    .dataframe tbody tr th:only-of-type {\n",
       "        vertical-align: middle;\n",
       "    }\n",
       "\n",
       "    .dataframe tbody tr th {\n",
       "        vertical-align: top;\n",
       "    }\n",
       "\n",
       "    .dataframe thead th {\n",
       "        text-align: right;\n",
       "    }\n",
       "</style>\n",
       "<table border=\"1\" class=\"dataframe\">\n",
       "  <thead>\n",
       "    <tr style=\"text-align: right;\">\n",
       "      <th></th>\n",
       "      <th>Date</th>\n",
       "      <th>Country</th>\n",
       "      <th>Population</th>\n",
       "      <th>Total Tests</th>\n",
       "      <th>Total Cases</th>\n",
       "      <th>Total Deaths</th>\n",
       "      <th>Total Recovered</th>\n",
       "      <th>Serious or Critical</th>\n",
       "      <th>Active Cases</th>\n",
       "    </tr>\n",
       "  </thead>\n",
       "  <tbody>\n",
       "    <tr>\n",
       "      <th>0</th>\n",
       "      <td>4/18/2020</td>\n",
       "      <td>USA</td>\n",
       "      <td>330774664</td>\n",
       "      <td>3722145.0</td>\n",
       "      <td>738792.0</td>\n",
       "      <td>39014.0</td>\n",
       "      <td>68269.0</td>\n",
       "      <td>13551.0</td>\n",
       "      <td>631509.0</td>\n",
       "    </tr>\n",
       "    <tr>\n",
       "      <th>1</th>\n",
       "      <td>4/18/2020</td>\n",
       "      <td>Russia</td>\n",
       "      <td>145927292</td>\n",
       "      <td>1831892.0</td>\n",
       "      <td>36793.0</td>\n",
       "      <td>313.0</td>\n",
       "      <td>3057.0</td>\n",
       "      <td>8.0</td>\n",
       "      <td>33423.0</td>\n",
       "    </tr>\n",
       "    <tr>\n",
       "      <th>2</th>\n",
       "      <td>4/18/2020</td>\n",
       "      <td>Spain</td>\n",
       "      <td>46752703</td>\n",
       "      <td>930230.0</td>\n",
       "      <td>194416.0</td>\n",
       "      <td>20043.0</td>\n",
       "      <td>74797.0</td>\n",
       "      <td>7371.0</td>\n",
       "      <td>99576.0</td>\n",
       "    </tr>\n",
       "    <tr>\n",
       "      <th>3</th>\n",
       "      <td>4/18/2020</td>\n",
       "      <td>Brazil</td>\n",
       "      <td>212380932</td>\n",
       "      <td>62985.0</td>\n",
       "      <td>36722.0</td>\n",
       "      <td>2361.0</td>\n",
       "      <td>14026.0</td>\n",
       "      <td>6634.0</td>\n",
       "      <td>20335.0</td>\n",
       "    </tr>\n",
       "    <tr>\n",
       "      <th>4</th>\n",
       "      <td>4/18/2020</td>\n",
       "      <td>UK</td>\n",
       "      <td>67844241</td>\n",
       "      <td>460437.0</td>\n",
       "      <td>114217.0</td>\n",
       "      <td>15464.0</td>\n",
       "      <td>NaN</td>\n",
       "      <td>1559.0</td>\n",
       "      <td>98409.0</td>\n",
       "    </tr>\n",
       "    <tr>\n",
       "      <th>...</th>\n",
       "      <td>...</td>\n",
       "      <td>...</td>\n",
       "      <td>...</td>\n",
       "      <td>...</td>\n",
       "      <td>...</td>\n",
       "      <td>...</td>\n",
       "      <td>...</td>\n",
       "      <td>...</td>\n",
       "      <td>...</td>\n",
       "    </tr>\n",
       "    <tr>\n",
       "      <th>6598</th>\n",
       "      <td>5/18/2020</td>\n",
       "      <td>St. Barth</td>\n",
       "      <td>9874</td>\n",
       "      <td>NaN</td>\n",
       "      <td>6.0</td>\n",
       "      <td>NaN</td>\n",
       "      <td>6.0</td>\n",
       "      <td>NaN</td>\n",
       "      <td>0.0</td>\n",
       "    </tr>\n",
       "    <tr>\n",
       "      <th>6599</th>\n",
       "      <td>5/18/2020</td>\n",
       "      <td>Western Sahara</td>\n",
       "      <td>595462</td>\n",
       "      <td>NaN</td>\n",
       "      <td>6.0</td>\n",
       "      <td>NaN</td>\n",
       "      <td>6.0</td>\n",
       "      <td>NaN</td>\n",
       "      <td>0.0</td>\n",
       "    </tr>\n",
       "    <tr>\n",
       "      <th>6600</th>\n",
       "      <td>5/18/2020</td>\n",
       "      <td>Anguilla</td>\n",
       "      <td>14987</td>\n",
       "      <td>NaN</td>\n",
       "      <td>3.0</td>\n",
       "      <td>NaN</td>\n",
       "      <td>3.0</td>\n",
       "      <td>NaN</td>\n",
       "      <td>0.0</td>\n",
       "    </tr>\n",
       "    <tr>\n",
       "      <th>6601</th>\n",
       "      <td>5/18/2020</td>\n",
       "      <td>Lesotho</td>\n",
       "      <td>2140235</td>\n",
       "      <td>NaN</td>\n",
       "      <td>1.0</td>\n",
       "      <td>NaN</td>\n",
       "      <td>NaN</td>\n",
       "      <td>NaN</td>\n",
       "      <td>1.0</td>\n",
       "    </tr>\n",
       "    <tr>\n",
       "      <th>6602</th>\n",
       "      <td>5/18/2020</td>\n",
       "      <td>Saint Pierre Miquelon</td>\n",
       "      <td>5797</td>\n",
       "      <td>NaN</td>\n",
       "      <td>1.0</td>\n",
       "      <td>NaN</td>\n",
       "      <td>1.0</td>\n",
       "      <td>NaN</td>\n",
       "      <td>0.0</td>\n",
       "    </tr>\n",
       "  </tbody>\n",
       "</table>\n",
       "<p>6603 rows × 9 columns</p>\n",
       "</div>"
      ],
      "text/plain": [
       "           Date                Country  Population  Total Tests  Total Cases  \\\n",
       "0     4/18/2020                    USA   330774664    3722145.0     738792.0   \n",
       "1     4/18/2020                 Russia   145927292    1831892.0      36793.0   \n",
       "2     4/18/2020                  Spain    46752703     930230.0     194416.0   \n",
       "3     4/18/2020                 Brazil   212380932      62985.0      36722.0   \n",
       "4     4/18/2020                     UK    67844241     460437.0     114217.0   \n",
       "...         ...                    ...         ...          ...          ...   \n",
       "6598  5/18/2020              St. Barth        9874          NaN          6.0   \n",
       "6599  5/18/2020         Western Sahara      595462          NaN          6.0   \n",
       "6600  5/18/2020               Anguilla       14987          NaN          3.0   \n",
       "6601  5/18/2020                Lesotho     2140235          NaN          1.0   \n",
       "6602  5/18/2020  Saint Pierre Miquelon        5797          NaN          1.0   \n",
       "\n",
       "      Total Deaths  Total Recovered  Serious or Critical  Active Cases  \n",
       "0          39014.0          68269.0              13551.0      631509.0  \n",
       "1            313.0           3057.0                  8.0       33423.0  \n",
       "2          20043.0          74797.0               7371.0       99576.0  \n",
       "3           2361.0          14026.0               6634.0       20335.0  \n",
       "4          15464.0              NaN               1559.0       98409.0  \n",
       "...            ...              ...                  ...           ...  \n",
       "6598           NaN              6.0                  NaN           0.0  \n",
       "6599           NaN              6.0                  NaN           0.0  \n",
       "6600           NaN              3.0                  NaN           0.0  \n",
       "6601           NaN              NaN                  NaN           1.0  \n",
       "6602           NaN              1.0                  NaN           0.0  \n",
       "\n",
       "[6603 rows x 9 columns]"
      ]
     },
     "execution_count": 51,
     "metadata": {},
     "output_type": "execute_result"
    }
   ],
   "source": [
    "import pandas as pd\n",
    "import numpy as np\n",
    "df=pd.read_csv(\"worldometer_snapshots_April18_to_May18.csv\")\n",
    "df"
   ]
  },
  {
   "cell_type": "code",
   "execution_count": 32,
   "metadata": {},
   "outputs": [
    {
     "data": {
      "text/plain": [
       "Date                      0\n",
       "Country                   0\n",
       "Population                0\n",
       "Total Tests            1098\n",
       "Total Cases              49\n",
       "Total Deaths           1236\n",
       "Total Recovered         285\n",
       "Serious or Critical    2486\n",
       "Active Cases             59\n",
       "dtype: int64"
      ]
     },
     "execution_count": 32,
     "metadata": {},
     "output_type": "execute_result"
    }
   ],
   "source": [
    "df.isnull().sum()"
   ]
  },
  {
   "cell_type": "code",
   "execution_count": 33,
   "metadata": {},
   "outputs": [],
   "source": [
    "df.dropna(inplace=True)"
   ]
  },
  {
   "cell_type": "code",
   "execution_count": 34,
   "metadata": {},
   "outputs": [
    {
     "data": {
      "text/plain": [
       "Date                    object\n",
       "Country                 object\n",
       "Population               int64\n",
       "Total Tests            float64\n",
       "Total Cases            float64\n",
       "Total Deaths           float64\n",
       "Total Recovered        float64\n",
       "Serious or Critical    float64\n",
       "Active Cases           float64\n",
       "dtype: object"
      ]
     },
     "execution_count": 34,
     "metadata": {},
     "output_type": "execute_result"
    }
   ],
   "source": [
    "df.dtypes"
   ]
  },
  {
   "cell_type": "code",
   "execution_count": 35,
   "metadata": {},
   "outputs": [],
   "source": [
    "from sklearn.preprocessing import OneHotEncoder, LabelEncoder\n",
    "\n",
    "lb = LabelEncoder()\n",
    "Country = lb.fit_transform(df['Country'])\n",
    "df['Country'] = Country"
   ]
  },
  {
   "cell_type": "code",
   "execution_count": 36,
   "metadata": {},
   "outputs": [
    {
     "data": {
      "text/plain": [
       "(3514, 9)"
      ]
     },
     "execution_count": 36,
     "metadata": {},
     "output_type": "execute_result"
    }
   ],
   "source": [
    "#checking number of rows and columns n dataset\n",
    "df.shape"
   ]
  },
  {
   "cell_type": "code",
   "execution_count": 37,
   "metadata": {},
   "outputs": [
    {
     "data": {
      "text/plain": [
       "<matplotlib.axes._subplots.AxesSubplot at 0x2358b5b1790>"
      ]
     },
     "execution_count": 37,
     "metadata": {},
     "output_type": "execute_result"
    },
    {
     "data": {
      "image/png": "[encoded data removed]",
      "text/plain": [
       "<Figure size 432x288 with 2 Axes>"
      ]
     },
     "metadata": {
      "needs_background": "light"
     },
     "output_type": "display_data"
    }
   ],
   "source": [
    "#checking null values using heatmap\n",
    "import matplotlib.pyplot as plt\n",
    "import seaborn as sns\n",
    "sns.heatmap(df.isnull())"
   ]
  },
  {
   "cell_type": "code",
   "execution_count": 38,
   "metadata": {},
   "outputs": [
    {
     "data": {
      "text/plain": [
       "<matplotlib.axes._subplots.AxesSubplot at 0x2358b695ee0>"
      ]
     },
     "execution_count": 38,
     "metadata": {},
     "output_type": "execute_result"
    },
    {
     "data": {
      "image/png": "[encoded data removed]",
      "text/plain": [
       "<Figure size 1080x720 with 2 Axes>"
      ]
     },
     "metadata": {
      "needs_background": "light"
     },
     "output_type": "display_data"
    }
   ],
   "source": [
    "import seaborn as sns\n",
    "import matplotlib.pyplot as plt  \n",
    "corr = df.corr()\n",
    "plt.subplots(figsize=(15,10))\n",
    "sns.heatmap(corr, xticklabels=corr.columns, yticklabels=corr.columns, annot=True, cmap=sns.diverging_palette(220, 20, as_cmap=True))"
   ]
  },
  {
   "cell_type": "code",
   "execution_count": 39,
   "metadata": {},
   "outputs": [
    {
     "data": {
      "text/html": [
       "<div>\n",
       "<style scoped>\n",
       "    .dataframe tbody tr th:only-of-type {\n",
       "        vertical-align: middle;\n",
       "    }\n",
       "\n",
       "    .dataframe tbody tr th {\n",
       "        vertical-align: top;\n",
       "    }\n",
       "\n",
       "    .dataframe thead th {\n",
       "        text-align: right;\n",
       "    }\n",
       "</style>\n",
       "<table border=\"1\" class=\"dataframe\">\n",
       "  <thead>\n",
       "    <tr style=\"text-align: right;\">\n",
       "      <th></th>\n",
       "      <th>Country</th>\n",
       "      <th>Population</th>\n",
       "      <th>Total Tests</th>\n",
       "      <th>Total Cases</th>\n",
       "      <th>Total Deaths</th>\n",
       "      <th>Total Recovered</th>\n",
       "      <th>Serious or Critical</th>\n",
       "      <th>Active Cases</th>\n",
       "    </tr>\n",
       "  </thead>\n",
       "  <tbody>\n",
       "    <tr>\n",
       "      <th>Country</th>\n",
       "      <td>1.000000</td>\n",
       "      <td>0.135660</td>\n",
       "      <td>0.167771</td>\n",
       "      <td>0.103918</td>\n",
       "      <td>0.059347</td>\n",
       "      <td>0.071625</td>\n",
       "      <td>0.065469</td>\n",
       "      <td>0.105444</td>\n",
       "    </tr>\n",
       "    <tr>\n",
       "      <th>Population</th>\n",
       "      <td>0.135660</td>\n",
       "      <td>1.000000</td>\n",
       "      <td>0.433597</td>\n",
       "      <td>0.455871</td>\n",
       "      <td>0.438832</td>\n",
       "      <td>0.403253</td>\n",
       "      <td>0.350828</td>\n",
       "      <td>0.457449</td>\n",
       "    </tr>\n",
       "    <tr>\n",
       "      <th>Total Tests</th>\n",
       "      <td>0.167771</td>\n",
       "      <td>0.433597</td>\n",
       "      <td>1.000000</td>\n",
       "      <td>0.660632</td>\n",
       "      <td>0.512517</td>\n",
       "      <td>0.665133</td>\n",
       "      <td>0.484643</td>\n",
       "      <td>0.558251</td>\n",
       "    </tr>\n",
       "    <tr>\n",
       "      <th>Total Cases</th>\n",
       "      <td>0.103918</td>\n",
       "      <td>0.455871</td>\n",
       "      <td>0.660632</td>\n",
       "      <td>1.000000</td>\n",
       "      <td>0.743284</td>\n",
       "      <td>0.759382</td>\n",
       "      <td>0.653590</td>\n",
       "      <td>0.818920</td>\n",
       "    </tr>\n",
       "    <tr>\n",
       "      <th>Total Deaths</th>\n",
       "      <td>0.059347</td>\n",
       "      <td>0.438832</td>\n",
       "      <td>0.512517</td>\n",
       "      <td>0.743284</td>\n",
       "      <td>1.000000</td>\n",
       "      <td>0.633551</td>\n",
       "      <td>0.648806</td>\n",
       "      <td>0.673480</td>\n",
       "    </tr>\n",
       "    <tr>\n",
       "      <th>Total Recovered</th>\n",
       "      <td>0.071625</td>\n",
       "      <td>0.403253</td>\n",
       "      <td>0.665133</td>\n",
       "      <td>0.759382</td>\n",
       "      <td>0.633551</td>\n",
       "      <td>1.000000</td>\n",
       "      <td>0.579709</td>\n",
       "      <td>0.578504</td>\n",
       "    </tr>\n",
       "    <tr>\n",
       "      <th>Serious or Critical</th>\n",
       "      <td>0.065469</td>\n",
       "      <td>0.350828</td>\n",
       "      <td>0.484643</td>\n",
       "      <td>0.653590</td>\n",
       "      <td>0.648806</td>\n",
       "      <td>0.579709</td>\n",
       "      <td>1.000000</td>\n",
       "      <td>0.618825</td>\n",
       "    </tr>\n",
       "    <tr>\n",
       "      <th>Active Cases</th>\n",
       "      <td>0.105444</td>\n",
       "      <td>0.457449</td>\n",
       "      <td>0.558251</td>\n",
       "      <td>0.818920</td>\n",
       "      <td>0.673480</td>\n",
       "      <td>0.578504</td>\n",
       "      <td>0.618825</td>\n",
       "      <td>1.000000</td>\n",
       "    </tr>\n",
       "  </tbody>\n",
       "</table>\n",
       "</div>"
      ],
      "text/plain": [
       "                      Country  Population  Total Tests  Total Cases  \\\n",
       "Country              1.000000    0.135660     0.167771     0.103918   \n",
       "Population           0.135660    1.000000     0.433597     0.455871   \n",
       "Total Tests          0.167771    0.433597     1.000000     0.660632   \n",
       "Total Cases          0.103918    0.455871     0.660632     1.000000   \n",
       "Total Deaths         0.059347    0.438832     0.512517     0.743284   \n",
       "Total Recovered      0.071625    0.403253     0.665133     0.759382   \n",
       "Serious or Critical  0.065469    0.350828     0.484643     0.653590   \n",
       "Active Cases         0.105444    0.457449     0.558251     0.818920   \n",
       "\n",
       "                     Total Deaths  Total Recovered  Serious or Critical  \\\n",
       "Country                  0.059347         0.071625             0.065469   \n",
       "Population               0.438832         0.403253             0.350828   \n",
       "Total Tests              0.512517         0.665133             0.484643   \n",
       "Total Cases              0.743284         0.759382             0.653590   \n",
       "Total Deaths             1.000000         0.633551             0.648806   \n",
       "Total Recovered          0.633551         1.000000             0.579709   \n",
       "Serious or Critical      0.648806         0.579709             1.000000   \n",
       "Active Cases             0.673480         0.578504             0.618825   \n",
       "\n",
       "                     Active Cases  \n",
       "Country                  0.105444  \n",
       "Population               0.457449  \n",
       "Total Tests              0.558251  \n",
       "Total Cases              0.818920  \n",
       "Total Deaths             0.673480  \n",
       "Total Recovered          0.578504  \n",
       "Serious or Critical      0.618825  \n",
       "Active Cases             1.000000  "
      ]
     },
     "execution_count": 39,
     "metadata": {},
     "output_type": "execute_result"
    }
   ],
   "source": [
    "df.corr(method ='kendall') "
   ]
  },
  {
   "cell_type": "code",
   "execution_count": 40,
   "metadata": {},
   "outputs": [
    {
     "data": {
      "text/plain": [
       "Population                 AxesSubplot(0.125,0.71587;0.133621x0.16413)\n",
       "Total Tests             AxesSubplot(0.285345,0.71587;0.133621x0.16413)\n",
       "Total Cases              AxesSubplot(0.44569,0.71587;0.133621x0.16413)\n",
       "Total Deaths            AxesSubplot(0.606034,0.71587;0.133621x0.16413)\n",
       "Total Recovered         AxesSubplot(0.766379,0.71587;0.133621x0.16413)\n",
       "Serious or Critical       AxesSubplot(0.125,0.518913;0.133621x0.16413)\n",
       "Active Cases           AxesSubplot(0.285345,0.518913;0.133621x0.16413)\n",
       "dtype: object"
      ]
     },
     "execution_count": 40,
     "metadata": {},
     "output_type": "execute_result"
    },
    {
     "data": {
      "image/png": "[encoded data removed]",
      "text/plain": [
       "<Figure size 720x1080 with 20 Axes>"
      ]
     },
     "metadata": {
      "needs_background": "light"
     },
     "output_type": "display_data"
    }
   ],
   "source": [
    "#ploting boxplot for each column to chek outliars\n",
    "df.plot(kind='box',subplots=True,layout=(4,5),figsize=(10,15))"
   ]
  },
  {
   "cell_type": "code",
   "execution_count": 41,
   "metadata": {},
   "outputs": [
    {
     "data": {
      "text/plain": [
       "<bound method DataFrame.skew of            Date  Country  Population  Total Tests  Total Cases  Total Deaths  \\\n",
       "0     4/18/2020      121   330774664    3722145.0     738792.0       39014.0   \n",
       "1     4/18/2020      102   145927292    1831892.0      36793.0         313.0   \n",
       "2     4/18/2020      113    46752703     930230.0     194416.0       20043.0   \n",
       "3     4/18/2020       21   212380932      62985.0      36722.0        2361.0   \n",
       "5     4/18/2020       62    60471924    1305833.0     175925.0       23227.0   \n",
       "...         ...      ...         ...          ...          ...           ...   \n",
       "6554  5/18/2020       11      392795       1826.0         96.0          11.0   \n",
       "6556  5/18/2020       14      287335       4004.0         88.0           7.0   \n",
       "6559  5/18/2020      109       42817        414.0         77.0          15.0   \n",
       "6560  5/18/2020       75    19066433       1803.0         70.0           3.0   \n",
       "6571  5/18/2020        4       97833        183.0         25.0           3.0   \n",
       "\n",
       "      Total Recovered  Serious or Critical  Active Cases  \n",
       "0             68269.0              13551.0      631509.0  \n",
       "1              3057.0                  8.0       33423.0  \n",
       "2             74797.0               7371.0       99576.0  \n",
       "3             14026.0               6634.0       20335.0  \n",
       "5             44927.0               2733.0      107771.0  \n",
       "...               ...                  ...           ...  \n",
       "6554             43.0                  1.0          42.0  \n",
       "6556             68.0                  4.0          13.0  \n",
       "6559             54.0                  7.0           8.0  \n",
       "6560             27.0                  1.0          40.0  \n",
       "6571             19.0                  1.0           3.0  \n",
       "\n",
       "[3514 rows x 9 columns]>"
      ]
     },
     "execution_count": 41,
     "metadata": {},
     "output_type": "execute_result"
    }
   ],
   "source": [
    "df.skew"
   ]
  },
  {
   "cell_type": "code",
   "execution_count": 42,
   "metadata": {},
   "outputs": [],
   "source": [
    "skew=('Country','Population','Total Tests','Total Cases','Total Deaths','Total Recovered','Serious or Critical','Active Cases')\n",
    "for col in skew:\n",
    "    if df.skew().loc[col]>0.55:\n",
    "        df[col]=np.log1p(df[col])"
   ]
  },
  {
   "cell_type": "code",
   "execution_count": 43,
   "metadata": {},
   "outputs": [],
   "source": [
    "from sklearn import preprocessing\n",
    "le = preprocessing.LabelEncoder()\n",
    "for column_name in df.columns:\n",
    "    if df[column_name].dtype == object:\n",
    "        df[column_name] = le.fit_transform(df[column_name])      "
   ]
  },
  {
   "cell_type": "code",
   "execution_count": 44,
   "metadata": {},
   "outputs": [
    {
     "name": "stdout",
     "output_type": "stream",
     "text": [
      "(3476, 9)\n"
     ]
    }
   ],
   "source": [
    "from scipy.stats import zscore\n",
    "z_score=abs(zscore(df))\n",
    "df_final= df.loc[(z_score<3).all(axis=1)]\n",
    "print(df_final.shape)"
   ]
  },
  {
   "cell_type": "code",
   "execution_count": 45,
   "metadata": {},
   "outputs": [
    {
     "name": "stdout",
     "output_type": "stream",
     "text": [
      "(3476, 8)\n",
      "(3476,)\n"
     ]
    }
   ],
   "source": [
    "#saperate input and target variabke\n",
    "import numpy as np\n",
    "y=df_final[\"Active Cases\"]\n",
    "df_x=df_final.drop(columns=[\"Active Cases\"])\n",
    "print(df_x.shape)\n",
    "print(y.shape)\n"
   ]
  },
  {
   "cell_type": "code",
   "execution_count": 46,
   "metadata": {},
   "outputs": [
    {
     "name": "stdout",
     "output_type": "stream",
     "text": [
      "max r2 score corrospond to random state 42 is 0.9967312765155949\n",
      "\n",
      "\n",
      "\n",
      "\n",
      "max r2 score corrospond to random state 42 is 0.9967312765155949 and model is DecisionTreeRegressor()\n",
      "max r2 score corrospond to random state 42 is 0.9545273682471779\n",
      "max r2 score corrospond to random state 42 is 0.9269665419557785\n",
      "max r2 score corrospond to random state 42 is 0.951210534357024\n",
      "max r2 score corrospond to random state 42 is 0.9878957157424244\n",
      "max r2 score corrospond to random state 43 is 0.9941971851267448\n",
      "max r2 score corrospond to random state 43 is 0.9562659459878924\n",
      "max r2 score corrospond to random state 43 is 0.9174812651009427\n",
      "max r2 score corrospond to random state 43 is 0.954152372197913\n",
      "max r2 score corrospond to random state 43 is 0.985517947601987\n",
      "max r2 score corrospond to random state 44 is 0.9920327844518446\n",
      "max r2 score corrospond to random state 44 is 0.9598372865624318\n",
      "max r2 score corrospond to random state 44 is 0.9230750752581327\n",
      "max r2 score corrospond to random state 44 is 0.9507918488807098\n",
      "max r2 score corrospond to random state 44 is 0.9857852725604449\n",
      "max r2 score corrospond to random state 45 is 0.98812052874416\n",
      "max r2 score corrospond to random state 45 is 0.9533243040492846\n",
      "max r2 score corrospond to random state 45 is 0.9168933739775583\n",
      "max r2 score corrospond to random state 45 is 0.956976305388822\n",
      "max r2 score corrospond to random state 45 is 0.9872042512626696\n",
      "max r2 score corrospond to random state 46 is 0.9958680447808372\n",
      "max r2 score corrospond to random state 46 is 0.9524414665531755\n",
      "max r2 score corrospond to random state 46 is 0.9272735030871722\n",
      "max r2 score corrospond to random state 46 is 0.9516049451489423\n",
      "max r2 score corrospond to random state 46 is 0.9857881457995926\n",
      "max r2 score corrospond to random state 47 is 0.9931242466195768\n",
      "max r2 score corrospond to random state 47 is 0.9604324877004267\n",
      "max r2 score corrospond to random state 47 is 0.9156218977181587\n",
      "max r2 score corrospond to random state 47 is 0.9593302638335153\n",
      "max r2 score corrospond to random state 47 is 0.9877345202500089\n",
      "max r2 score corrospond to random state 48 is 0.993319212594515\n",
      "max r2 score corrospond to random state 48 is 0.9573384047622716\n",
      "max r2 score corrospond to random state 48 is 0.9116405873765971\n",
      "max r2 score corrospond to random state 48 is 0.9512260233223159\n",
      "max r2 score corrospond to random state 48 is 0.987413640600858\n",
      "max r2 score corrospond to random state 49 is 0.9938682327074648\n",
      "max r2 score corrospond to random state 49 is 0.9520075781854395\n",
      "max r2 score corrospond to random state 49 is 0.9210043035461016\n",
      "max r2 score corrospond to random state 49 is 0.9529043513414794\n",
      "max r2 score corrospond to random state 49 is 0.9851606660854632\n",
      "max r2 score corrospond to random state 50 is 0.9919128702408897\n",
      "max r2 score corrospond to random state 50 is 0.9577765749675085\n",
      "max r2 score corrospond to random state 50 is 0.9221778304146178\n",
      "max r2 score corrospond to random state 50 is 0.9553266049739338\n",
      "max r2 score corrospond to random state 50 is 0.9869106518451539\n",
      "max r2 score corrospond to random state 51 is 0.9940867967783118\n",
      "max r2 score corrospond to random state 51 is 0.9524346324043951\n",
      "max r2 score corrospond to random state 51 is 0.9201576878625911\n",
      "max r2 score corrospond to random state 51 is 0.9491015176461681\n",
      "max r2 score corrospond to random state 51 is 0.9845759861579495\n",
      "max r2 score corrospond to random state 52 is 0.9935538867643156\n",
      "max r2 score corrospond to random state 52 is 0.9580940023352574\n",
      "max r2 score corrospond to random state 52 is 0.928114277188624\n",
      "max r2 score corrospond to random state 52 is 0.962115323207821\n",
      "max r2 score corrospond to random state 52 is 0.9889995993442174\n",
      "max r2 score corrospond to random state 53 is 0.992163549089823\n",
      "max r2 score corrospond to random state 53 is 0.9561552207512578\n",
      "max r2 score corrospond to random state 53 is 0.9203392184603049\n",
      "max r2 score corrospond to random state 53 is 0.9528759884050624\n",
      "max r2 score corrospond to random state 53 is 0.987243820932095\n",
      "max r2 score corrospond to random state 54 is 0.9960681174399366\n",
      "max r2 score corrospond to random state 54 is 0.9603728462167068\n",
      "max r2 score corrospond to random state 54 is 0.9192576223920085\n",
      "max r2 score corrospond to random state 54 is 0.9577446675911346\n",
      "max r2 score corrospond to random state 54 is 0.9893415806371513\n",
      "max r2 score corrospond to random state 55 is 0.996749317940308\n",
      "\n",
      "\n",
      "\n",
      "\n",
      "max r2 score corrospond to random state 55 is 0.996749317940308 and model is DecisionTreeRegressor()\n",
      "max r2 score corrospond to random state 55 is 0.9532660172631353\n",
      "max r2 score corrospond to random state 55 is 0.9241544734961846\n",
      "max r2 score corrospond to random state 55 is 0.9545374961756085\n",
      "max r2 score corrospond to random state 55 is 0.9881658125155651\n",
      "max r2 score corrospond to random state 56 is 0.9929280216431416\n",
      "max r2 score corrospond to random state 56 is 0.9546703604300165\n",
      "max r2 score corrospond to random state 56 is 0.9174277923875503\n",
      "max r2 score corrospond to random state 56 is 0.9521638720451544\n",
      "max r2 score corrospond to random state 56 is 0.9844997758750988\n",
      "max r2 score corrospond to random state 57 is 0.9943163340580728\n",
      "max r2 score corrospond to random state 57 is 0.9616502090969141\n",
      "max r2 score corrospond to random state 57 is 0.9240321311625821\n",
      "max r2 score corrospond to random state 57 is 0.9524150186021794\n",
      "max r2 score corrospond to random state 57 is 0.9865901960378636\n",
      "max r2 score corrospond to random state 58 is 0.9921810027021853\n",
      "max r2 score corrospond to random state 58 is 0.9512542605007633\n",
      "max r2 score corrospond to random state 58 is 0.9198964175338132\n",
      "max r2 score corrospond to random state 58 is 0.9509083399828747\n",
      "max r2 score corrospond to random state 58 is 0.9848050360575955\n",
      "max r2 score corrospond to random state 59 is 0.9927832603527207\n",
      "max r2 score corrospond to random state 59 is 0.9549751634690108\n",
      "max r2 score corrospond to random state 59 is 0.9246579759153992\n",
      "max r2 score corrospond to random state 59 is 0.9607206435258936\n",
      "max r2 score corrospond to random state 59 is 0.9880987551415852\n",
      "max r2 score corrospond to random state 60 is 0.9934180268970063\n",
      "max r2 score corrospond to random state 60 is 0.9550848650509179\n",
      "max r2 score corrospond to random state 60 is 0.9168012084998636\n",
      "max r2 score corrospond to random state 60 is 0.9497570259831003\n",
      "max r2 score corrospond to random state 60 is 0.9843904568483846\n",
      "max r2 score corrospond to random state 61 is 0.9943671067882235\n",
      "max r2 score corrospond to random state 61 is 0.9556827478995467\n",
      "max r2 score corrospond to random state 61 is 0.9239396363326866\n",
      "max r2 score corrospond to random state 61 is 0.9503475023338798\n",
      "max r2 score corrospond to random state 61 is 0.9856797892062189\n",
      "max r2 score corrospond to random state 62 is 0.9930325565163108\n",
      "max r2 score corrospond to random state 62 is 0.9641982563356802\n",
      "max r2 score corrospond to random state 62 is 0.921693399745795\n",
      "max r2 score corrospond to random state 62 is 0.9539442550107134\n",
      "max r2 score corrospond to random state 62 is 0.9879959838192607\n",
      "max r2 score corrospond to random state 63 is 0.9932479119864489\n",
      "max r2 score corrospond to random state 63 is 0.9610149368378526\n",
      "max r2 score corrospond to random state 63 is 0.9285803257889005\n",
      "max r2 score corrospond to random state 63 is 0.9614377044843211\n",
      "max r2 score corrospond to random state 63 is 0.9877693173506683\n",
      "max r2 score corrospond to random state 64 is 0.9963622348706506\n",
      "max r2 score corrospond to random state 64 is 0.9596578684318138\n",
      "max r2 score corrospond to random state 64 is 0.9194209228823228\n",
      "max r2 score corrospond to random state 64 is 0.9540035003249582\n",
      "max r2 score corrospond to random state 64 is 0.9865534032035328\n",
      "max r2 score corrospond to random state 65 is 0.9949692240428916\n",
      "max r2 score corrospond to random state 65 is 0.9577441860688566\n",
      "max r2 score corrospond to random state 65 is 0.9100077684166499\n",
      "max r2 score corrospond to random state 65 is 0.9544680340347693\n",
      "max r2 score corrospond to random state 65 is 0.9879827352673175\n",
      "max r2 score corrospond to random state 66 is 0.9876104591199941\n",
      "max r2 score corrospond to random state 66 is 0.9516806881659047\n",
      "max r2 score corrospond to random state 66 is 0.9265375240886219\n",
      "max r2 score corrospond to random state 66 is 0.949475879786757\n"
     ]
    },
    {
     "name": "stdout",
     "output_type": "stream",
     "text": [
      "max r2 score corrospond to random state 66 is 0.9851665525075564\n",
      "max r2 score corrospond to random state 67 is 0.9944768267653963\n",
      "max r2 score corrospond to random state 67 is 0.9491605762390686\n",
      "max r2 score corrospond to random state 67 is 0.9187464906045323\n",
      "max r2 score corrospond to random state 67 is 0.9539653704895998\n",
      "max r2 score corrospond to random state 67 is 0.9859700590079497\n",
      "max r2 score corrospond to random state 68 is 0.9919130608044611\n",
      "max r2 score corrospond to random state 68 is 0.9594185783917869\n",
      "max r2 score corrospond to random state 68 is 0.9232542077160903\n",
      "max r2 score corrospond to random state 68 is 0.952449753564269\n",
      "max r2 score corrospond to random state 68 is 0.9860066867144379\n",
      "max r2 score corrospond to random state 69 is 0.9950732635484636\n",
      "max r2 score corrospond to random state 69 is 0.9533551249861345\n",
      "max r2 score corrospond to random state 69 is 0.9224356067934558\n",
      "max r2 score corrospond to random state 69 is 0.9578281719769792\n",
      "max r2 score corrospond to random state 69 is 0.9883802755349939\n",
      "max r2 score corrospond to random state 70 is 0.9913430774528916\n",
      "max r2 score corrospond to random state 70 is 0.9569062283018926\n",
      "max r2 score corrospond to random state 70 is 0.9168603250991411\n",
      "max r2 score corrospond to random state 70 is 0.9504864631445937\n",
      "max r2 score corrospond to random state 70 is 0.9865720527986185\n",
      "max r2 score corrospond to random state 71 is 0.9917936033996695\n",
      "max r2 score corrospond to random state 71 is 0.9581462685192753\n",
      "max r2 score corrospond to random state 71 is 0.915689734615645\n",
      "max r2 score corrospond to random state 71 is 0.9530109975611202\n",
      "max r2 score corrospond to random state 71 is 0.9867237799067663\n",
      "max r2 score corrospond to random state 72 is 0.9926737201149458\n",
      "max r2 score corrospond to random state 72 is 0.95843896384294\n",
      "max r2 score corrospond to random state 72 is 0.9197229455179579\n",
      "max r2 score corrospond to random state 72 is 0.9537692881755578\n",
      "max r2 score corrospond to random state 72 is 0.9864012350167684\n",
      "max r2 score corrospond to random state 73 is 0.9871534964700527\n",
      "max r2 score corrospond to random state 73 is 0.9592300684384976\n",
      "max r2 score corrospond to random state 73 is 0.9258943074317543\n",
      "max r2 score corrospond to random state 73 is 0.9558377578674766\n",
      "max r2 score corrospond to random state 73 is 0.9864100781857617\n",
      "max r2 score corrospond to random state 74 is 0.9902798861573399\n",
      "max r2 score corrospond to random state 74 is 0.9571291744822674\n",
      "max r2 score corrospond to random state 74 is 0.9139642441310593\n",
      "max r2 score corrospond to random state 74 is 0.9499003203291236\n",
      "max r2 score corrospond to random state 74 is 0.9852260639535219\n",
      "max r2 score corrospond to random state 75 is 0.9950348571709491\n",
      "max r2 score corrospond to random state 75 is 0.9600979606669378\n",
      "max r2 score corrospond to random state 75 is 0.915670725775567\n",
      "max r2 score corrospond to random state 75 is 0.9548085546510731\n",
      "max r2 score corrospond to random state 75 is 0.9862258501191902\n",
      "max r2 score corrospond to random state 76 is 0.9937864701267958\n",
      "max r2 score corrospond to random state 76 is 0.9595446211857891\n",
      "max r2 score corrospond to random state 76 is 0.9208064746495551\n",
      "max r2 score corrospond to random state 76 is 0.9551396991724108\n",
      "max r2 score corrospond to random state 76 is 0.9863182238151514\n",
      "max r2 score corrospond to random state 77 is 0.9961287018215589\n",
      "max r2 score corrospond to random state 77 is 0.9590766236540416\n",
      "max r2 score corrospond to random state 77 is 0.9238731881256738\n",
      "max r2 score corrospond to random state 77 is 0.9548612399570566\n",
      "max r2 score corrospond to random state 77 is 0.9879934882645464\n",
      "max r2 score corrospond to random state 78 is 0.9949181730212592\n",
      "max r2 score corrospond to random state 78 is 0.9574507453279978\n",
      "max r2 score corrospond to random state 78 is 0.9193285797374499\n",
      "max r2 score corrospond to random state 78 is 0.9555557630008851\n",
      "max r2 score corrospond to random state 78 is 0.9876313729958587\n",
      "max r2 score corrospond to random state 79 is 0.9941029007528546\n",
      "max r2 score corrospond to random state 79 is 0.9517909654257779\n",
      "max r2 score corrospond to random state 79 is 0.9177924916620995\n",
      "max r2 score corrospond to random state 79 is 0.950428107613162\n",
      "max r2 score corrospond to random state 79 is 0.9858189290492397\n",
      "max r2 score corrospond to random state 80 is 0.9940636271812373\n",
      "max r2 score corrospond to random state 80 is 0.9372692521336327\n",
      "max r2 score corrospond to random state 80 is 0.9152705900391226\n",
      "max r2 score corrospond to random state 80 is 0.9507882106403364\n",
      "max r2 score corrospond to random state 80 is 0.9843977310515118\n",
      "max r2 score corrospond to random state 81 is 0.9945731699941999\n",
      "max r2 score corrospond to random state 81 is 0.9564856083777793\n",
      "max r2 score corrospond to random state 81 is 0.9218969961540454\n",
      "max r2 score corrospond to random state 81 is 0.9520013004066405\n",
      "max r2 score corrospond to random state 81 is 0.9879452950742522\n",
      "max r2 score corrospond to random state 82 is 0.9958258543260096\n",
      "max r2 score corrospond to random state 82 is 0.9595293508219236\n",
      "max r2 score corrospond to random state 82 is 0.9225569803636083\n",
      "max r2 score corrospond to random state 82 is 0.9529319126524836\n",
      "max r2 score corrospond to random state 82 is 0.9880945065343749\n",
      "max r2 score corrospond to random state 83 is 0.9948431432057027\n",
      "max r2 score corrospond to random state 83 is 0.9553594996520379\n",
      "max r2 score corrospond to random state 83 is 0.9153043832098589\n",
      "max r2 score corrospond to random state 83 is 0.9557844738823883\n",
      "max r2 score corrospond to random state 83 is 0.9887405927642532\n",
      "max r2 score corrospond to random state 84 is 0.995720760534713\n",
      "max r2 score corrospond to random state 84 is 0.9554628106857027\n",
      "max r2 score corrospond to random state 84 is 0.9135930245795161\n",
      "max r2 score corrospond to random state 84 is 0.9551100580642888\n",
      "max r2 score corrospond to random state 84 is 0.987066535374357\n",
      "max r2 score corrospond to random state 85 is 0.9884650935643664\n",
      "max r2 score corrospond to random state 85 is 0.9593510197580258\n",
      "max r2 score corrospond to random state 85 is 0.9195785386894648\n",
      "max r2 score corrospond to random state 85 is 0.9518629289359636\n",
      "max r2 score corrospond to random state 85 is 0.9862478646231312\n",
      "max r2 score corrospond to random state 86 is 0.9937752456007354\n",
      "max r2 score corrospond to random state 86 is 0.9490032612817821\n",
      "max r2 score corrospond to random state 86 is 0.9188654780743319\n",
      "max r2 score corrospond to random state 86 is 0.9606277586525788\n",
      "max r2 score corrospond to random state 86 is 0.9879040676792074\n",
      "max r2 score corrospond to random state 87 is 0.994624316201552\n",
      "max r2 score corrospond to random state 87 is 0.957405279699811\n",
      "max r2 score corrospond to random state 87 is 0.9147746943089206\n",
      "max r2 score corrospond to random state 87 is 0.9541624232489558\n",
      "max r2 score corrospond to random state 87 is 0.9866477574904045\n",
      "max r2 score corrospond to random state 88 is 0.9943530877911442\n",
      "max r2 score corrospond to random state 88 is 0.9510600407645724\n",
      "max r2 score corrospond to random state 88 is 0.9167311905830077\n",
      "max r2 score corrospond to random state 88 is 0.9553451107267978\n",
      "max r2 score corrospond to random state 88 is 0.9869055447132958\n",
      "max r2 score corrospond to random state 89 is 0.9948917177237432\n",
      "max r2 score corrospond to random state 89 is 0.9603971292710602\n",
      "max r2 score corrospond to random state 89 is 0.918658515943354\n",
      "max r2 score corrospond to random state 89 is 0.9560258629588998\n",
      "max r2 score corrospond to random state 89 is 0.9878030553900619\n",
      "max r2 score corrospond to random state 90 is 0.9941577087390627\n",
      "max r2 score corrospond to random state 90 is 0.955490999780058\n",
      "max r2 score corrospond to random state 90 is 0.9121250017965423\n",
      "max r2 score corrospond to random state 90 is 0.9569091304941568\n",
      "max r2 score corrospond to random state 90 is 0.987678384318363\n",
      "max r2 score corrospond to random state 91 is 0.9975844578527477\n",
      "\n",
      "\n",
      "\n",
      "\n",
      "max r2 score corrospond to random state 91 is 0.9975844578527477 and model is DecisionTreeRegressor()\n",
      "max r2 score corrospond to random state 91 is 0.9535905489067039\n",
      "max r2 score corrospond to random state 91 is 0.9157181427668446\n",
      "max r2 score corrospond to random state 91 is 0.9498655091676084\n"
     ]
    },
    {
     "name": "stdout",
     "output_type": "stream",
     "text": [
      "max r2 score corrospond to random state 91 is 0.9868105045345967\n",
      "max r2 score corrospond to random state 92 is 0.9953401692965926\n",
      "max r2 score corrospond to random state 92 is 0.94782028090635\n",
      "max r2 score corrospond to random state 92 is 0.9190764107863343\n",
      "max r2 score corrospond to random state 92 is 0.9544658579668636\n",
      "max r2 score corrospond to random state 92 is 0.9859996804440018\n",
      "max r2 score corrospond to random state 93 is 0.9952331052031134\n",
      "max r2 score corrospond to random state 93 is 0.956818870063697\n",
      "max r2 score corrospond to random state 93 is 0.92763101348138\n",
      "max r2 score corrospond to random state 93 is 0.9540113131639605\n",
      "max r2 score corrospond to random state 93 is 0.9868460050532729\n",
      "max r2 score corrospond to random state 94 is 0.9903190329363812\n",
      "max r2 score corrospond to random state 94 is 0.9627012682583052\n",
      "max r2 score corrospond to random state 94 is 0.9165557863276811\n",
      "max r2 score corrospond to random state 94 is 0.9527265878717842\n",
      "max r2 score corrospond to random state 94 is 0.9874276999790682\n",
      "max r2 score corrospond to random state 95 is 0.9950390887422229\n",
      "max r2 score corrospond to random state 95 is 0.9664579457489967\n",
      "max r2 score corrospond to random state 95 is 0.9172354349728443\n",
      "max r2 score corrospond to random state 95 is 0.9591942882138594\n",
      "max r2 score corrospond to random state 95 is 0.9890348869167981\n",
      "max r2 score corrospond to random state 96 is 0.9917342588005331\n",
      "max r2 score corrospond to random state 96 is 0.9440143422089107\n",
      "max r2 score corrospond to random state 96 is 0.9112943031274485\n",
      "max r2 score corrospond to random state 96 is 0.9471019860121782\n",
      "max r2 score corrospond to random state 96 is 0.982489285728361\n",
      "max r2 score corrospond to random state 97 is 0.9944751813593316\n",
      "max r2 score corrospond to random state 97 is 0.9638429829225156\n",
      "max r2 score corrospond to random state 97 is 0.9228536986151359\n",
      "max r2 score corrospond to random state 97 is 0.9589426106597145\n",
      "max r2 score corrospond to random state 97 is 0.989085594221781\n",
      "max r2 score corrospond to random state 98 is 0.9907258007788268\n",
      "max r2 score corrospond to random state 98 is 0.9599529974566751\n",
      "max r2 score corrospond to random state 98 is 0.9228727708894561\n",
      "max r2 score corrospond to random state 98 is 0.9575778664269811\n",
      "max r2 score corrospond to random state 98 is 0.9880838113873394\n",
      "max r2 score corrospond to random state 99 is 0.9970092869126264\n",
      "max r2 score corrospond to random state 99 is 0.9568203190799021\n",
      "max r2 score corrospond to random state 99 is 0.9124988022951036\n",
      "max r2 score corrospond to random state 99 is 0.9530418325898146\n",
      "max r2 score corrospond to random state 99 is 0.9877518617110369\n"
     ]
    }
   ],
   "source": [
    "#calculating r2 score\n",
    "from sklearn.metrics import accuracy_score,classification_report,confusion_matrix,roc_auc_score,roc_curve\n",
    "from sklearn.tree import DecisionTreeRegressor\n",
    "from sklearn.neighbors import KNeighborsRegressor\n",
    "from sklearn.ensemble import AdaBoostRegressor,GradientBoostingRegressor\n",
    "from sklearn.preprocessing import LabelEncoder,StandardScaler\n",
    "from sklearn.model_selection import cross_val_score,train_test_split,GridSearchCV\n",
    "from sklearn.metrics import mean_absolute_error\n",
    "from sklearn.metrics import mean_squared_error\n",
    "from sklearn.metrics import r2_score\n",
    "from sklearn import linear_model\n",
    "from sklearn.linear_model import LinearRegression\n",
    "from sklearn.model_selection import train_test_split\n",
    "x_train,x_test,y_train,Y_test=train_test_split(df_x,y,random_state=55,test_size=0.20)\n",
    "model=[DecisionTreeRegressor(),KNeighborsRegressor(),AdaBoostRegressor(),LinearRegression(),GradientBoostingRegressor()]\n",
    "from sklearn.decomposition import PCA\n",
    "max_r_score=0\n",
    "for r_state in range(42,100):\n",
    "    x_train,x_test,y_train,Y_test=train_test_split(df_x,y,random_state=r_state,test_size=0.33)\n",
    "    for i in model:\n",
    "        i.fit(x_train,y_train)\n",
    "        pre=i.predict(x_test)\n",
    "        r2_sc=r2_score(Y_test,pre)\n",
    "        print(\"max r2 score corrospond to random state\",r_state,\"is\",r2_sc)\n",
    "        if r2_sc>max_r_score:\n",
    "            max_r_score=r2_sc\n",
    "            final_r_state=r_state\n",
    "            final_model=i\n",
    "            print()\n",
    "            print()\n",
    "            print()\n",
    "            print()\n",
    "            print(\"max r2 score corrospond to random state\",final_r_state,\"is\",max_r_score,\"and model is\",final_model)\n",
    " "
   ]
  },
  {
   "cell_type": "code",
   "execution_count": 47,
   "metadata": {},
   "outputs": [],
   "source": [
    "x_train,x_test,y_train,Y_test=train_test_split(df_x,y,random_state=91,test_size=0.20)\n",
    "lreg=linear_model.LinearRegression()\n",
    "lreg.fit(x_train,y_train)\n",
    "y_pred=lreg.predict(x_test)"
   ]
  },
  {
   "cell_type": "code",
   "execution_count": 48,
   "metadata": {},
   "outputs": [
    {
     "data": {
      "text/plain": [
       "0.9550142985325696"
      ]
     },
     "execution_count": 48,
     "metadata": {},
     "output_type": "execute_result"
    }
   ],
   "source": [
    "from sklearn.model_selection import cross_val_score\n",
    "cross_val_score(linear_model.LinearRegression(),df_x,y,cv=10,scoring=\"r2\").mean()"
   ]
  },
  {
   "cell_type": "code",
   "execution_count": 49,
   "metadata": {},
   "outputs": [
    {
     "name": "stdout",
     "output_type": "stream",
     "text": [
      "r2 score is 0.9438969661749596\n",
      "RMSE is 0.5389079740199636\n"
     ]
    }
   ],
   "source": [
    "from sklearn.metrics import r2_score\n",
    "from sklearn.metrics import mean_squared_error\n",
    "print(\"r2 score is\",r2_score(Y_test,y_pred))\n",
    "print(\"RMSE is\",np.sqrt(mean_squared_error(Y_test,y_pred)))"
   ]
  },
  {
   "cell_type": "code",
   "execution_count": 50,
   "metadata": {},
   "outputs": [
    {
     "data": {
      "text/plain": [
       "['covid.pkl']"
      ]
     },
     "execution_count": 50,
     "metadata": {},
     "output_type": "execute_result"
    }
   ],
   "source": [
    "import joblib\n",
    "joblib.dump(lreg,'covid.pkl')"
   ]
  },
  {
   "cell_type": "code",
   "execution_count": null,
   "metadata": {},
   "outputs": [],
   "source": []
  }
 ],
 "metadata": {
  "kernelspec": {
   "display_name": "Python 3",
   "language": "python",
   "name": "python3"
  },
  "language_info": {
   "codemirror_mode": {
    "name": "ipython",
    "version": 3
   },
   "file_extension": ".py",
   "mimetype": "text/x-python",
   "name": "python",
   "nbconvert_exporter": "python",
   "pygments_lexer": "ipython3",
   "version": "3.8.3"
  }
 },
 "nbformat": 4,
 "nbformat_minor": 4
}
