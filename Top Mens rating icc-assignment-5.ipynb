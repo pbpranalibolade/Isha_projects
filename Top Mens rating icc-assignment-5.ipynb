{
 "cells": [
  {
   "cell_type": "code",
   "execution_count": 1,
   "metadata": {},
   "outputs": [],
   "source": [
    "from bs4 import BeautifulSoup\n",
    "import requests\n",
    "import pandas as pd\n",
    "import re"
   ]
  },
  {
   "cell_type": "code",
   "execution_count": 2,
   "metadata": {},
   "outputs": [],
   "source": [
    "page=requests.get(\"https://www.icc-cricket.com/rankings/mens/team-rankings/odi\")"
   ]
  },
  {
   "cell_type": "code",
   "execution_count": null,
   "metadata": {},
   "outputs": [],
   "source": [
    "page.content"
   ]
  },
  {
   "cell_type": "code",
   "execution_count": 3,
   "metadata": {},
   "outputs": [],
   "source": [
    "soup=BeautifulSoup(page.content,'html.parser')"
   ]
  },
  {
   "cell_type": "code",
   "execution_count": 4,
   "metadata": {},
   "outputs": [],
   "source": [
    "soup.find('span', class_=\"circle-branding circle-branding--top\").decompose()\n",
    "soup.find('span', class_=\"circle-branding circle-branding--bottom\").decompose()\n",
    "#soup.find('th', class_=\"table-head__cell u-text-right\").decompose()\n"
   ]
  },
  {
   "cell_type": "code",
   "execution_count": 5,
   "metadata": {},
   "outputs": [],
   "source": [
    "ToptenTeam=[]\n",
    "Matches=[]\n",
    "Points=[]\n",
    "Ratings=[]"
   ]
  },
  {
   "cell_type": "code",
   "execution_count": 6,
   "metadata": {},
   "outputs": [
    {
     "data": {
      "text/plain": [
       "[<span class=\"u-hide-phablet\">England</span>,\n",
       " <span class=\"u-hide-phablet\">India</span>,\n",
       " <span class=\"u-hide-phablet\">New Zealand</span>,\n",
       " <span class=\"u-hide-phablet\">Australia</span>,\n",
       " <span class=\"u-hide-phablet\">South Africa</span>,\n",
       " <span class=\"u-hide-phablet\">Pakistan</span>,\n",
       " <span class=\"u-hide-phablet\">Bangladesh</span>,\n",
       " <span class=\"u-hide-phablet\">Sri Lanka</span>,\n",
       " <span class=\"u-hide-phablet\">West Indies</span>,\n",
       " <span class=\"u-hide-phablet\">Afghanistan</span>,\n",
       " <span class=\"u-hide-phablet\">Ireland</span>,\n",
       " <span class=\"u-hide-phablet\">Netherlands</span>,\n",
       " <span class=\"u-hide-phablet\">Zimbabwe</span>,\n",
       " <span class=\"u-hide-phablet\">Oman</span>,\n",
       " <span class=\"u-hide-phablet\">Scotland</span>,\n",
       " <span class=\"u-hide-phablet\">Nepal</span>,\n",
       " <span class=\"u-hide-phablet\">UAE</span>,\n",
       " <span class=\"u-hide-phablet\">Namibia</span>,\n",
       " <span class=\"u-hide-phablet\">United States</span>,\n",
       " <span class=\"u-hide-phablet\">Papua New Guinea</span>,\n",
       " <span class=\"icn icn-facebook-circle u-hide-phablet\"></span>,\n",
       " <span class=\"icn icn-twitter-circle u-hide-phablet\"></span>,\n",
       " <span class=\"icn icn-instagram-circle u-hide-phablet\"></span>,\n",
       " <span class=\"icn icn-youtube-circle u-hide-phablet\"></span>,\n",
       " <span class=\"icn icn-tiktok-circle u-hide-phablet\"></span>]"
      ]
     },
     "execution_count": 6,
     "metadata": {},
     "output_type": "execute_result"
    }
   ],
   "source": [
    "teams=soup.find_all('span',class_=\"u-hide-phablet\")\n",
    "teams\n"
   ]
  },
  {
   "cell_type": "code",
   "execution_count": 7,
   "metadata": {},
   "outputs": [
    {
     "data": {
      "text/plain": [
       "['England',\n",
       " 'India',\n",
       " 'New Zealand',\n",
       " 'Australia',\n",
       " 'South Africa',\n",
       " 'Pakistan',\n",
       " 'Bangladesh',\n",
       " 'Sri Lanka',\n",
       " 'West Indies',\n",
       " 'Afghanistan']"
      ]
     },
     "execution_count": 7,
     "metadata": {},
     "output_type": "execute_result"
    }
   ],
   "source": [
    "for i in teams:\n",
    "    ToptenTeam.append(i.get_text().replace(\"\\n\",\"\"))\n",
    "ToptenTeam[0:10]\n",
    "    "
   ]
  },
  {
   "cell_type": "code",
   "execution_count": 8,
   "metadata": {},
   "outputs": [
    {
     "name": "stdout",
     "output_type": "stream",
     "text": [
      "Number of tables on site:  1\n"
     ]
    }
   ],
   "source": [
    "gdp = soup.find_all(\"table\", attrs={\"class\": \"table\"})\n",
    "print(\"Number of tables on site: \",len(gdp))"
   ]
  },
  {
   "cell_type": "code",
   "execution_count": 9,
   "metadata": {},
   "outputs": [
    {
     "name": "stdout",
     "output_type": "stream",
     "text": [
      "['Pos', '\\nTeam\\nT', '\\nMatches\\nM', '\\nPoints\\nP', '\\nRating\\nR']\n"
     ]
    }
   ],
   "source": [
    "table1 = gdp[0]\n",
    "\n",
    "body = table1.find_all(\"tr\")\n",
    "\n",
    "head = body[0] \n",
    "body_rows = body[1:] \n",
    "\n",
    "\n",
    "headings = []\n",
    "for item in head.find_all(\"th\"):\n",
    "    item = (item.text).rstrip(\"\\n\")\n",
    "   \n",
    "    headings.append(item)\n",
    "print(headings)"
   ]
  },
  {
   "cell_type": "code",
   "execution_count": 10,
   "metadata": {},
   "outputs": [],
   "source": [
    "all_rows = [] \n",
    "for row_num in range(len(body_rows)):\n",
    "    row = [] \n",
    "    for row_item in body_rows[row_num].find_all(\"td\"): \n",
    "        aa = re.sub(\"(\\xa0)|(\\n)|,\",\"\",row_item.text)\n",
    "       \n",
    "        row.append(aa)\n",
    "    \n",
    "    all_rows.append(row)"
   ]
  },
  {
   "cell_type": "code",
   "execution_count": 11,
   "metadata": {},
   "outputs": [
    {
     "data": {
      "text/html": [
       "<div>\n",
       "<style scoped>\n",
       "    .dataframe tbody tr th:only-of-type {\n",
       "        vertical-align: middle;\n",
       "    }\n",
       "\n",
       "    .dataframe tbody tr th {\n",
       "        vertical-align: top;\n",
       "    }\n",
       "\n",
       "    .dataframe thead th {\n",
       "        text-align: right;\n",
       "    }\n",
       "</style>\n",
       "<table border=\"1\" class=\"dataframe\">\n",
       "  <thead>\n",
       "    <tr style=\"text-align: right;\">\n",
       "      <th></th>\n",
       "      <th>Pos</th>\n",
       "      <th>\\nTeam\\nT</th>\n",
       "      <th>\\nMatches\\nM</th>\n",
       "      <th>\\nPoints\\nP</th>\n",
       "      <th>\\nRating\\nR</th>\n",
       "    </tr>\n",
       "  </thead>\n",
       "  <tbody>\n",
       "    <tr>\n",
       "      <th>0</th>\n",
       "      <td>1</td>\n",
       "      <td>EnglandENG</td>\n",
       "      <td>44</td>\n",
       "      <td>5405</td>\n",
       "      <td>123               ...</td>\n",
       "    </tr>\n",
       "    <tr>\n",
       "      <th>1</th>\n",
       "      <td>2</td>\n",
       "      <td>IndiaIND</td>\n",
       "      <td>52</td>\n",
       "      <td>6102</td>\n",
       "      <td>117</td>\n",
       "    </tr>\n",
       "    <tr>\n",
       "      <th>2</th>\n",
       "      <td>3</td>\n",
       "      <td>New ZealandNZ</td>\n",
       "      <td>32</td>\n",
       "      <td>3716</td>\n",
       "      <td>116</td>\n",
       "    </tr>\n",
       "    <tr>\n",
       "      <th>3</th>\n",
       "      <td>4</td>\n",
       "      <td>AustraliaAUS</td>\n",
       "      <td>39</td>\n",
       "      <td>4344</td>\n",
       "      <td>111</td>\n",
       "    </tr>\n",
       "    <tr>\n",
       "      <th>4</th>\n",
       "      <td>5</td>\n",
       "      <td>South AfricaSA</td>\n",
       "      <td>31</td>\n",
       "      <td>3345</td>\n",
       "      <td>108</td>\n",
       "    </tr>\n",
       "    <tr>\n",
       "      <th>5</th>\n",
       "      <td>6</td>\n",
       "      <td>PakistanPAK</td>\n",
       "      <td>35</td>\n",
       "      <td>3490</td>\n",
       "      <td>100</td>\n",
       "    </tr>\n",
       "    <tr>\n",
       "      <th>6</th>\n",
       "      <td>7</td>\n",
       "      <td>BangladeshBAN</td>\n",
       "      <td>34</td>\n",
       "      <td>2989</td>\n",
       "      <td>88</td>\n",
       "    </tr>\n",
       "    <tr>\n",
       "      <th>7</th>\n",
       "      <td>8</td>\n",
       "      <td>Sri LankaSL</td>\n",
       "      <td>39</td>\n",
       "      <td>3297</td>\n",
       "      <td>85</td>\n",
       "    </tr>\n",
       "    <tr>\n",
       "      <th>8</th>\n",
       "      <td>9</td>\n",
       "      <td>West IndiesWI</td>\n",
       "      <td>43</td>\n",
       "      <td>3285</td>\n",
       "      <td>76</td>\n",
       "    </tr>\n",
       "    <tr>\n",
       "      <th>9</th>\n",
       "      <td>10</td>\n",
       "      <td>AfghanistanAFG</td>\n",
       "      <td>28</td>\n",
       "      <td>1549</td>\n",
       "      <td>55</td>\n",
       "    </tr>\n",
       "  </tbody>\n",
       "</table>\n",
       "</div>"
      ],
      "text/plain": [
       "  Pos       \\nTeam\\nT \\nMatches\\nM \\nPoints\\nP  \\\n",
       "0   1      EnglandENG           44        5405   \n",
       "1   2        IndiaIND           52        6102   \n",
       "2   3   New ZealandNZ           32        3716   \n",
       "3   4    AustraliaAUS           39        4344   \n",
       "4   5  South AfricaSA           31        3345   \n",
       "5   6     PakistanPAK           35        3490   \n",
       "6   7   BangladeshBAN           34        2989   \n",
       "7   8     Sri LankaSL           39        3297   \n",
       "8   9   West IndiesWI           43        3285   \n",
       "9  10  AfghanistanAFG           28        1549   \n",
       "\n",
       "                                         \\nRating\\nR  \n",
       "0                              123               ...  \n",
       "1                                                117  \n",
       "2                                                116  \n",
       "3                                                111  \n",
       "4                                                108  \n",
       "5                                                100  \n",
       "6                                                 88  \n",
       "7                                                 85  \n",
       "8                                                 76  \n",
       "9                                                 55  "
      ]
     },
     "execution_count": 11,
     "metadata": {},
     "output_type": "execute_result"
    }
   ],
   "source": [
    "df = pd.DataFrame(data=all_rows,columns=headings)\n",
    "df[0:10]"
   ]
  },
  {
   "cell_type": "code",
   "execution_count": 12,
   "metadata": {},
   "outputs": [],
   "source": [
    "page1=requests.get(\"https://www.icc-cricket.com/rankings/mens/player-rankings/odi\")"
   ]
  },
  {
   "cell_type": "code",
   "execution_count": null,
   "metadata": {},
   "outputs": [],
   "source": [
    "page1.content"
   ]
  },
  {
   "cell_type": "code",
   "execution_count": 13,
   "metadata": {},
   "outputs": [],
   "source": [
    "soup=BeautifulSoup(page1.content,'html.parser')"
   ]
  },
  {
   "cell_type": "code",
   "execution_count": 14,
   "metadata": {},
   "outputs": [
    {
     "data": {
      "text/plain": [
       "[<div class=\"rankings-block__banner--rating\">870</div>,\n",
       " <div class=\"rankings-block__banner--rating\">722</div>,\n",
       " <div class=\"rankings-block__banner--rating\">373</div>]"
      ]
     },
     "execution_count": 14,
     "metadata": {},
     "output_type": "execute_result"
    }
   ],
   "source": [
    "header_names=soup.find_all('div',class_=\"rankings-block__banner--name\")\n",
    "header_names[0:3]\n",
    "header_nat=soup.find_all('div',class_=\"rankings-block__banner--nationality\")\n",
    "header_nat[0:3]\n",
    "header_rating=soup.find_all('div',class_=\"rankings-block__banner--rating\")\n",
    "header_rating[0:3]\n"
   ]
  },
  {
   "cell_type": "code",
   "execution_count": 15,
   "metadata": {},
   "outputs": [
    {
     "name": "stdout",
     "output_type": "stream",
     "text": [
      "Number of tables on site:  6\n"
     ]
    }
   ],
   "source": [
    "gdp1 = soup.find_all(\"table\", attrs={\"class\": \"table\"})\n",
    "print(\"Number of tables on site: \",len(gdp1))"
   ]
  },
  {
   "cell_type": "code",
   "execution_count": 16,
   "metadata": {},
   "outputs": [
    {
     "name": "stdout",
     "output_type": "stream",
     "text": [
      "['Pos', 'Player', 'Team', 'Rating']\n"
     ]
    }
   ],
   "source": [
    "table1 = gdp1[0]\n",
    "\n",
    "body = table1.find_all(\"tr\")\n",
    "\n",
    "head = body[0] \n",
    "body_rows = body[1:] \n",
    "\n",
    "\n",
    "headings_batsmen = []\n",
    "for item in head.find_all(\"th\"):\n",
    "    item = (item.text).rstrip(\"\\n\")\n",
    "   \n",
    "    headings_batsmen.append(item)\n",
    "print(headings_batsmen)"
   ]
  },
  {
   "cell_type": "code",
   "execution_count": null,
   "metadata": {},
   "outputs": [],
   "source": [
    "all_rows_batsmen"
   ]
  },
  {
   "cell_type": "code",
   "execution_count": 18,
   "metadata": {},
   "outputs": [],
   "source": [
    "all_rows_batsmen = []\n",
    "for row_num in range(len(body_rows)):\n",
    "    row = [] \n",
    "    for row_item in body_rows[row_num].find_all(\"td\"): \n",
    "        aa = re.sub(\"(\\xa0)|(\\n)|,\",\"\",row_item.text)\n",
    "       \n",
    "        row.append(aa)\n",
    "    \n",
    "    all_rows_batsmen.append(row)"
   ]
  },
  {
   "cell_type": "code",
   "execution_count": 19,
   "metadata": {},
   "outputs": [
    {
     "data": {
      "text/html": [
       "<div>\n",
       "<style scoped>\n",
       "    .dataframe tbody tr th:only-of-type {\n",
       "        vertical-align: middle;\n",
       "    }\n",
       "\n",
       "    .dataframe tbody tr th {\n",
       "        vertical-align: top;\n",
       "    }\n",
       "\n",
       "    .dataframe thead th {\n",
       "        text-align: right;\n",
       "    }\n",
       "</style>\n",
       "<table border=\"1\" class=\"dataframe\">\n",
       "  <thead>\n",
       "    <tr style=\"text-align: right;\">\n",
       "      <th></th>\n",
       "      <th>Pos</th>\n",
       "      <th>Player</th>\n",
       "      <th>Team</th>\n",
       "      <th>Rating</th>\n",
       "    </tr>\n",
       "  </thead>\n",
       "  <tbody>\n",
       "    <tr>\n",
       "      <th>0</th>\n",
       "      <td>2</td>\n",
       "      <td>Rohit Sharma</td>\n",
       "      <td>IND</td>\n",
       "      <td>842</td>\n",
       "    </tr>\n",
       "    <tr>\n",
       "      <th>1</th>\n",
       "      <td>3</td>\n",
       "      <td>Babar Azam</td>\n",
       "      <td>PAK</td>\n",
       "      <td>837</td>\n",
       "    </tr>\n",
       "    <tr>\n",
       "      <th>2</th>\n",
       "      <td>4</td>\n",
       "      <td>Ross Taylor</td>\n",
       "      <td>NZ</td>\n",
       "      <td>818</td>\n",
       "    </tr>\n",
       "    <tr>\n",
       "      <th>3</th>\n",
       "      <td>5        T...</td>\n",
       "      <td>Aaron Finch</td>\n",
       "      <td>AUS</td>\n",
       "      <td>791</td>\n",
       "    </tr>\n",
       "    <tr>\n",
       "      <th>4</th>\n",
       "      <td>6        T...</td>\n",
       "      <td>Francois du Plessis</td>\n",
       "      <td>SA</td>\n",
       "      <td>790</td>\n",
       "    </tr>\n",
       "    <tr>\n",
       "      <th>5</th>\n",
       "      <td>7</td>\n",
       "      <td>David Warner</td>\n",
       "      <td>AUS</td>\n",
       "      <td>773</td>\n",
       "    </tr>\n",
       "    <tr>\n",
       "      <th>6</th>\n",
       "      <td>8</td>\n",
       "      <td>Kane Williamson</td>\n",
       "      <td>NZ</td>\n",
       "      <td>765</td>\n",
       "    </tr>\n",
       "    <tr>\n",
       "      <th>7</th>\n",
       "      <td>9</td>\n",
       "      <td>Quinton de Kock</td>\n",
       "      <td>SA</td>\n",
       "      <td>755</td>\n",
       "    </tr>\n",
       "    <tr>\n",
       "      <th>8</th>\n",
       "      <td>10</td>\n",
       "      <td>Jonny Bairstow</td>\n",
       "      <td>ENG</td>\n",
       "      <td>754</td>\n",
       "    </tr>\n",
       "  </tbody>\n",
       "</table>\n",
       "</div>"
      ],
      "text/plain": [
       "                                                 Pos               Player  \\\n",
       "0                                          2                 Rohit Sharma   \n",
       "1                                          3                   Babar Azam   \n",
       "2                                          4                  Ross Taylor   \n",
       "3                                      5        T...          Aaron Finch   \n",
       "4                                      6        T...  Francois du Plessis   \n",
       "5                                          7                 David Warner   \n",
       "6                                          8              Kane Williamson   \n",
       "7                                          9              Quinton de Kock   \n",
       "8                                         10               Jonny Bairstow   \n",
       "\n",
       "  Team Rating  \n",
       "0  IND    842  \n",
       "1  PAK    837  \n",
       "2   NZ    818  \n",
       "3  AUS    791  \n",
       "4   SA    790  \n",
       "5  AUS    773  \n",
       "6   NZ    765  \n",
       "7   SA    755  \n",
       "8  ENG    754  "
      ]
     },
     "execution_count": 19,
     "metadata": {},
     "output_type": "execute_result"
    }
   ],
   "source": [
    "df_batsmen = pd.DataFrame(data=all_rows_batsmen,columns=headings_batsmen)\n",
    "df_batsmen[0:10]"
   ]
  },
  {
   "cell_type": "code",
   "execution_count": 22,
   "metadata": {},
   "outputs": [
    {
     "name": "stdout",
     "output_type": "stream",
     "text": [
      "['Pos', 'Player', 'Team', 'Rating']\n"
     ]
    }
   ],
   "source": [
    "table2 = gdp1[1]\n",
    "\n",
    "body = table2.find_all(\"tr\")\n",
    "\n",
    "head = body[0] \n",
    "body_rows = body[1:] \n",
    "\n",
    "\n",
    "headings_bowler = []\n",
    "for item in head.find_all(\"th\"):\n",
    "    item = (item.text).rstrip(\"\\n\")\n",
    "   \n",
    "    headings_bowler.append(item)\n",
    "print(headings_bowler)"
   ]
  },
  {
   "cell_type": "code",
   "execution_count": 23,
   "metadata": {},
   "outputs": [],
   "source": [
    "all_rows_bowler = [] \n",
    "for row_num in range(len(body_rows)):\n",
    "    row = [] \n",
    "    for row_item in body_rows[row_num].find_all(\"td\"): \n",
    "        aa = re.sub(\"(\\xa0)|(\\n)|,\",\"\",row_item.text)\n",
    "       \n",
    "        row.append(aa)\n",
    "    \n",
    "    all_rows_bowler.append(row)"
   ]
  },
  {
   "cell_type": "code",
   "execution_count": 24,
   "metadata": {},
   "outputs": [
    {
     "data": {
      "text/html": [
       "<div>\n",
       "<style scoped>\n",
       "    .dataframe tbody tr th:only-of-type {\n",
       "        vertical-align: middle;\n",
       "    }\n",
       "\n",
       "    .dataframe tbody tr th {\n",
       "        vertical-align: top;\n",
       "    }\n",
       "\n",
       "    .dataframe thead th {\n",
       "        text-align: right;\n",
       "    }\n",
       "</style>\n",
       "<table border=\"1\" class=\"dataframe\">\n",
       "  <thead>\n",
       "    <tr style=\"text-align: right;\">\n",
       "      <th></th>\n",
       "      <th>Pos</th>\n",
       "      <th>Player</th>\n",
       "      <th>Team</th>\n",
       "      <th>Rating</th>\n",
       "    </tr>\n",
       "  </thead>\n",
       "  <tbody>\n",
       "    <tr>\n",
       "      <th>0</th>\n",
       "      <td>2</td>\n",
       "      <td>Mujeeb Ur Rahman</td>\n",
       "      <td>AFG</td>\n",
       "      <td>701</td>\n",
       "    </tr>\n",
       "    <tr>\n",
       "      <th>1</th>\n",
       "      <td>3</td>\n",
       "      <td>Jasprit Bumrah</td>\n",
       "      <td>IND</td>\n",
       "      <td>700</td>\n",
       "    </tr>\n",
       "    <tr>\n",
       "      <th>2</th>\n",
       "      <td>4</td>\n",
       "      <td>Chris Woakes</td>\n",
       "      <td>ENG</td>\n",
       "      <td>675</td>\n",
       "    </tr>\n",
       "    <tr>\n",
       "      <th>3</th>\n",
       "      <td>5        T...</td>\n",
       "      <td>Kagiso Rabada</td>\n",
       "      <td>SA</td>\n",
       "      <td>665</td>\n",
       "    </tr>\n",
       "    <tr>\n",
       "      <th>4</th>\n",
       "      <td>6        T...</td>\n",
       "      <td>Josh Hazlewood</td>\n",
       "      <td>AUS</td>\n",
       "      <td>660</td>\n",
       "    </tr>\n",
       "  </tbody>\n",
       "</table>\n",
       "</div>"
      ],
      "text/plain": [
       "                                                 Pos            Player Team  \\\n",
       "0                                          2          Mujeeb Ur Rahman  AFG   \n",
       "1                                          3            Jasprit Bumrah  IND   \n",
       "2                                          4              Chris Woakes  ENG   \n",
       "3                                      5        T...     Kagiso Rabada   SA   \n",
       "4                                      6        T...    Josh Hazlewood  AUS   \n",
       "\n",
       "  Rating  \n",
       "0    701  \n",
       "1    700  \n",
       "2    675  \n",
       "3    665  \n",
       "4    660  "
      ]
     },
     "execution_count": 24,
     "metadata": {},
     "output_type": "execute_result"
    }
   ],
   "source": [
    "df_bowler = pd.DataFrame(data=all_rows_bowler,columns=headings_bowler)\n",
    "df_bowler.head()"
   ]
  },
  {
   "cell_type": "code",
   "execution_count": null,
   "metadata": {},
   "outputs": [],
   "source": []
  }
 ],
 "metadata": {
  "kernelspec": {
   "display_name": "Python 3",
   "language": "python",
   "name": "python3"
  },
  "language_info": {
   "codemirror_mode": {
    "name": "ipython",
    "version": 3
   },
   "file_extension": ".py",
   "mimetype": "text/x-python",
   "name": "python",
   "nbconvert_exporter": "python",
   "pygments_lexer": "ipython3",
   "version": "3.8.3"
  }
 },
 "nbformat": 4,
 "nbformat_minor": 4
}
