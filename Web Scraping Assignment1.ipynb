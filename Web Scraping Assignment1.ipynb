{
 "cells": [
  {
   "cell_type": "markdown",
   "metadata": {},
   "source": [
    "# 1.Display Header Tags"
   ]
  },
  {
   "cell_type": "code",
   "execution_count": null,
   "metadata": {},
   "outputs": [],
   "source": [
    "#pip install beautifulsoup4"
   ]
  },
  {
   "cell_type": "code",
   "execution_count": null,
   "metadata": {},
   "outputs": [],
   "source": [
    "from bs4 import BeautifulSoup\n",
    "import requests"
   ]
  },
  {
   "cell_type": "code",
   "execution_count": null,
   "metadata": {},
   "outputs": [],
   "source": [
    "page=requests.get(\"https://en.wikipedia.org/wiki/Main_Page\")"
   ]
  },
  {
   "cell_type": "code",
   "execution_count": null,
   "metadata": {},
   "outputs": [],
   "source": [
    "page.content"
   ]
  },
  {
   "cell_type": "code",
   "execution_count": null,
   "metadata": {},
   "outputs": [],
   "source": [
    "soup=BeautifulSoup(page.content,'html.parser')"
   ]
  },
  {
   "cell_type": "code",
   "execution_count": null,
   "metadata": {},
   "outputs": [],
   "source": [
    "headers=[]"
   ]
  },
  {
   "cell_type": "code",
   "execution_count": null,
   "metadata": {},
   "outputs": [],
   "source": [
    "header_names=soup.find_all('span',class_=\"mw-headline\")\n",
    "header_names[0:50]\n"
   ]
  },
  {
   "cell_type": "code",
   "execution_count": null,
   "metadata": {},
   "outputs": [],
   "source": [
    "for i in header_names:\n",
    "    headers.append(i.get_text().replace(\"\\n\",\"\"))\n",
    "headers[0:16]\n",
    "    "
   ]
  },
  {
   "cell_type": "code",
   "execution_count": null,
   "metadata": {},
   "outputs": [],
   "source": [
    "print(len(headers))"
   ]
  },
  {
   "cell_type": "markdown",
   "metadata": {},
   "source": [
    "# 2.Top Rated Movies Data\n"
   ]
  },
  {
   "cell_type": "code",
   "execution_count": null,
   "metadata": {},
   "outputs": [],
   "source": [
    "from bs4 import BeautifulSoup\n",
    "import requests"
   ]
  },
  {
   "cell_type": "code",
   "execution_count": null,
   "metadata": {},
   "outputs": [],
   "source": [
    "page=requests.get(\"https://www.imdb.com/chart/top/?ref_=nv_mv_250\")"
   ]
  },
  {
   "cell_type": "code",
   "execution_count": null,
   "metadata": {},
   "outputs": [],
   "source": [
    "soup=BeautifulSoup(page.content,'html.parser')"
   ]
  },
  {
   "cell_type": "code",
   "execution_count": null,
   "metadata": {},
   "outputs": [],
   "source": [
    "movie_names=[]\n",
    "movies_rating=[]\n",
    "movies_release=[]"
   ]
  },
  {
   "cell_type": "code",
   "execution_count": null,
   "metadata": {},
   "outputs": [],
   "source": [
    "tb = soup.find('tbody', class_='lister-list')\n",
    "tb"
   ]
  },
  {
   "cell_type": "code",
   "execution_count": null,
   "metadata": {},
   "outputs": [],
   "source": [
    "for link in tb.find_all('td',class_=\"titleColumn\"):\n",
    "    name = link.find('a')\n",
    "    print(name.text)  "
   ]
  },
  {
   "cell_type": "code",
   "execution_count": null,
   "metadata": {},
   "outputs": [],
   "source": [
    "for i in tb.find_all('td',class_=\"titleColumn\"):\n",
    "    name = i.find('a')\n",
    "    movie_names.append(name.get_text().replace(\"\\n\",\"\"))\n",
    "movie_names[0:100]\n"
   ]
  },
  {
   "cell_type": "code",
   "execution_count": null,
   "metadata": {},
   "outputs": [],
   "source": [
    "movie_rating=soup.find_all('span',class_=\"secondaryInfo\")\n",
    "movie_rating[0:100]"
   ]
  },
  {
   "cell_type": "code",
   "execution_count": null,
   "metadata": {},
   "outputs": [],
   "source": [
    "for i in movie_rating:\n",
    "    movies_rating.append(i.get_text().replace(\"\\n\",\"\"))\n",
    "movies_rating[0:100]"
   ]
  },
  {
   "cell_type": "code",
   "execution_count": null,
   "metadata": {},
   "outputs": [],
   "source": [
    "movie_year=soup.find_all('td',class_=\"ratingColumn imdbRating\")\n",
    "movie_year[0:100]"
   ]
  },
  {
   "cell_type": "code",
   "execution_count": null,
   "metadata": {},
   "outputs": [],
   "source": [
    "for i in movie_year:\n",
    "    movies_release.append(i.get_text().replace(\"\\n\",\"\"))\n",
    "movies_release[0:100]"
   ]
  },
  {
   "cell_type": "code",
   "execution_count": null,
   "metadata": {},
   "outputs": [],
   "source": [
    "print(len(movie_names),len(movies_rating),len(movies_release))"
   ]
  },
  {
   "cell_type": "code",
   "execution_count": null,
   "metadata": {},
   "outputs": [],
   "source": [
    "import pandas as pd\n",
    "movies_data=pd.DataFrame({})\n",
    "movies_data['name']=movie_names\n",
    "movies_data['rating']=movies_rating\n",
    "movies_data['release']=movies_release\n",
    "movies_data\n",
    "movies_data.to_csv('movie_data.csv', index=False, encoding='utf-8')"
   ]
  },
  {
   "cell_type": "markdown",
   "metadata": {},
   "source": [
    "# 3.Top Rated Indian Movies\n"
   ]
  },
  {
   "cell_type": "code",
   "execution_count": null,
   "metadata": {},
   "outputs": [],
   "source": [
    "from bs4 import BeautifulSoup\n",
    "import requests"
   ]
  },
  {
   "cell_type": "code",
   "execution_count": null,
   "metadata": {},
   "outputs": [],
   "source": [
    "page=requests.get(\"https://www.imdb.com/india/top-rated-indian-movies/?pf_rd_m=A2FGELUUNOQJNL&pf_rd_p=8a7876cd-2844-4017-846a-2c0876945b7b&pf_rd_r=QYN4AGEBE4SZ1CTS6J65&pf_rd_s=right-5&pf_rd_t=15506&pf_rd_i=top&ref_=chttp_india_tr_rhs_1\")"
   ]
  },
  {
   "cell_type": "code",
   "execution_count": null,
   "metadata": {},
   "outputs": [],
   "source": [
    "soup=BeautifulSoup(page.content,'html.parser')"
   ]
  },
  {
   "cell_type": "code",
   "execution_count": null,
   "metadata": {},
   "outputs": [],
   "source": [
    "ind_movie_names=[]\n",
    "ind_movies_rating=[]\n",
    "ind_movies_release=[]"
   ]
  },
  {
   "cell_type": "code",
   "execution_count": null,
   "metadata": {},
   "outputs": [],
   "source": [
    "tb = soup.find('tbody', class_='lister-list')\n",
    "tb"
   ]
  },
  {
   "cell_type": "code",
   "execution_count": null,
   "metadata": {},
   "outputs": [],
   "source": [
    "for i in tb.find_all('td',class_=\"titleColumn\"):\n",
    "    name = i.find('a')\n",
    "    ind_movie_names.append(name.get_text().replace(\"\\n\",\"\"))\n",
    "ind_movie_names[0:100]"
   ]
  },
  {
   "cell_type": "code",
   "execution_count": null,
   "metadata": {},
   "outputs": [],
   "source": [
    "indmovie_rating=soup.find_all('span',class_=\"secondaryInfo\")\n",
    "indmovie_rating[0:100]"
   ]
  },
  {
   "cell_type": "code",
   "execution_count": null,
   "metadata": {},
   "outputs": [],
   "source": [
    "for i in indmovie_rating:\n",
    "    ind_movies_rating.append(i.get_text().replace(\"\\n\",\"\"))\n",
    "ind_movies_rating[0:100]"
   ]
  },
  {
   "cell_type": "code",
   "execution_count": null,
   "metadata": {},
   "outputs": [],
   "source": [
    "indmovie_year=soup.find_all('td',class_=\"ratingColumn imdbRating\")\n",
    "indmovie_year[0:100]"
   ]
  },
  {
   "cell_type": "code",
   "execution_count": null,
   "metadata": {},
   "outputs": [],
   "source": [
    "for i in indmovie_year:\n",
    "    ind_movies_release.append(i.get_text().replace(\"\\n\",\"\"))\n",
    "ind_movies_release[0:100]"
   ]
  },
  {
   "cell_type": "code",
   "execution_count": null,
   "metadata": {},
   "outputs": [],
   "source": [
    "print(len(ind_movie_names),len(ind_movies_rating),len(ind_movies_release))"
   ]
  },
  {
   "cell_type": "code",
   "execution_count": null,
   "metadata": {},
   "outputs": [],
   "source": [
    "import pandas as pd\n",
    "movies_data=pd.DataFrame({})\n",
    "movies_data['name']=ind_movie_names\n",
    "movies_data['rating']=ind_movies_rating\n",
    "movies_data['release']=ind_movies_release\n",
    "movies_data\n",
    "movies_data.to_csv('India_Movie_Data.csv', index=False, encoding='utf-8')"
   ]
  },
  {
   "cell_type": "markdown",
   "metadata": {},
   "source": [
    "# 5.Book Data "
   ]
  },
  {
   "cell_type": "code",
   "execution_count": null,
   "metadata": {},
   "outputs": [],
   "source": [
    "from bs4 import BeautifulSoup\n",
    "import requests"
   ]
  },
  {
   "cell_type": "code",
   "execution_count": null,
   "metadata": {},
   "outputs": [],
   "source": [
    "page=requests.get(\"https://bookpage.com/reviews\")"
   ]
  },
  {
   "cell_type": "code",
   "execution_count": null,
   "metadata": {},
   "outputs": [],
   "source": [
    "soup=BeautifulSoup(page.content,'html.parser')"
   ]
  },
  {
   "cell_type": "code",
   "execution_count": null,
   "metadata": {},
   "outputs": [],
   "source": [
    "books_names=[]\n",
    "books_author=[]\n",
    "books_review=[]\n",
    "books_genre=[]"
   ]
  },
  {
   "cell_type": "code",
   "execution_count": null,
   "metadata": {},
   "outputs": [],
   "source": [
    "names=soup.find_all('h4',class_=\"italic\")\n",
    "names"
   ]
  },
  {
   "cell_type": "code",
   "execution_count": null,
   "metadata": {},
   "outputs": [],
   "source": [
    "for i in names:\n",
    "    books_names.append(i.get_text().replace(\"\\n\",\"\"))\n",
    "books_names[0:5]\n"
   ]
  },
  {
   "cell_type": "code",
   "execution_count": null,
   "metadata": {},
   "outputs": [],
   "source": [
    "authors=soup.find_all('p',class_=\"sans bold\")\n",
    "authors"
   ]
  },
  {
   "cell_type": "code",
   "execution_count": null,
   "metadata": {},
   "outputs": [],
   "source": [
    "for i in authors:\n",
    "    books_author.append(i.get_text().replace(\"\\n\",\"\"))\n",
    "books_author[0:5]"
   ]
  },
  {
   "cell_type": "code",
   "execution_count": null,
   "metadata": {},
   "outputs": [],
   "source": [
    "genre=soup.find_all('p',class_=\"genre-links hidden-phone\")\n",
    "genre"
   ]
  },
  {
   "cell_type": "code",
   "execution_count": null,
   "metadata": {},
   "outputs": [],
   "source": [
    "for i in genre:\n",
    "    books_genre.append(i.get_text().replace(\"\\n\",\"\"))\n",
    "books_genre[0:5]"
   ]
  },
  {
   "cell_type": "code",
   "execution_count": null,
   "metadata": {},
   "outputs": [],
   "source": [
    "urls = []\n",
    "for h in soup.find_all('div'):\n",
    "    urls.append(h.find('a').attrs['href'])"
   ]
  },
  {
   "cell_type": "code",
   "execution_count": null,
   "metadata": {},
   "outputs": [],
   "source": [
    "for a in soup.find_all('a', href=True):\n",
    "    print (\"Found the URL:\", a['href'])"
   ]
  },
  {
   "cell_type": "code",
   "execution_count": null,
   "metadata": {},
   "outputs": [],
   "source": [
    "for i in tb.find_all('td',class_=\"titleColumn\"):\n",
    "    name = i.find('a')\n",
    "    ind_movie_names.append(name.get_text().replace(\"\\n\",\"\"))\n",
    "ind_movie_names[0:100]"
   ]
  },
  {
   "cell_type": "code",
   "execution_count": null,
   "metadata": {},
   "outputs": [],
   "source": [
    "all_links = []\n",
    "\n",
    "# Extract and store in top_items according to instructions on the left\n",
    "links = soup.select('row-fluid article-row')\n",
    "for ahref in links:\n",
    "    text = ahref.text\n",
    "    text = text.strip() if text is not None else ''\n",
    "\n",
    "    href = ahref.get('href')\n",
    "    href = href.strip() if href is not None else ''\n",
    "    all_links.append({\"href\": href, \"text\": text})\n",
    "\n",
    "print(all_links)"
   ]
  },
  {
   "cell_type": "code",
   "execution_count": null,
   "metadata": {},
   "outputs": [],
   "source": [
    "tb = soup.find('div', class_='container-fluid')\n",
    "tb"
   ]
  },
  {
   "cell_type": "code",
   "execution_count": null,
   "metadata": {},
   "outputs": [],
   "source": [
    "review=soup.find_all('div',class_=\"row-fluid article-row\")\n",
    "genre"
   ]
  },
  {
   "cell_type": "code",
   "execution_count": null,
   "metadata": {},
   "outputs": [],
   "source": [
    "for i in review:\n",
    "    books_review.append(i.get_text().replace(\"\\n\",\"\"))\n",
    "books_review"
   ]
  },
  {
   "cell_type": "code",
   "execution_count": null,
   "metadata": {},
   "outputs": [],
   "source": [
    "import pandas as pd\n",
    "books_data=pd.DataFrame({})\n",
    "books_data['name']=books_names\n",
    "books_data['author']=books_author\n",
    "books_data['genre']=books_genre\n",
    "books_data['reviews']=books_review\n",
    "books_data"
   ]
  },
  {
   "cell_type": "markdown",
   "metadata": {},
   "source": [
    "# 5.ICC Rating-Men"
   ]
  },
  {
   "cell_type": "code",
   "execution_count": null,
   "metadata": {},
   "outputs": [],
   "source": [
    "from bs4 import BeautifulSoup\n",
    "import requests\n",
    "import pandas as pd\n",
    "import re"
   ]
  },
  {
   "cell_type": "code",
   "execution_count": null,
   "metadata": {},
   "outputs": [],
   "source": [
    "page=requests.get(\"https://www.icc-cricket.com/rankings/mens/team-rankings/odi\")"
   ]
  },
  {
   "cell_type": "code",
   "execution_count": null,
   "metadata": {},
   "outputs": [],
   "source": [
    "soup=BeautifulSoup(page.content,'html.parser')"
   ]
  },
  {
   "cell_type": "code",
   "execution_count": null,
   "metadata": {},
   "outputs": [],
   "source": [
    "soup.find('span', class_=\"circle-branding circle-branding--top\").decompose()\n",
    "soup.find('span', class_=\"circle-branding circle-branding--bottom\").decompose()\n",
    "\n",
    "\n",
    "#soup.find('th', class_=\"table-head__cell u-text-right\").decompose()"
   ]
  },
  {
   "cell_type": "code",
   "execution_count": null,
   "metadata": {},
   "outputs": [],
   "source": [
    "ToptenTeam=[]\n",
    "Matches=[]\n",
    "Points=[]\n",
    "Ratings=[]"
   ]
  },
  {
   "cell_type": "code",
   "execution_count": null,
   "metadata": {},
   "outputs": [],
   "source": [
    "teams=soup.find_all('span',class_=\"u-hide-phablet\")\n",
    "teams"
   ]
  },
  {
   "cell_type": "code",
   "execution_count": null,
   "metadata": {},
   "outputs": [],
   "source": [
    "for i in teams:\n",
    "    ToptenTeam.append(i.get_text().replace(\"\\n\",\"\"))\n",
    "ToptenTeam[0:10]"
   ]
  },
  {
   "cell_type": "code",
   "execution_count": null,
   "metadata": {},
   "outputs": [],
   "source": [
    "gdp = soup.find_all(\"table\", attrs={\"class\": \"table\"})\n",
    "print(\"Number of tables on site: \",len(gdp))"
   ]
  },
  {
   "cell_type": "code",
   "execution_count": null,
   "metadata": {},
   "outputs": [],
   "source": [
    "table1 = gdp[0]\n",
    "\n",
    "body = table1.find_all(\"tr\")\n",
    "\n",
    "head = body[0] \n",
    "body_rows = body[1:] \n",
    "\n",
    "\n",
    "headings = []\n",
    "for item in head.find_all(\"th\"):\n",
    "    item = (item.text).rstrip(\"\\n\")\n",
    "   \n",
    "    headings.append(item)\n",
    "print(headings)"
   ]
  },
  {
   "cell_type": "code",
   "execution_count": null,
   "metadata": {},
   "outputs": [],
   "source": [
    "all_rows = [] \n",
    "for row_num in range(len(body_rows)):\n",
    "    row = [] \n",
    "    for row_item in body_rows[row_num].find_all(\"td\"): \n",
    "        aa = re.sub(\"(\\xa0)|(\\n)|,\",\"\",row_item.text)\n",
    "       \n",
    "        row.append(aa)\n",
    "    \n",
    "    all_rows.append(row)"
   ]
  },
  {
   "cell_type": "code",
   "execution_count": null,
   "metadata": {},
   "outputs": [],
   "source": [
    "df = pd.DataFrame(data=all_rows,columns=headings)\n",
    "df[0:10]"
   ]
  },
  {
   "cell_type": "code",
   "execution_count": null,
   "metadata": {},
   "outputs": [],
   "source": [
    "page1=requests.get(\"https://www.icc-cricket.com/rankings/mens/player-rankings/odi\")"
   ]
  },
  {
   "cell_type": "code",
   "execution_count": null,
   "metadata": {},
   "outputs": [],
   "source": [
    "page1.content\n"
   ]
  },
  {
   "cell_type": "code",
   "execution_count": null,
   "metadata": {},
   "outputs": [],
   "source": [
    "soup=BeautifulSoup(page1.content,'html.parser')"
   ]
  },
  {
   "cell_type": "code",
   "execution_count": null,
   "metadata": {},
   "outputs": [],
   "source": [
    "header_names=soup.find_all('div',class_=\"rankings-block__container\")\n",
    "header_names[0:3]\n",
    "\n"
   ]
  },
  {
   "cell_type": "code",
   "execution_count": null,
   "metadata": {},
   "outputs": [],
   "source": [
    "gdp1 = soup.find_all(\"table\", attrs={\"class\": \"table\"})\n",
    "print(\"Number of tables on site: \",len(gdp1))"
   ]
  },
  {
   "cell_type": "code",
   "execution_count": null,
   "metadata": {},
   "outputs": [],
   "source": [
    "table1 = gdp1[0]\n",
    "\n",
    "body = table1.find_all([\"tr\",\"div\"])\n",
    "\n",
    "head = body[0] \n",
    "body_rows = body[1:] \n",
    "\n",
    "\n",
    "headings_batsmen = []\n",
    "for item in head.find_all(\"th\"):\n",
    "    item = (item.text).rstrip(\"\\n\")\n",
    "   \n",
    "    headings_batsmen.append(item)\n",
    "print(headings_batsmen)"
   ]
  },
  {
   "cell_type": "code",
   "execution_count": null,
   "metadata": {},
   "outputs": [],
   "source": [
    "all_rows_batsmen = []\n",
    "header_names=soup.find_all('div',class_=\"rankings-block__banner--name\")\n",
    "header_nat=soup.find_all('div',class_=\"rankings-block__banner--nationality\")\n",
    "header_rating=soup.find_all('div',class_=\"rankings-block__banner--rating\")\n",
    "a = (\"1\",header_names[0].text.replace(\"\\n\",\"\"),header_nat[0].text.replace(\"\\n\",\"\"),header_rating[0].text)\n",
    "all_rows_batsmen.append(a)\n",
    "\n",
    "for row_num in range(len(body_rows)):\n",
    "    row = [] \n",
    "    for row_item in body_rows[row_num].find_all(\"td\"): \n",
    "        aa = re.sub(\"(\\xa0)|(\\n)|,\",\"\",row_item.text)\n",
    "       \n",
    "        row.append(aa)\n",
    "    \n",
    "    all_rows_batsmen.append(row)"
   ]
  },
  {
   "cell_type": "code",
   "execution_count": null,
   "metadata": {},
   "outputs": [],
   "source": [
    "df_batsmen = pd.DataFrame(data=all_rows_batsmen,columns=headings_batsmen)\n",
    "df_batsmen[0:10]"
   ]
  },
  {
   "cell_type": "code",
   "execution_count": null,
   "metadata": {},
   "outputs": [],
   "source": [
    "page2=requests.get(\"https://www.icc-cricket.com/rankings/mens/player-rankings/odi/bowling\")"
   ]
  },
  {
   "cell_type": "code",
   "execution_count": null,
   "metadata": {},
   "outputs": [],
   "source": [
    "soup1=BeautifulSoup(page2.content,'html.parser')"
   ]
  },
  {
   "cell_type": "code",
   "execution_count": null,
   "metadata": {},
   "outputs": [],
   "source": [
    "gdp2=soup.find_all('table',class_=\"table\")\n",
    "print(gdp2[1])\n",
    "print(gdp2[2])\n",
    "print(gdp2[3])\n",
    "\n",
    "#print(\"Number of tables on site: \",len(gdp2))"
   ]
  },
  {
   "cell_type": "code",
   "execution_count": null,
   "metadata": {},
   "outputs": [],
   "source": [
    "table1 = gdp2[1]\n",
    "\n",
    "body = table1.find_all([\"tr\",\"div\"])\n",
    "\n",
    "head = body[0] \n",
    "body_rows = body[1:] \n",
    "\n",
    "\n",
    "headings_bowler = []\n",
    "for item in head.find_all(\"th\"):\n",
    "    item = (item.text).rstrip(\"\\n\")\n",
    "   \n",
    "    headings_bowler.append(item)\n",
    "\n",
    "print(headings_bowler)"
   ]
  },
  {
   "cell_type": "code",
   "execution_count": null,
   "metadata": {},
   "outputs": [],
   "source": [
    "all_rows_bow = []\n",
    "\n",
    "header_names=soup1.find_all('div',class_=\"rankings-block__banner--name\")\n",
    "header_nat=soup1.find_all('div',class_=\"rankings-block__banner--nationality\")\n",
    "header_rating=soup1.find_all('div',class_=\"rankings-block__banner--rating\")\n",
    "a = (\"1\",header_names[0].text.replace(\"\\n\",\"\"),header_nat[0].text.replace(\"\\n\",\"\"))\n",
    "all_rows_bow.append(a)\n",
    "\n",
    "for row_num in range(len(body_rows)):\n",
    "    row = [] \n",
    "    for row_item in body_rows[row_num].find_all(\"td\"): \n",
    "        aa = re.sub(\"(\\xa0)|(\\n)|,\",\"\",row_item.text)\n",
    "       \n",
    "        row.append(aa)\n",
    "    \n",
    "    all_rows_bow.append(row)"
   ]
  },
  {
   "cell_type": "code",
   "execution_count": null,
   "metadata": {},
   "outputs": [],
   "source": [
    "#headings_bowler.remove('Career Best Rating')\n",
    "df_bowler = pd.DataFrame(data=all_rows_bow,columns=headings_bowler)\n",
    "#dataframe_output = pd.DataFrame(tagged, columns=['Output', 'temp'])\n",
    "df_bowler[0:10]"
   ]
  },
  {
   "cell_type": "markdown",
   "metadata": {},
   "source": [
    "# 6.ODI Ranking Women"
   ]
  },
  {
   "cell_type": "code",
   "execution_count": null,
   "metadata": {},
   "outputs": [],
   "source": [
    "from bs4 import BeautifulSoup\n",
    "import requests\n",
    "import pandas as pd\n",
    "import re"
   ]
  },
  {
   "cell_type": "code",
   "execution_count": null,
   "metadata": {},
   "outputs": [],
   "source": [
    "page=requests.get(\"https://www.icc-cricket.com/rankings/womens/team-rankings/odi\")"
   ]
  },
  {
   "cell_type": "code",
   "execution_count": null,
   "metadata": {},
   "outputs": [],
   "source": [
    "soup=BeautifulSoup(page.content,'html.parser')"
   ]
  },
  {
   "cell_type": "code",
   "execution_count": null,
   "metadata": {},
   "outputs": [],
   "source": [
    "soup.find('span', class_=\"circle-branding circle-branding--top\").decompose()\n",
    "soup.find('span', class_=\"circle-branding circle-branding--bottom\").decompose()\n",
    "#soup.find('th', class_=\"table-head__cell u-text-right\").decompose()"
   ]
  },
  {
   "cell_type": "code",
   "execution_count": null,
   "metadata": {},
   "outputs": [],
   "source": [
    "ToptenTeam=[]\n",
    "Matches=[]\n",
    "Points=[]\n",
    "Ratings=[]"
   ]
  },
  {
   "cell_type": "code",
   "execution_count": null,
   "metadata": {},
   "outputs": [],
   "source": [
    "teams=soup.find_all('span',class_=\"u-hide-phablet\")\n",
    "teams\n"
   ]
  },
  {
   "cell_type": "code",
   "execution_count": null,
   "metadata": {},
   "outputs": [],
   "source": [
    "for i in teams:\n",
    "    ToptenTeam.append(i.get_text().replace(\"\\n\",\"\"))\n",
    "ToptenTeam[0:10]\n",
    "    "
   ]
  },
  {
   "cell_type": "code",
   "execution_count": null,
   "metadata": {},
   "outputs": [],
   "source": [
    "gdp = soup.find_all(\"table\", attrs={\"class\": \"table\"})\n",
    "print(\"Number of tables on site: \",len(gdp))"
   ]
  },
  {
   "cell_type": "code",
   "execution_count": null,
   "metadata": {},
   "outputs": [],
   "source": [
    "table1 = gdp[0]\n",
    "\n",
    "body = table1.find_all(\"tr\")\n",
    "\n",
    "head = body[0] \n",
    "body_rows = body[1:] \n",
    "\n",
    "\n",
    "headings = []\n",
    "for item in head.find_all(\"th\"):\n",
    "    item = (item.text).rstrip(\"\\n\")\n",
    "   \n",
    "    headings.append(item)\n",
    "print(headings)"
   ]
  },
  {
   "cell_type": "code",
   "execution_count": null,
   "metadata": {},
   "outputs": [],
   "source": [
    "all_rows = [] \n",
    "for row_num in range(len(body_rows)):\n",
    "    row = [] \n",
    "    for row_item in body_rows[row_num].find_all(\"td\"): \n",
    "        aa = re.sub(\"(\\xa0)|(\\n)|,\",\"\",row_item.text)\n",
    "       \n",
    "        row.append(aa)\n",
    "    \n",
    "    all_rows.append(row)"
   ]
  },
  {
   "cell_type": "code",
   "execution_count": null,
   "metadata": {},
   "outputs": [],
   "source": [
    "df = pd.DataFrame(data=all_rows,columns=headings)\n",
    "df[0:10]"
   ]
  },
  {
   "cell_type": "code",
   "execution_count": null,
   "metadata": {},
   "outputs": [],
   "source": [
    "page1=requests.get(\"https://www.icc-cricket.com/rankings/womens/player-rankings/odi\")"
   ]
  },
  {
   "cell_type": "code",
   "execution_count": null,
   "metadata": {},
   "outputs": [],
   "source": [
    "soup=BeautifulSoup(page1.content,'html.parser')"
   ]
  },
  {
   "cell_type": "code",
   "execution_count": null,
   "metadata": {},
   "outputs": [],
   "source": [
    "header_names=soup.find_all('div',class_=\"rankings-block__banner--name\")\n",
    "header_names[0:3]\n",
    "header_nat=soup.find_all('div',class_=\"rankings-block__banner--nationality\")\n",
    "header_nat[0:3]\n",
    "header_rating=soup.find_all('div',class_=\"rankings-block__banner--rating\")\n",
    "header_rating[0:3]"
   ]
  },
  {
   "cell_type": "code",
   "execution_count": null,
   "metadata": {},
   "outputs": [],
   "source": [
    "gdp1 = soup.find_all(\"table\", attrs={\"class\": \"table\"})\n",
    "print(\"Number of tables on site: \",len(gdp1))"
   ]
  },
  {
   "cell_type": "code",
   "execution_count": null,
   "metadata": {},
   "outputs": [],
   "source": [
    "table1 = gdp1[0]\n",
    "\n",
    "body = table1.find_all(\"tr\")\n",
    "\n",
    "head = body[0] \n",
    "body_rows = body[1:] \n",
    "\n",
    "\n",
    "headings_batsmen = []\n",
    "for item in head.find_all(\"th\"):\n",
    "    item = (item.text).rstrip(\"\\n\")\n",
    "   \n",
    "    headings_batsmen.append(item)\n",
    "print(headings_batsmen)"
   ]
  },
  {
   "cell_type": "code",
   "execution_count": null,
   "metadata": {},
   "outputs": [],
   "source": [
    "all_rows_batsmen = []\n",
    "header_names=soup.find_all('div',class_=\"rankings-block__banner--name\")\n",
    "header_nat=soup.find_all('div',class_=\"rankings-block__banner--nationality\")\n",
    "header_rating=soup.find_all('div',class_=\"rankings-block__banner--rating\")\n",
    "a = (\"1\",header_names[0].text.replace(\"\\n\",\"\"),header_nat[0].text.replace(\"\\n\",\"\"),header_rating[0].text)\n",
    "all_rows_batsmen.append(a)\n",
    "\n",
    "for row_num in range(len(body_rows)):\n",
    "    row = [] \n",
    "    for row_item in body_rows[row_num].find_all(\"td\"): \n",
    "        aa = re.sub(\"(\\xa0)|(\\n)|,\",\"\",row_item.text)\n",
    "       \n",
    "        row.append(aa)\n",
    "    \n",
    "    all_rows_batsmen.append(row)"
   ]
  },
  {
   "cell_type": "code",
   "execution_count": null,
   "metadata": {},
   "outputs": [],
   "source": [
    "df_batsmen = pd.DataFrame(data=all_rows_batsmen,columns=headings_batsmen)\n",
    "df_batsmen[0:10]"
   ]
  },
  {
   "cell_type": "code",
   "execution_count": null,
   "metadata": {},
   "outputs": [],
   "source": [
    "page2=requests.get(\"https://www.icc-cricket.com/rankings/womens/player-rankings/odi/bowling\")"
   ]
  },
  {
   "cell_type": "code",
   "execution_count": null,
   "metadata": {},
   "outputs": [],
   "source": [
    "soup1=BeautifulSoup(page2.content,'html.parser')"
   ]
  },
  {
   "cell_type": "code",
   "execution_count": null,
   "metadata": {},
   "outputs": [],
   "source": [
    "table1 = gdp2[1]\n",
    "\n",
    "body = table1.find_all([\"tr\",\"div\"])\n",
    "\n",
    "head = body[0] \n",
    "body_rows = body[1:] \n",
    "\n",
    "\n",
    "headings_bowler = []\n",
    "for item in head.find_all(\"th\"):\n",
    "    item = (item.text).rstrip(\"\\n\")\n",
    "   \n",
    "    headings_bowler.append(item)\n",
    "\n",
    "print(headings_bowler)"
   ]
  },
  {
   "cell_type": "code",
   "execution_count": null,
   "metadata": {},
   "outputs": [],
   "source": [
    "all_rows_bow = []\n",
    "\n",
    "header_names=soup1.find_all('div',class_=\"rankings-block__banner--name\")\n",
    "header_nat=soup1.find_all('div',class_=\"rankings-block__banner--nationality\")\n",
    "header_rating=soup1.find_all('div',class_=\"rankings-block__banner--rating\")\n",
    "a = (\"1\",header_names[0].text.replace(\"\\n\",\"\"),header_nat[0].text.replace(\"\\n\",\"\"))\n",
    "all_rows_bow.append(a)\n",
    "\n",
    "for row_num in range(len(body_rows)):\n",
    "    row = [] \n",
    "    for row_item in body_rows[row_num].find_all(\"td\"): \n",
    "        aa = re.sub(\"(\\xa0)|(\\n)|,\",\"\",row_item.text)\n",
    "       \n",
    "        row.append(aa)\n",
    "    \n",
    "    all_rows_bow.append(row)"
   ]
  },
  {
   "cell_type": "code",
   "execution_count": null,
   "metadata": {},
   "outputs": [],
   "source": [
    "df_bowler = pd.DataFrame(data=all_rows_bow,columns=headings_bowler)\n",
    "df_bowler.head()"
   ]
  },
  {
   "cell_type": "markdown",
   "metadata": {},
   "source": [
    "# 7. amzone reviews"
   ]
  },
  {
   "cell_type": "code",
   "execution_count": null,
   "metadata": {},
   "outputs": [],
   "source": [
    "from bs4 import BeautifulSoup\n",
    "import requests"
   ]
  },
  {
   "cell_type": "code",
   "execution_count": null,
   "metadata": {},
   "outputs": [],
   "source": [
    "page=requests.get(\"https://www.amazon.in/s?bbn=1389401031&rh=n%3A976419031%2Cn%3A1389401031%2Cn%3A1389432031&dc&qid=1610902278&rnid=1389401031&ref=lp_1389401031_nr_n_2\")"
   ]
  },
  {
   "cell_type": "code",
   "execution_count": null,
   "metadata": {},
   "outputs": [],
   "source": [
    "soup=BeautifulSoup(page.content,'html.parser')"
   ]
  },
  {
   "cell_type": "code",
   "execution_count": null,
   "metadata": {},
   "outputs": [],
   "source": [
    "prices=[]\n",
    "Pname=[]\n",
    "Ratings=[]\n",
    "Link=[]"
   ]
  },
  {
   "cell_type": "code",
   "execution_count": null,
   "metadata": {},
   "outputs": [],
   "source": [
    "header_names=soup.find_all('span',class_=\"a-price-whole\")\n",
    "header_names"
   ]
  },
  {
   "cell_type": "code",
   "execution_count": null,
   "metadata": {},
   "outputs": [],
   "source": [
    "for i in header_names:\n",
    "    prices.append(i.get_text().replace(\".\",\"\"))\n",
    "prices[0:12]"
   ]
  },
  {
   "cell_type": "code",
   "execution_count": null,
   "metadata": {},
   "outputs": [],
   "source": [
    "product_rating=soup.find_all('span',class_=\"a-size-mini a-color-tertiary\")\n",
    "product_rating[0:50]"
   ]
  },
  {
   "cell_type": "code",
   "execution_count": null,
   "metadata": {},
   "outputs": [],
   "source": [
    "for i in product_rating:\n",
    "    Ratings.append(i.get_text().replace(\"\\n\",\"\"))\n",
    "product_rating[0:16]"
   ]
  },
  {
   "cell_type": "code",
   "execution_count": null,
   "metadata": {},
   "outputs": [],
   "source": [
    "product_link=soup.find_all('a',class_=\"a-link-normal octopus-pc-item-link\")\n",
    "product_link[0:50]"
   ]
  },
  {
   "cell_type": "code",
   "execution_count": null,
   "metadata": {},
   "outputs": [],
   "source": [
    "for i in product_link:\n",
    "    Link.append(i.get_text().replace(\"\\n\",\"\"))\n",
    "Link[0:16]"
   ]
  },
  {
   "cell_type": "code",
   "execution_count": null,
   "metadata": {},
   "outputs": [],
   "source": [
    "product_name=soup.find_all('div',class_=\"a-section octopus-pc-asin-title\")roduct_name[0:50]"
   ]
  },
  {
   "cell_type": "code",
   "execution_count": null,
   "metadata": {},
   "outputs": [],
   "source": [
    "for i in product_name:\n",
    "    Pname.append(i.get_text().replace(\"\\n\",\"\"))\n",
    "Pname[0:16]"
   ]
  },
  {
   "cell_type": "code",
   "execution_count": null,
   "metadata": {},
   "outputs": [],
   "source": [
    "import pandas as pd\n",
    "mobile_data=pd.DataFrame({})\n",
    "mobile_data['Name']=Pname\n",
    "mobile_data['Price']=prices\n",
    "mobile_data['Rating']=Ratings\n",
    "mobile_data['Link']=link\n",
    "\n",
    "headers_data"
   ]
  },
  {
   "cell_type": "markdown",
   "metadata": {},
   "source": [
    "# 10. Data Scientiest job listing"
   ]
  },
  {
   "cell_type": "code",
   "execution_count": null,
   "metadata": {},
   "outputs": [],
   "source": [
    "import requests\n",
    "from bs4 import BeautifulSoup\n",
    "pages = [str(i) for i in range(1,5)]\n",
    "years_url = [str(i) for i in range(2000,2018)]\n",
    "baseurl='https://www.monster.com/jobs/search/?q=data-scientist&where=New Delhi'\n",
    "degrees = [2, 3, 4, 5]\n",
    "for i in degrees:\n",
    "    first_url = 'https://www.monster.com/jobs/search/?q=data-scientist&where=New Delhi'+ '&stpage=1&page='+str(i)\n",
    "print(first_url)\n",
    "response = requests.get(first_url)\n",
    "soup = BeautifulSoup(response.text, 'html.parser')\n",
    "all_listings = soup.find_all('section', attrs={'data-jobid': True})\n",
    "ids = [item['data-jobid'] for item in all_listings]\n",
    "loc_strings = list()\n",
    "for x in all_listings:\n",
    "    loc_string = x.find('div', attrs={'class': 'location'}).find('span', attrs={'class': 'name'}).text.strip()\n",
    "    \n",
    "    if ',' in loc_string:\n",
    "        city, state = [a.strip() for a in loc_string.split(',')]\n",
    "        state = state[:2]  # two-letter state format\n",
    "        loc_strings.append(', '.join([city, state]))\n",
    "    else:\n",
    "        loc_strings.append('')\n",
    "    \n",
    "companies = [x.find('div', attrs={'class': 'company'}).find('span', attrs={'class': 'name'}).text.strip()\n",
    "             for x in all_listings]\n",
    "\n",
    "job_titles = [x.find('h2', attrs={'class': 'title'}).find('a', href=True).string.strip() for x in all_listings]\n",
    "\n",
    "print(job_titles[0])\n",
    "print(companies[0])\n",
    "print(loc_strings[0])\n",
    "i += 1"
   ]
  }
 ],
 "metadata": {
  "kernelspec": {
   "display_name": "Python 3",
   "language": "python",
   "name": "python3"
  },
  "language_info": {
   "codemirror_mode": {
    "name": "ipython",
    "version": 3
   },
   "file_extension": ".py",
   "mimetype": "text/x-python",
   "name": "python",
   "nbconvert_exporter": "python",
   "pygments_lexer": "ipython3",
   "version": "3.8.3"
  }
 },
 "nbformat": 4,
 "nbformat_minor": 4
}
